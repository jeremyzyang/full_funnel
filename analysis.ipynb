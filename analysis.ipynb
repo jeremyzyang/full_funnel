{
 "cells": [
  {
   "cell_type": "markdown",
   "id": "26e61dbd-9f86-4587-89b6-d9b61f2f3362",
   "metadata": {},
   "source": [
    "### this notebook (analysis.ipynb) contains R code that analyzes the data from the simulation \n",
    "### it answers the following questions\n",
    "### 1. what are the effect of different ad campaigns on purchase probability and sales?\n",
    "### 2. how does ad type affects funnel progression?\n",
    "### 3. how does ad type affects purchase probability and sales for users in the purchase stage?\n",
    "### 4. what are the ROIs of different ad campaigns \n",
    "### 5. how effective is the full-funnel campaign when funnel stage is predicted with high, medium, and low accuracy?"
   ]
  },
  {
   "cell_type": "code",
   "execution_count": 1,
   "id": "240c29a5-cbe4-41af-997f-99ce2269a124",
   "metadata": {},
   "outputs": [],
   "source": [
    "suppressMessages(library(tidyverse))"
   ]
  },
  {
   "cell_type": "code",
   "execution_count": 2,
   "id": "0c1432f1-a99b-4151-9efa-24a091ba5d12",
   "metadata": {},
   "outputs": [],
   "source": [
    "df = read.csv('data.csv')\n",
    "df = arrange(df, campaign_type, user_id, visit)"
   ]
  },
  {
   "cell_type": "code",
   "execution_count": 3,
   "id": "7274480e-13fb-48cc-af4a-760e5c836599",
   "metadata": {},
   "outputs": [],
   "source": [
    "# control group as the baseline\n",
    "df$campaign_type = as.factor(df$campaign_type)\n",
    "df$campaign_type <- relevel(df$campaign_type, ref = 'control')"
   ]
  },
  {
   "cell_type": "code",
   "execution_count": 4,
   "id": "79d8ecfe-b6e5-405a-82ef-e316b8711930",
   "metadata": {},
   "outputs": [],
   "source": [
    "# no ad as the baseline\n",
    "df$ad_type = as.factor(df$ad_type)\n",
    "df$ad_type <- relevel(df$ad_type, ref = 'none')"
   ]
  },
  {
   "cell_type": "code",
   "execution_count": 5,
   "id": "1a039b21-428d-4afa-a3c9-713da7a55e5e",
   "metadata": {},
   "outputs": [
    {
     "data": {
      "text/html": [
       "<table class=\"dataframe\">\n",
       "<caption>A data.frame: 6 × 9</caption>\n",
       "<thead>\n",
       "\t<tr><th></th><th scope=col>user_id</th><th scope=col>current_funnel_stage</th><th scope=col>next_funnel_stage</th><th scope=col>ad_type</th><th scope=col>purchase</th><th scope=col>sales</th><th scope=col>date</th><th scope=col>campaign_type</th><th scope=col>visit</th></tr>\n",
       "\t<tr><th></th><th scope=col>&lt;int&gt;</th><th scope=col>&lt;chr&gt;</th><th scope=col>&lt;chr&gt;</th><th scope=col>&lt;fct&gt;</th><th scope=col>&lt;int&gt;</th><th scope=col>&lt;int&gt;</th><th scope=col>&lt;chr&gt;</th><th scope=col>&lt;fct&gt;</th><th scope=col>&lt;int&gt;</th></tr>\n",
       "</thead>\n",
       "<tbody>\n",
       "\t<tr><th scope=row>1</th><td>30001</td><td>awareness    </td><td>awareness    </td><td>branding   </td><td>0</td><td>0</td><td>2025-04-26</td><td>brandformance</td><td>1</td></tr>\n",
       "\t<tr><th scope=row>2</th><td>30001</td><td>awareness    </td><td>consideration</td><td>branding   </td><td>0</td><td>0</td><td>2025-04-30</td><td>brandformance</td><td>2</td></tr>\n",
       "\t<tr><th scope=row>3</th><td>30001</td><td>consideration</td><td>consideration</td><td>performance</td><td>0</td><td>0</td><td>2025-05-05</td><td>brandformance</td><td>3</td></tr>\n",
       "\t<tr><th scope=row>4</th><td>30001</td><td>consideration</td><td>consideration</td><td>performance</td><td>0</td><td>0</td><td>2025-05-07</td><td>brandformance</td><td>4</td></tr>\n",
       "\t<tr><th scope=row>5</th><td>30002</td><td>awareness    </td><td>consideration</td><td>branding   </td><td>0</td><td>0</td><td>2025-05-17</td><td>brandformance</td><td>1</td></tr>\n",
       "\t<tr><th scope=row>6</th><td>30002</td><td>consideration</td><td>consideration</td><td>branding   </td><td>0</td><td>0</td><td>2025-05-24</td><td>brandformance</td><td>2</td></tr>\n",
       "</tbody>\n",
       "</table>\n"
      ],
      "text/latex": [
       "A data.frame: 6 × 9\n",
       "\\begin{tabular}{r|lllllllll}\n",
       "  & user\\_id & current\\_funnel\\_stage & next\\_funnel\\_stage & ad\\_type & purchase & sales & date & campaign\\_type & visit\\\\\n",
       "  & <int> & <chr> & <chr> & <fct> & <int> & <int> & <chr> & <fct> & <int>\\\\\n",
       "\\hline\n",
       "\t1 & 30001 & awareness     & awareness     & branding    & 0 & 0 & 2025-04-26 & brandformance & 1\\\\\n",
       "\t2 & 30001 & awareness     & consideration & branding    & 0 & 0 & 2025-04-30 & brandformance & 2\\\\\n",
       "\t3 & 30001 & consideration & consideration & performance & 0 & 0 & 2025-05-05 & brandformance & 3\\\\\n",
       "\t4 & 30001 & consideration & consideration & performance & 0 & 0 & 2025-05-07 & brandformance & 4\\\\\n",
       "\t5 & 30002 & awareness     & consideration & branding    & 0 & 0 & 2025-05-17 & brandformance & 1\\\\\n",
       "\t6 & 30002 & consideration & consideration & branding    & 0 & 0 & 2025-05-24 & brandformance & 2\\\\\n",
       "\\end{tabular}\n"
      ],
      "text/markdown": [
       "\n",
       "A data.frame: 6 × 9\n",
       "\n",
       "| <!--/--> | user_id &lt;int&gt; | current_funnel_stage &lt;chr&gt; | next_funnel_stage &lt;chr&gt; | ad_type &lt;fct&gt; | purchase &lt;int&gt; | sales &lt;int&gt; | date &lt;chr&gt; | campaign_type &lt;fct&gt; | visit &lt;int&gt; |\n",
       "|---|---|---|---|---|---|---|---|---|---|\n",
       "| 1 | 30001 | awareness     | awareness     | branding    | 0 | 0 | 2025-04-26 | brandformance | 1 |\n",
       "| 2 | 30001 | awareness     | consideration | branding    | 0 | 0 | 2025-04-30 | brandformance | 2 |\n",
       "| 3 | 30001 | consideration | consideration | performance | 0 | 0 | 2025-05-05 | brandformance | 3 |\n",
       "| 4 | 30001 | consideration | consideration | performance | 0 | 0 | 2025-05-07 | brandformance | 4 |\n",
       "| 5 | 30002 | awareness     | consideration | branding    | 0 | 0 | 2025-05-17 | brandformance | 1 |\n",
       "| 6 | 30002 | consideration | consideration | branding    | 0 | 0 | 2025-05-24 | brandformance | 2 |\n",
       "\n"
      ],
      "text/plain": [
       "  user_id current_funnel_stage next_funnel_stage ad_type     purchase sales\n",
       "1 30001   awareness            awareness         branding    0        0    \n",
       "2 30001   awareness            consideration     branding    0        0    \n",
       "3 30001   consideration        consideration     performance 0        0    \n",
       "4 30001   consideration        consideration     performance 0        0    \n",
       "5 30002   awareness            consideration     branding    0        0    \n",
       "6 30002   consideration        consideration     branding    0        0    \n",
       "  date       campaign_type visit\n",
       "1 2025-04-26 brandformance 1    \n",
       "2 2025-04-30 brandformance 2    \n",
       "3 2025-05-05 brandformance 3    \n",
       "4 2025-05-07 brandformance 4    \n",
       "5 2025-05-17 brandformance 1    \n",
       "6 2025-05-24 brandformance 2    "
      ]
     },
     "metadata": {},
     "output_type": "display_data"
    }
   ],
   "source": [
    "# inspect the data structure \n",
    "head(df)"
   ]
  },
  {
   "cell_type": "code",
   "execution_count": 6,
   "id": "2a2523bf-44e1-4b3b-8b6c-70032fe88150",
   "metadata": {},
   "outputs": [
    {
     "data": {
      "text/html": [
       "<style>\n",
       ".list-inline {list-style: none; margin:0; padding: 0}\n",
       ".list-inline>li {display: inline-block}\n",
       ".list-inline>li:not(:last-child)::after {content: \"\\00b7\"; padding: 0 .5ex}\n",
       "</style>\n",
       "<ol class=list-inline><li>'awareness'</li><li>'consideration'</li><li>'purchase'</li></ol>\n"
      ],
      "text/latex": [
       "\\begin{enumerate*}\n",
       "\\item 'awareness'\n",
       "\\item 'consideration'\n",
       "\\item 'purchase'\n",
       "\\end{enumerate*}\n"
      ],
      "text/markdown": [
       "1. 'awareness'\n",
       "2. 'consideration'\n",
       "3. 'purchase'\n",
       "\n",
       "\n"
      ],
      "text/plain": [
       "[1] \"awareness\"     \"consideration\" \"purchase\"     "
      ]
     },
     "metadata": {},
     "output_type": "display_data"
    }
   ],
   "source": [
    "# all possible funnel stages\n",
    "unique(as.character(df$current_funnel_stage))"
   ]
  },
  {
   "cell_type": "code",
   "execution_count": 7,
   "id": "5977bdd1-34e3-4ead-89ef-8d5a047403ac",
   "metadata": {},
   "outputs": [
    {
     "data": {
      "text/html": [
       "<style>\n",
       ".list-inline {list-style: none; margin:0; padding: 0}\n",
       ".list-inline>li {display: inline-block}\n",
       ".list-inline>li:not(:last-child)::after {content: \"\\00b7\"; padding: 0 .5ex}\n",
       "</style>\n",
       "<ol class=list-inline><li>'branding'</li><li>'performance'</li><li>'none'</li></ol>\n"
      ],
      "text/latex": [
       "\\begin{enumerate*}\n",
       "\\item 'branding'\n",
       "\\item 'performance'\n",
       "\\item 'none'\n",
       "\\end{enumerate*}\n"
      ],
      "text/markdown": [
       "1. 'branding'\n",
       "2. 'performance'\n",
       "3. 'none'\n",
       "\n",
       "\n"
      ],
      "text/plain": [
       "[1] \"branding\"    \"performance\" \"none\"       "
      ]
     },
     "metadata": {},
     "output_type": "display_data"
    }
   ],
   "source": [
    "# all ad types\n",
    "unique(as.character(df$ad_type))"
   ]
  },
  {
   "cell_type": "code",
   "execution_count": 8,
   "id": "2e08d343-3c89-431c-8b56-ce2e3e2fb1e4",
   "metadata": {},
   "outputs": [
    {
     "data": {
      "text/html": [
       "<style>\n",
       ".list-inline {list-style: none; margin:0; padding: 0}\n",
       ".list-inline>li {display: inline-block}\n",
       ".list-inline>li:not(:last-child)::after {content: \"\\00b7\"; padding: 0 .5ex}\n",
       "</style>\n",
       "<ol class=list-inline><li>'brandformance'</li><li>'branding'</li><li>'control'</li><li>'full_funnel'</li><li>'performance'</li></ol>\n"
      ],
      "text/latex": [
       "\\begin{enumerate*}\n",
       "\\item 'brandformance'\n",
       "\\item 'branding'\n",
       "\\item 'control'\n",
       "\\item 'full\\_funnel'\n",
       "\\item 'performance'\n",
       "\\end{enumerate*}\n"
      ],
      "text/markdown": [
       "1. 'brandformance'\n",
       "2. 'branding'\n",
       "3. 'control'\n",
       "4. 'full_funnel'\n",
       "5. 'performance'\n",
       "\n",
       "\n"
      ],
      "text/plain": [
       "[1] \"brandformance\" \"branding\"      \"control\"       \"full_funnel\"  \n",
       "[5] \"performance\"  "
      ]
     },
     "metadata": {},
     "output_type": "display_data"
    }
   ],
   "source": [
    "# all campaign types\n",
    "unique(as.character(df$campaign_type))"
   ]
  },
  {
   "cell_type": "markdown",
   "id": "f0e605f7-66eb-41ab-93fd-ae3e22c5308f",
   "metadata": {},
   "source": [
    "#### 1. overall effect of campaign on purchase probability and sales"
   ]
  },
  {
   "cell_type": "code",
   "execution_count": 9,
   "id": "d90c36bb-6f04-49b4-b6d4-50f310a5ee09",
   "metadata": {},
   "outputs": [
    {
     "data": {
      "text/plain": [
       "\n",
       "Call:\n",
       "lm(formula = purchase ~ campaign_type, data = df %>% group_by(user_id) %>% \n",
       "    mutate(purchase = sum(purchase)) %>% distinct(user_id, .keep_all = T))\n",
       "\n",
       "Residuals:\n",
       "    Min      1Q  Median      3Q     Max \n",
       "-0.1058 -0.0836 -0.0639 -0.0386  0.9614 \n",
       "\n",
       "Coefficients:\n",
       "                            Estimate Std. Error t value Pr(>|t|)    \n",
       "(Intercept)                 0.038700   0.002471  15.659  < 2e-16 ***\n",
       "campaign_typebrandformance  0.025200   0.003495   7.210 5.66e-13 ***\n",
       "campaign_typebranding      -0.000100   0.003495  -0.029    0.977    \n",
       "campaign_typefull_funnel    0.067100   0.003495  19.199  < 2e-16 ***\n",
       "campaign_typeperformance    0.044900   0.003495  12.847  < 2e-16 ***\n",
       "---\n",
       "Signif. codes:  0 ‘***’ 0.001 ‘**’ 0.01 ‘*’ 0.05 ‘.’ 0.1 ‘ ’ 1\n",
       "\n",
       "Residual standard error: 0.2471 on 49995 degrees of freedom\n",
       "Multiple R-squared:  0.01099,\tAdjusted R-squared:  0.01091 \n",
       "F-statistic: 138.9 on 4 and 49995 DF,  p-value: < 2.2e-16\n"
      ]
     },
     "metadata": {},
     "output_type": "display_data"
    }
   ],
   "source": [
    "# purchase probability as the outcome (all campaigns)\n",
    "# intercept shows purchase probability without any ad\n",
    "# data is aggregated from user-visit level to user level\n",
    "model = lm(purchase ~ campaign_type, \n",
    "           df %>% \n",
    "           group_by(user_id) %>% \n",
    "           mutate(purchase = sum(purchase)) %>% \n",
    "           distinct(user_id, .keep_all = T))\n",
    "summary(model)"
   ]
  },
  {
   "cell_type": "code",
   "execution_count": 10,
   "id": "66289169-665b-4c3c-ab68-76e5cc09b451",
   "metadata": {},
   "outputs": [
    {
     "data": {
      "text/plain": [
       "\n",
       "Call:\n",
       "lm(formula = purchase ~ campaign_type, data = df %>% group_by(user_id) %>% \n",
       "    mutate(purchase = sum(purchase)) %>% distinct(user_id, .keep_all = T) %>% \n",
       "    filter(campaign_type %in% c(\"brandformance\", \"full_funnel\")))\n",
       "\n",
       "Residuals:\n",
       "    Min      1Q  Median      3Q     Max \n",
       "-0.1058 -0.1058 -0.0639 -0.0639  0.9361 \n",
       "\n",
       "Coefficients:\n",
       "                         Estimate Std. Error t value Pr(>|t|)    \n",
       "(Intercept)              0.063900   0.002779   23.00   <2e-16 ***\n",
       "campaign_typefull_funnel 0.041900   0.003930   10.66   <2e-16 ***\n",
       "---\n",
       "Signif. codes:  0 ‘***’ 0.001 ‘**’ 0.01 ‘*’ 0.05 ‘.’ 0.1 ‘ ’ 1\n",
       "\n",
       "Residual standard error: 0.2779 on 19998 degrees of freedom\n",
       "Multiple R-squared:  0.005652,\tAdjusted R-squared:  0.005603 \n",
       "F-statistic: 113.7 on 1 and 19998 DF,  p-value: < 2.2e-16\n"
      ]
     },
     "metadata": {},
     "output_type": "display_data"
    }
   ],
   "source": [
    "# purchase probability as the outcome (directly comparing any two campaigns)\n",
    "model = lm(purchase ~ campaign_type, \n",
    "           df %>% \n",
    "           group_by(user_id) %>% \n",
    "           mutate(purchase = sum(purchase)) %>% \n",
    "           distinct(user_id, .keep_all = T) %>%\n",
    "           filter(campaign_type %in% c('brandformance', 'full_funnel')))\n",
    "summary(model)"
   ]
  },
  {
   "cell_type": "code",
   "execution_count": 11,
   "id": "0ff51a15-6245-491c-8a85-c60e32ddf8a6",
   "metadata": {},
   "outputs": [
    {
     "data": {
      "text/plain": [
       "\n",
       "Call:\n",
       "lm(formula = sales ~ campaign_type, data = df %>% group_by(user_id) %>% \n",
       "    mutate(sales = sum(sales)) %>% distinct(user_id, .keep_all = T))\n",
       "\n",
       "Residuals:\n",
       "   Min     1Q Median     3Q    Max \n",
       "-10.58  -8.36  -6.39  -3.86  96.14 \n",
       "\n",
       "Coefficients:\n",
       "                           Estimate Std. Error t value Pr(>|t|)    \n",
       "(Intercept)                  3.8700     0.2471  15.659  < 2e-16 ***\n",
       "campaign_typebrandformance   2.5200     0.3495   7.210 5.66e-13 ***\n",
       "campaign_typebranding       -0.0100     0.3495  -0.029    0.977    \n",
       "campaign_typefull_funnel     6.7100     0.3495  19.199  < 2e-16 ***\n",
       "campaign_typeperformance     4.4900     0.3495  12.847  < 2e-16 ***\n",
       "---\n",
       "Signif. codes:  0 ‘***’ 0.001 ‘**’ 0.01 ‘*’ 0.05 ‘.’ 0.1 ‘ ’ 1\n",
       "\n",
       "Residual standard error: 24.71 on 49995 degrees of freedom\n",
       "Multiple R-squared:  0.01099,\tAdjusted R-squared:  0.01091 \n",
       "F-statistic: 138.9 on 4 and 49995 DF,  p-value: < 2.2e-16\n"
      ]
     },
     "metadata": {},
     "output_type": "display_data"
    }
   ],
   "source": [
    "# sales as the outcome (all campaigns)\n",
    "# intercept shows average sales without any ad\n",
    "# data is aggregated from user-visit level to user level\n",
    "model = lm(sales ~ campaign_type, \n",
    "           df %>% \n",
    "           group_by(user_id) %>% \n",
    "           mutate(sales = sum(sales)) %>% \n",
    "           distinct(user_id, .keep_all = T))\n",
    "summary(model)"
   ]
  },
  {
   "cell_type": "code",
   "execution_count": 12,
   "id": "88914643-8e3c-4e2f-a457-abdfd4f0203d",
   "metadata": {},
   "outputs": [
    {
     "data": {
      "text/plain": [
       "\n",
       "Call:\n",
       "lm(formula = sales ~ campaign_type, data = df %>% group_by(user_id) %>% \n",
       "    mutate(sales = sum(sales)) %>% distinct(user_id, .keep_all = T) %>% \n",
       "    filter(campaign_type %in% c(\"brandformance\", \"full_funnel\")))\n",
       "\n",
       "Residuals:\n",
       "   Min     1Q Median     3Q    Max \n",
       "-10.58 -10.58  -6.39  -6.39  93.61 \n",
       "\n",
       "Coefficients:\n",
       "                         Estimate Std. Error t value Pr(>|t|)    \n",
       "(Intercept)                6.3900     0.2779   23.00   <2e-16 ***\n",
       "campaign_typefull_funnel   4.1900     0.3930   10.66   <2e-16 ***\n",
       "---\n",
       "Signif. codes:  0 ‘***’ 0.001 ‘**’ 0.01 ‘*’ 0.05 ‘.’ 0.1 ‘ ’ 1\n",
       "\n",
       "Residual standard error: 27.79 on 19998 degrees of freedom\n",
       "Multiple R-squared:  0.005652,\tAdjusted R-squared:  0.005603 \n",
       "F-statistic: 113.7 on 1 and 19998 DF,  p-value: < 2.2e-16\n"
      ]
     },
     "metadata": {},
     "output_type": "display_data"
    }
   ],
   "source": [
    "# sales as the outcome (directly comparing any two campaigns)\n",
    "model = lm(sales ~ campaign_type, \n",
    "           df %>% \n",
    "           group_by(user_id) %>% \n",
    "           mutate(sales = sum(sales)) %>% \n",
    "           distinct(user_id, .keep_all = T) %>%\n",
    "           filter(campaign_type %in% c('brandformance', 'full_funnel')))\n",
    "summary(model)"
   ]
  },
  {
   "cell_type": "markdown",
   "id": "660cf322-bf0f-4da5-98d5-eb56cea90ffb",
   "metadata": {},
   "source": [
    "#### 2. effect of ad type on funnel progression"
   ]
  },
  {
   "cell_type": "code",
   "execution_count": 13,
   "id": "11a0cfc9-073f-46cc-9b14-10c01fdaaafb",
   "metadata": {},
   "outputs": [],
   "source": [
    "df$stage_progress = ifelse(df$current_funnel_stage == df$next_funnel_stage, 0, 1)"
   ]
  },
  {
   "cell_type": "code",
   "execution_count": 14,
   "id": "c82e03c6-002c-441b-bc40-983c199525b7",
   "metadata": {},
   "outputs": [
    {
     "data": {
      "text/plain": [
       "\n",
       "Call:\n",
       "lm(formula = stage_progress ~ ad_type, data = filter(df, current_funnel_stage == \n",
       "    \"awareness\"))\n",
       "\n",
       "Residuals:\n",
       "     Min       1Q   Median       3Q      Max \n",
       "-0.49890 -0.09881 -0.09847  0.50110  0.90153 \n",
       "\n",
       "Coefficients:\n",
       "                   Estimate Std. Error t value Pr(>|t|)    \n",
       "(Intercept)        0.098466   0.002732  36.039   <2e-16 ***\n",
       "ad_typebranding    0.400434   0.003516 113.896   <2e-16 ***\n",
       "ad_typeperformance 0.000340   0.003734   0.091    0.927    \n",
       "---\n",
       "Signif. codes:  0 ‘***’ 0.001 ‘**’ 0.01 ‘*’ 0.05 ‘.’ 0.1 ‘ ’ 1\n",
       "\n",
       "Residual standard error: 0.3946 on 76700 degrees of freedom\n",
       "Multiple R-squared:  0.1998,\tAdjusted R-squared:  0.1998 \n",
       "F-statistic:  9577 on 2 and 76700 DF,  p-value: < 2.2e-16\n"
      ]
     },
     "metadata": {},
     "output_type": "display_data"
    }
   ],
   "source": [
    "model = lm(stage_progress ~ ad_type, \n",
    "          filter(df, current_funnel_stage == 'awareness'))\n",
    "summary(model)"
   ]
  },
  {
   "cell_type": "code",
   "execution_count": 15,
   "id": "1c4759c5-17aa-46ca-a494-19d1158fb357",
   "metadata": {},
   "outputs": [
    {
     "data": {
      "text/plain": [
       "\n",
       "Call:\n",
       "lm(formula = stage_progress ~ ad_type, data = filter(df, current_funnel_stage == \n",
       "    \"consideration\"))\n",
       "\n",
       "Residuals:\n",
       "     Min       1Q   Median       3Q      Max \n",
       "-0.10049 -0.10049 -0.01118 -0.00959  0.99041 \n",
       "\n",
       "Coefficients:\n",
       "                    Estimate Std. Error t value Pr(>|t|)    \n",
       "(Intercept)         0.011183   0.001857   6.024 1.71e-09 ***\n",
       "ad_typebranding    -0.001596   0.002231  -0.716    0.474    \n",
       "ad_typeperformance  0.089306   0.002114  42.235  < 2e-16 ***\n",
       "---\n",
       "Signif. codes:  0 ‘***’ 0.001 ‘**’ 0.01 ‘*’ 0.05 ‘.’ 0.1 ‘ ’ 1\n",
       "\n",
       "Residual standard error: 0.2255 on 97682 degrees of freedom\n",
       "Multiple R-squared:  0.03863,\tAdjusted R-squared:  0.03861 \n",
       "F-statistic:  1962 on 2 and 97682 DF,  p-value: < 2.2e-16\n"
      ]
     },
     "metadata": {},
     "output_type": "display_data"
    }
   ],
   "source": [
    "model = lm(stage_progress ~ ad_type, \n",
    "          filter(df, current_funnel_stage == 'consideration'))\n",
    "summary(model)"
   ]
  },
  {
   "cell_type": "markdown",
   "id": "13974442-9361-40df-a794-ab6cbb022edb",
   "metadata": {},
   "source": [
    "#### 3. effect of ad type on purchase probability and sales"
   ]
  },
  {
   "cell_type": "code",
   "execution_count": 16,
   "id": "db200d71-5625-430b-904c-cc741e281da9",
   "metadata": {},
   "outputs": [
    {
     "data": {
      "text/plain": [
       "\n",
       "Call:\n",
       "lm(formula = purchase ~ ad_type, data = filter(df, current_funnel_stage == \n",
       "    \"purchase\"))\n",
       "\n",
       "Residuals:\n",
       "    Min      1Q  Median      3Q     Max \n",
       "-0.1968 -0.1968 -0.1038 -0.1025  0.8975 \n",
       "\n",
       "Coefficients:\n",
       "                    Estimate Std. Error t value Pr(>|t|)    \n",
       "(Intercept)         0.103781   0.005892  17.613   <2e-16 ***\n",
       "ad_typebranding    -0.001245   0.007627  -0.163     0.87    \n",
       "ad_typeperformance  0.093073   0.006749  13.790   <2e-16 ***\n",
       "---\n",
       "Signif. codes:  0 ‘***’ 0.001 ‘**’ 0.01 ‘*’ 0.05 ‘.’ 0.1 ‘ ’ 1\n",
       "\n",
       "Residual standard error: 0.3598 on 21199 degrees of freedom\n",
       "Multiple R-squared:  0.01645,\tAdjusted R-squared:  0.01635 \n",
       "F-statistic: 177.3 on 2 and 21199 DF,  p-value: < 2.2e-16\n"
      ]
     },
     "metadata": {},
     "output_type": "display_data"
    }
   ],
   "source": [
    "# purchase probability as the outcome \n",
    "model = lm(purchase ~ ad_type, \n",
    "          filter(df, current_funnel_stage == 'purchase'))\n",
    "summary(model)"
   ]
  },
  {
   "cell_type": "code",
   "execution_count": 17,
   "id": "eff737c0-1eda-4734-b85a-3a54b261c4f2",
   "metadata": {},
   "outputs": [
    {
     "data": {
      "text/plain": [
       "\n",
       "Call:\n",
       "lm(formula = sales ~ ad_type, data = filter(df, current_funnel_stage == \n",
       "    \"purchase\"))\n",
       "\n",
       "Residuals:\n",
       "   Min     1Q Median     3Q    Max \n",
       "-19.68 -19.68 -10.38 -10.25  89.75 \n",
       "\n",
       "Coefficients:\n",
       "                   Estimate Std. Error t value Pr(>|t|)    \n",
       "(Intercept)         10.3781     0.5892  17.613   <2e-16 ***\n",
       "ad_typebranding     -0.1245     0.7627  -0.163     0.87    \n",
       "ad_typeperformance   9.3073     0.6749  13.790   <2e-16 ***\n",
       "---\n",
       "Signif. codes:  0 ‘***’ 0.001 ‘**’ 0.01 ‘*’ 0.05 ‘.’ 0.1 ‘ ’ 1\n",
       "\n",
       "Residual standard error: 35.98 on 21199 degrees of freedom\n",
       "Multiple R-squared:  0.01645,\tAdjusted R-squared:  0.01635 \n",
       "F-statistic: 177.3 on 2 and 21199 DF,  p-value: < 2.2e-16\n"
      ]
     },
     "metadata": {},
     "output_type": "display_data"
    }
   ],
   "source": [
    "# sales as the outcome \n",
    "model = lm(sales ~ ad_type, \n",
    "          filter(df, current_funnel_stage == 'purchase'))\n",
    "summary(model)"
   ]
  },
  {
   "cell_type": "markdown",
   "id": "9a440a2b-04d1-4ba8-9509-831dd1b89367",
   "metadata": {},
   "source": [
    "#### 4. ROI"
   ]
  },
  {
   "cell_type": "code",
   "execution_count": 18,
   "id": "bf620463-ddc0-4581-93c6-7a06c1648f1b",
   "metadata": {},
   "outputs": [],
   "source": [
    "# cpm (cost per thousand impressions) for branding ad, can be changed \n",
    "cpm = 30 \n",
    "# cpa (cost per action/purchase) for performance ad, can be changed\n",
    "cpa = 10"
   ]
  },
  {
   "cell_type": "code",
   "execution_count": 19,
   "id": "c0b39bb9-0738-48f3-a5b0-a1e785474dd6",
   "metadata": {},
   "outputs": [
    {
     "name": "stdout",
     "output_type": "stream",
     "text": [
      "[1] \"branding ad cost: 1181.82\"\n",
      "[1] \"performance ad cost: 0\"\n",
      "[1] \"total cost: 1181.82\"\n"
     ]
    }
   ],
   "source": [
    "# cost of branding campaign\n",
    "branding_ad_cost = cpm/1000 * df %>% filter(campaign_type == 'branding') %>% nrow\n",
    "performance_ad_cost = 0\n",
    "cost_branding = branding_ad_cost + performance_ad_cost\n",
    "\n",
    "print(paste(\"branding ad cost:\", branding_ad_cost))\n",
    "print(paste(\"performance ad cost:\", performance_ad_cost))\n",
    "print(paste(\"total cost:\", cost_branding))"
   ]
  },
  {
   "cell_type": "code",
   "execution_count": 20,
   "id": "f7348c75-2903-4480-8783-484572c9a198",
   "metadata": {},
   "outputs": [
    {
     "name": "stdout",
     "output_type": "stream",
     "text": [
      "[1] \"branding ad cost: 0\"\n",
      "[1] \"performance ad cost: 8360\"\n",
      "[1] \"total cost: 8360\"\n"
     ]
    }
   ],
   "source": [
    "# cost of performance campaign\n",
    "branding_ad_cost = 0\n",
    "performance_ad_cost = cpa * df %>% filter(campaign_type == 'performance') %>% pull(purchase) %>% sum\n",
    "cost_performance = branding_ad_cost + performance_ad_cost\n",
    "\n",
    "print(paste(\"branding ad cost:\", branding_ad_cost))\n",
    "print(paste(\"performance ad cost:\", performance_ad_cost))\n",
    "print(paste(\"total cost:\", cost_performance))"
   ]
  },
  {
   "cell_type": "code",
   "execution_count": 21,
   "id": "7adde533-dbc1-4bb3-8683-350114508aa7",
   "metadata": {},
   "outputs": [
    {
     "name": "stdout",
     "output_type": "stream",
     "text": [
      "[1] \"branding ad cost: 597.27\"\n",
      "[1] \"performance ad cost: 6390\"\n",
      "[1] \"total cost: 6987.27\"\n"
     ]
    }
   ],
   "source": [
    "# cost of brandformance campaign\n",
    "branding_ad_cost = cpm/1000 * df %>% filter(campaign_type == 'brandformance', ad_type == 'branding') %>% nrow\n",
    "performance_ad_cost = cpa * df %>% filter(campaign_type == 'brandformance') %>% pull(purchase) %>% sum\n",
    "cost_brandformance = branding_ad_cost + performance_ad_cost\n",
    "\n",
    "print(paste(\"branding ad cost:\", branding_ad_cost))\n",
    "print(paste(\"performance ad cost:\", performance_ad_cost))\n",
    "print(paste(\"total cost:\", cost_brandformance))"
   ]
  },
  {
   "cell_type": "code",
   "execution_count": 22,
   "id": "87b0c5cd-4e28-49d4-ad2e-b4bd3e752019",
   "metadata": {},
   "outputs": [
    {
     "name": "stdout",
     "output_type": "stream",
     "text": [
      "[1] \"branding ad cost: 338.91\"\n",
      "[1] \"performance ad cost: 10580\"\n",
      "[1] \"total cost: 10918.91\"\n"
     ]
    }
   ],
   "source": [
    "# cost of full-funnel campaign\n",
    "branding_ad_cost = cpm/1000 * df %>% filter(campaign_type == 'full_funnel', ad_type == 'branding') %>% nrow\n",
    "performance_ad_cost = cpa * df %>% filter(campaign_type == 'full_funnel') %>% pull(purchase) %>% sum\n",
    "cost_full_funnel = branding_ad_cost + performance_ad_cost\n",
    "\n",
    "print(paste(\"branding ad cost:\", branding_ad_cost))\n",
    "print(paste(\"performance ad cost:\", performance_ad_cost))\n",
    "print(paste(\"total cost:\", cost_full_funnel))"
   ]
  },
  {
   "cell_type": "code",
   "execution_count": 23,
   "id": "243933af-a41d-4116-8b00-e7752e300535",
   "metadata": {},
   "outputs": [
    {
     "name": "stdout",
     "output_type": "stream",
     "text": [
      "[1] \"branding campaign ROI: -1.08461525443807\"\n"
     ]
    }
   ],
   "source": [
    "# ROI of branding campaign\n",
    "roi_branding = ((df %>% filter(campaign_type == 'branding') %>% pull(sales) %>% sum - \n",
    "                 df %>% filter(campaign_type == 'control') %>% pull(sales) %>% sum) - cost_branding) / cost_branding\n",
    "print(paste(\"branding campaign ROI:\", roi_branding))"
   ]
  },
  {
   "cell_type": "code",
   "execution_count": 24,
   "id": "0bc37d59-4ad4-4507-a609-84ef7b538e65",
   "metadata": {},
   "outputs": [
    {
     "name": "stdout",
     "output_type": "stream",
     "text": [
      "[1] \"performance campaign ROI: 4.37081339712919\"\n"
     ]
    }
   ],
   "source": [
    "# ROI of performance campaign\n",
    "roi_performance = ((df %>% filter(campaign_type == 'performance') %>% pull(sales) %>% sum - \n",
    "                    df %>% filter(campaign_type == 'control') %>% pull(sales) %>% sum) - cost_performance) / cost_performance\n",
    "print(paste(\"performance campaign ROI:\", roi_performance))"
   ]
  },
  {
   "cell_type": "code",
   "execution_count": 25,
   "id": "29b3bcee-77c1-4585-8964-923cc3dd064b",
   "metadata": {},
   "outputs": [
    {
     "name": "stdout",
     "output_type": "stream",
     "text": [
      "[1] \"brandformance campaign ROI: 2.60655878476143\"\n"
     ]
    }
   ],
   "source": [
    "# ROI of brandformance campaign\n",
    "roi_brandformance = ((df %>% filter(campaign_type == 'brandformance') %>% pull(sales) %>% sum - \n",
    "                    df %>% filter(campaign_type == 'control') %>% pull(sales) %>% sum) - cost_brandformance) / cost_brandformance\n",
    "print(paste(\"brandformance campaign ROI:\", roi_brandformance))"
   ]
  },
  {
   "cell_type": "code",
   "execution_count": 26,
   "id": "c1340940-031e-419c-a757-4ab8f630fe08",
   "metadata": {},
   "outputs": [
    {
     "name": "stdout",
     "output_type": "stream",
     "text": [
      "[1] \"full-funnel campaign ROI: 5.14530204938039\"\n"
     ]
    }
   ],
   "source": [
    "# ROI of full-funnel campaign\n",
    "roi_full_funnel = ((df %>% filter(campaign_type == 'full_funnel') %>% pull(sales) %>% sum - \n",
    "                    df %>% filter(campaign_type == 'control') %>% pull(sales) %>% sum) - cost_full_funnel) / cost_full_funnel\n",
    "print(paste(\"full-funnel campaign ROI:\", roi_full_funnel))"
   ]
  },
  {
   "cell_type": "markdown",
   "id": "4c4d0626-781a-4c43-bb75-4a01116ebce1",
   "metadata": {},
   "source": [
    "#### 5. adding a full_funnel group where funnel stages are predicted instead of known"
   ]
  },
  {
   "cell_type": "markdown",
   "id": "9236fb76-7121-426d-9b80-e15d46b133e5",
   "metadata": {},
   "source": [
    "##### high prediction accuracy (90%)"
   ]
  },
  {
   "cell_type": "code",
   "execution_count": 27,
   "id": "36bc9bed-7a92-497c-9751-f6a49953b921",
   "metadata": {},
   "outputs": [],
   "source": [
    "df_predicted = read.csv('data_predicted_high.csv')"
   ]
  },
  {
   "cell_type": "code",
   "execution_count": 28,
   "id": "744da928-1b50-4d8d-8203-7735e5f0ea21",
   "metadata": {},
   "outputs": [],
   "source": [
    "df_predicted$stage_progress = ifelse(df_predicted$current_funnel_stage == df_predicted$next_funnel_stage, 0, 1)"
   ]
  },
  {
   "cell_type": "code",
   "execution_count": 29,
   "id": "af5a5199-dbdc-4702-bfc4-8f2ff27aed6c",
   "metadata": {},
   "outputs": [],
   "source": [
    "df_predicted = rbind(df_predicted, \n",
    "                     df %>% mutate(current_funnel_stage_predicted = current_funnel_stage, # add two predicted funnel stage columns in other conditions so we can stack them up \n",
    "                                  next_funnel_stage_predicted = next_funnel_stage))\n",
    "df_predicted = arrange(df_predicted, campaign_type, user_id, visit)"
   ]
  },
  {
   "cell_type": "code",
   "execution_count": 30,
   "id": "3a657f23-3991-472b-a9ae-18edfd6687a4",
   "metadata": {},
   "outputs": [],
   "source": [
    "# control group as the baseline\n",
    "df_predicted$campaign_type = as.factor(df_predicted$campaign_type)\n",
    "df_predicted$campaign_type <- relevel(df_predicted$campaign_type, ref = 'control')"
   ]
  },
  {
   "cell_type": "code",
   "execution_count": 31,
   "id": "6368462c-2657-4826-8ca6-9770b76d3411",
   "metadata": {},
   "outputs": [],
   "source": [
    "# no ad as the baseline\n",
    "df_predicted$ad_type = as.factor(df_predicted$ad_type)\n",
    "df_predicted$ad_type <- relevel(df_predicted$ad_type, ref = 'none')"
   ]
  },
  {
   "cell_type": "code",
   "execution_count": 32,
   "id": "3f77acd7-1787-43e9-bcb6-89c3577ded5b",
   "metadata": {},
   "outputs": [
    {
     "data": {
      "text/plain": [
       "\n",
       "Call:\n",
       "lm(formula = purchase ~ campaign_type, data = df_predicted %>% \n",
       "    group_by(user_id) %>% mutate(purchase = sum(purchase)) %>% \n",
       "    distinct(user_id, .keep_all = T))\n",
       "\n",
       "Residuals:\n",
       "    Min      1Q  Median      3Q     Max \n",
       "-0.1058 -0.1026 -0.0639 -0.0387  0.9614 \n",
       "\n",
       "Coefficients:\n",
       "                                    Estimate Std. Error t value Pr(>|t|)    \n",
       "(Intercept)                         0.038700   0.002574  15.036  < 2e-16 ***\n",
       "campaign_typebrandformance          0.025200   0.003640   6.923 4.46e-12 ***\n",
       "campaign_typebranding              -0.000100   0.003640  -0.027    0.978    \n",
       "campaign_typefull_funnel            0.067100   0.003640  18.435  < 2e-16 ***\n",
       "campaign_typefull_funnel_predicted  0.063900   0.003640  17.556  < 2e-16 ***\n",
       "campaign_typeperformance            0.044900   0.003640  12.336  < 2e-16 ***\n",
       "---\n",
       "Signif. codes:  0 ‘***’ 0.001 ‘**’ 0.01 ‘*’ 0.05 ‘.’ 0.1 ‘ ’ 1\n",
       "\n",
       "Residual standard error: 0.2574 on 59994 degrees of freedom\n",
       "Multiple R-squared:  0.0112,\tAdjusted R-squared:  0.01112 \n",
       "F-statistic:   136 on 5 and 59994 DF,  p-value: < 2.2e-16\n"
      ]
     },
     "metadata": {},
     "output_type": "display_data"
    }
   ],
   "source": [
    "# purchase probability as the outcome (all campaigns)\n",
    "# intercept shows average probability without any ad\n",
    "# data is aggregated from user-visit level to user level\n",
    "model = lm(purchase ~ campaign_type, \n",
    "           df_predicted %>% \n",
    "           group_by(user_id) %>% \n",
    "           mutate(purchase = sum(purchase)) %>% \n",
    "           distinct(user_id, .keep_all = T))\n",
    "summary(model)"
   ]
  },
  {
   "cell_type": "code",
   "execution_count": 33,
   "id": "5a47fffa-4ef5-414f-b98c-9213a3870a07",
   "metadata": {},
   "outputs": [
    {
     "data": {
      "text/plain": [
       "\n",
       "Call:\n",
       "lm(formula = sales ~ campaign_type, data = df_predicted %>% group_by(user_id) %>% \n",
       "    mutate(sales = sum(sales)) %>% distinct(user_id, .keep_all = T))\n",
       "\n",
       "Residuals:\n",
       "   Min     1Q Median     3Q    Max \n",
       "-10.58 -10.26  -6.39  -3.87  96.14 \n",
       "\n",
       "Coefficients:\n",
       "                                   Estimate Std. Error t value Pr(>|t|)    \n",
       "(Intercept)                          3.8700     0.2574  15.036  < 2e-16 ***\n",
       "campaign_typebrandformance           2.5200     0.3640   6.923 4.46e-12 ***\n",
       "campaign_typebranding               -0.0100     0.3640  -0.027    0.978    \n",
       "campaign_typefull_funnel             6.7100     0.3640  18.435  < 2e-16 ***\n",
       "campaign_typefull_funnel_predicted   6.3900     0.3640  17.556  < 2e-16 ***\n",
       "campaign_typeperformance             4.4900     0.3640  12.336  < 2e-16 ***\n",
       "---\n",
       "Signif. codes:  0 ‘***’ 0.001 ‘**’ 0.01 ‘*’ 0.05 ‘.’ 0.1 ‘ ’ 1\n",
       "\n",
       "Residual standard error: 25.74 on 59994 degrees of freedom\n",
       "Multiple R-squared:  0.0112,\tAdjusted R-squared:  0.01112 \n",
       "F-statistic:   136 on 5 and 59994 DF,  p-value: < 2.2e-16\n"
      ]
     },
     "metadata": {},
     "output_type": "display_data"
    }
   ],
   "source": [
    "# sales as the outcome (all campaigns)\n",
    "# intercept shows average sales without any ad\n",
    "# data is aggregated from user-visit level to user level\n",
    "model = lm(sales ~ campaign_type, \n",
    "           df_predicted %>% \n",
    "           group_by(user_id) %>% \n",
    "           mutate(sales = sum(sales)) %>% \n",
    "           distinct(user_id, .keep_all = T))\n",
    "summary(model)"
   ]
  },
  {
   "cell_type": "code",
   "execution_count": 34,
   "id": "5d0f571a-0b84-4203-a0c6-9633d41919f3",
   "metadata": {},
   "outputs": [
    {
     "name": "stdout",
     "output_type": "stream",
     "text": [
      "[1] \"branding ad cost: 365.67\"\n",
      "[1] \"performance ad cost: 10260\"\n",
      "[1] \"total cost: 10625.67\"\n"
     ]
    }
   ],
   "source": [
    "# cost of predicted full-funnel campaign\n",
    "branding_ad_cost = cpm/1000 * df_predicted %>% filter(campaign_type == 'full_funnel_predicted', ad_type == 'branding') %>% nrow\n",
    "performance_ad_cost = cpa * df_predicted %>% filter(campaign_type == 'full_funnel_predicted') %>% pull(purchase) %>% sum\n",
    "cost_full_funnel_predicted = branding_ad_cost + performance_ad_cost\n",
    "\n",
    "print(paste(\"branding ad cost:\", branding_ad_cost))\n",
    "print(paste(\"performance ad cost:\", performance_ad_cost))\n",
    "print(paste(\"total cost:\", cost_full_funnel_predicted))"
   ]
  },
  {
   "cell_type": "code",
   "execution_count": 35,
   "id": "88754d98-4567-4d86-ab29-63d447addf62",
   "metadata": {},
   "outputs": [
    {
     "name": "stdout",
     "output_type": "stream",
     "text": [
      "[1] \"predicted full-funnel campaign ROI: 5.01373842778855\"\n"
     ]
    }
   ],
   "source": [
    "# ROI of predicted full-funnel campaign\n",
    "roi_full_funnel_predicted = ((df_predicted %>% filter(campaign_type == 'full_funnel_predicted') %>% pull(sales) %>% sum - \n",
    "                    df %>% filter(campaign_type == 'control') %>% pull(sales) %>% sum) - cost_full_funnel_predicted) / cost_full_funnel_predicted\n",
    "print(paste(\"predicted full-funnel campaign ROI:\", roi_full_funnel_predicted))"
   ]
  },
  {
   "cell_type": "markdown",
   "id": "d25b8bf2-9103-4a4b-80ae-6bd0aed7f3bd",
   "metadata": {},
   "source": [
    "##### medium prediction accuracy (70%)"
   ]
  },
  {
   "cell_type": "code",
   "execution_count": 36,
   "id": "eea055f8-37be-499a-85cb-262ac97679a4",
   "metadata": {},
   "outputs": [],
   "source": [
    "df_predicted = read.csv('data_predicted_medium.csv')"
   ]
  },
  {
   "cell_type": "code",
   "execution_count": 37,
   "id": "807e98ab-8cc1-457f-bec0-00c9a43b10ab",
   "metadata": {},
   "outputs": [],
   "source": [
    "df_predicted$stage_progress = ifelse(df_predicted$current_funnel_stage == df_predicted$next_funnel_stage, 0, 1)"
   ]
  },
  {
   "cell_type": "code",
   "execution_count": 38,
   "id": "3cc60043-a94d-4a9b-91b2-5fca368c86a2",
   "metadata": {},
   "outputs": [],
   "source": [
    "df_predicted = rbind(df_predicted, \n",
    "                     df %>% mutate(current_funnel_stage_predicted = current_funnel_stage,\n",
    "                                  next_funnel_stage_predicted = next_funnel_stage))\n",
    "df_predicted = arrange(df_predicted, campaign_type, user_id, visit)"
   ]
  },
  {
   "cell_type": "code",
   "execution_count": 39,
   "id": "9cd9c333-35f1-4519-999e-27fcd3a47575",
   "metadata": {},
   "outputs": [],
   "source": [
    "# control group as the baseline\n",
    "df_predicted$campaign_type = as.factor(df_predicted$campaign_type)\n",
    "df_predicted$campaign_type <- relevel(df_predicted$campaign_type, ref = 'control')"
   ]
  },
  {
   "cell_type": "code",
   "execution_count": 40,
   "id": "34497ee6-5538-4e81-a8ee-df8b656e134c",
   "metadata": {},
   "outputs": [],
   "source": [
    "# no ad as the baseline\n",
    "df_predicted$ad_type = as.factor(df_predicted$ad_type)\n",
    "df_predicted$ad_type <- relevel(df_predicted$ad_type, ref = 'none')"
   ]
  },
  {
   "cell_type": "code",
   "execution_count": 41,
   "id": "baef8edf-a6fa-4467-b8c2-287ebb9ecc75",
   "metadata": {},
   "outputs": [
    {
     "data": {
      "text/plain": [
       "\n",
       "Call:\n",
       "lm(formula = purchase ~ campaign_type, data = df_predicted %>% \n",
       "    group_by(user_id) %>% mutate(purchase = sum(purchase)) %>% \n",
       "    distinct(user_id, .keep_all = T))\n",
       "\n",
       "Residuals:\n",
       "    Min      1Q  Median      3Q     Max \n",
       "-0.1058 -0.0896 -0.0639 -0.0387  0.9614 \n",
       "\n",
       "Coefficients:\n",
       "                                    Estimate Std. Error t value Pr(>|t|)    \n",
       "(Intercept)                         0.038700   0.002540  15.239  < 2e-16 ***\n",
       "campaign_typebrandformance          0.025200   0.003592   7.017  2.3e-12 ***\n",
       "campaign_typebranding              -0.000100   0.003592  -0.028    0.978    \n",
       "campaign_typefull_funnel            0.067100   0.003592  18.683  < 2e-16 ***\n",
       "campaign_typefull_funnel_predicted  0.050900   0.003592  14.173  < 2e-16 ***\n",
       "campaign_typeperformance            0.044900   0.003592  12.502  < 2e-16 ***\n",
       "---\n",
       "Signif. codes:  0 ‘***’ 0.001 ‘**’ 0.01 ‘*’ 0.05 ‘.’ 0.1 ‘ ’ 1\n",
       "\n",
       "Residual standard error: 0.254 on 59994 degrees of freedom\n",
       "Multiple R-squared:  0.009862,\tAdjusted R-squared:  0.009779 \n",
       "F-statistic: 119.5 on 5 and 59994 DF,  p-value: < 2.2e-16\n"
      ]
     },
     "metadata": {},
     "output_type": "display_data"
    }
   ],
   "source": [
    "# purchase probability as the outcome (all campaigns)\n",
    "# intercept shows average probability without any ad\n",
    "# data is aggregated from user-visit level to user level\n",
    "model = lm(purchase ~ campaign_type, \n",
    "           df_predicted %>% \n",
    "           group_by(user_id) %>% \n",
    "           mutate(purchase = sum(purchase)) %>% \n",
    "           distinct(user_id, .keep_all = T))\n",
    "summary(model)"
   ]
  },
  {
   "cell_type": "code",
   "execution_count": 42,
   "id": "fd52d75c-4712-4551-bdfc-fd1a5eb7a382",
   "metadata": {},
   "outputs": [
    {
     "data": {
      "text/plain": [
       "\n",
       "Call:\n",
       "lm(formula = sales ~ campaign_type, data = df_predicted %>% group_by(user_id) %>% \n",
       "    mutate(sales = sum(sales)) %>% distinct(user_id, .keep_all = T))\n",
       "\n",
       "Residuals:\n",
       "   Min     1Q Median     3Q    Max \n",
       "-10.58  -8.96  -6.39  -3.87  96.14 \n",
       "\n",
       "Coefficients:\n",
       "                                   Estimate Std. Error t value Pr(>|t|)    \n",
       "(Intercept)                          3.8700     0.2540  15.239  < 2e-16 ***\n",
       "campaign_typebrandformance           2.5200     0.3591   7.017  2.3e-12 ***\n",
       "campaign_typebranding               -0.0100     0.3591  -0.028    0.978    \n",
       "campaign_typefull_funnel             6.7100     0.3591  18.683  < 2e-16 ***\n",
       "campaign_typefull_funnel_predicted   5.0900     0.3591  14.173  < 2e-16 ***\n",
       "campaign_typeperformance             4.4900     0.3591  12.502  < 2e-16 ***\n",
       "---\n",
       "Signif. codes:  0 ‘***’ 0.001 ‘**’ 0.01 ‘*’ 0.05 ‘.’ 0.1 ‘ ’ 1\n",
       "\n",
       "Residual standard error: 25.4 on 59994 degrees of freedom\n",
       "Multiple R-squared:  0.009862,\tAdjusted R-squared:  0.009779 \n",
       "F-statistic: 119.5 on 5 and 59994 DF,  p-value: < 2.2e-16\n"
      ]
     },
     "metadata": {},
     "output_type": "display_data"
    }
   ],
   "source": [
    "# sales as the outcome (all campaigns)\n",
    "# intercept shows average sales without any ad\n",
    "# data is aggregated from user-visit level to user level\n",
    "model = lm(sales ~ campaign_type, \n",
    "           df_predicted %>% \n",
    "           group_by(user_id) %>% \n",
    "           mutate(sales = sum(sales)) %>% \n",
    "           distinct(user_id, .keep_all = T))\n",
    "summary(model)"
   ]
  },
  {
   "cell_type": "code",
   "execution_count": 43,
   "id": "e7d7e2f9-5cb3-4fa3-bc0d-fc5337d04445",
   "metadata": {},
   "outputs": [
    {
     "name": "stdout",
     "output_type": "stream",
     "text": [
      "[1] \"branding ad cost: 393.99\"\n",
      "[1] \"performance ad cost: 8960\"\n",
      "[1] \"total cost: 9353.99\"\n"
     ]
    }
   ],
   "source": [
    "# cost of predicted full-funnel campaign\n",
    "branding_ad_cost = cpm/1000 * df_predicted %>% filter(campaign_type == 'full_funnel_predicted', ad_type == 'branding') %>% nrow\n",
    "performance_ad_cost = cpa * df_predicted %>% filter(campaign_type == 'full_funnel_predicted') %>% pull(purchase) %>% sum\n",
    "cost_full_funnel_predicted = branding_ad_cost + performance_ad_cost\n",
    "\n",
    "print(paste(\"branding ad cost:\", branding_ad_cost))\n",
    "print(paste(\"performance ad cost:\", performance_ad_cost))\n",
    "print(paste(\"total cost:\", cost_full_funnel_predicted))"
   ]
  },
  {
   "cell_type": "code",
   "execution_count": 44,
   "id": "ebcf8624-59bb-4fcd-b101-935b786f63ad",
   "metadata": {},
   "outputs": [
    {
     "name": "stdout",
     "output_type": "stream",
     "text": [
      "[1] \"predicted full-funnel campaign ROI: 4.44152816071003\"\n"
     ]
    }
   ],
   "source": [
    "# ROI of predicted full-funnel campaign\n",
    "roi_full_funnel_predicted = ((df_predicted %>% filter(campaign_type == 'full_funnel_predicted') %>% pull(sales) %>% sum - \n",
    "                    df %>% filter(campaign_type == 'control') %>% pull(sales) %>% sum) - cost_full_funnel_predicted) / cost_full_funnel_predicted\n",
    "print(paste(\"predicted full-funnel campaign ROI:\", roi_full_funnel_predicted))"
   ]
  },
  {
   "cell_type": "markdown",
   "id": "8694cb78-ebb9-4bc3-bfed-4dd2859e97f0",
   "metadata": {},
   "source": [
    "##### low prediction accuracy (50%)"
   ]
  },
  {
   "cell_type": "code",
   "execution_count": 45,
   "id": "be460e22-d059-4b10-a0a1-232b40ec45e4",
   "metadata": {},
   "outputs": [],
   "source": [
    "df_predicted = read.csv('data_predicted_low.csv')"
   ]
  },
  {
   "cell_type": "code",
   "execution_count": 46,
   "id": "c091d575-402d-4292-9e3c-d9c0f15558b2",
   "metadata": {},
   "outputs": [],
   "source": [
    "df_predicted$stage_progress = ifelse(df_predicted$current_funnel_stage == df_predicted$next_funnel_stage, 0, 1)"
   ]
  },
  {
   "cell_type": "code",
   "execution_count": 47,
   "id": "68c8c3c8-82c2-432d-82b8-ee8cdad80f98",
   "metadata": {},
   "outputs": [],
   "source": [
    "df_predicted = rbind(df_predicted, \n",
    "                     df %>% mutate(current_funnel_stage_predicted = current_funnel_stage,\n",
    "                                  next_funnel_stage_predicted = next_funnel_stage))\n",
    "df_predicted = arrange(df_predicted, campaign_type, user_id, visit)"
   ]
  },
  {
   "cell_type": "code",
   "execution_count": 48,
   "id": "9562847b-952c-4f16-8f65-57617d763074",
   "metadata": {},
   "outputs": [],
   "source": [
    "# control group as the baseline\n",
    "df_predicted$campaign_type = as.factor(df_predicted$campaign_type)\n",
    "df_predicted$campaign_type <- relevel(df_predicted$campaign_type, ref = 'control')"
   ]
  },
  {
   "cell_type": "code",
   "execution_count": 49,
   "id": "fc6d0030-4875-4ebe-badc-e0aff5d131cc",
   "metadata": {},
   "outputs": [],
   "source": [
    "# no ad as the baseline\n",
    "df_predicted$ad_type = as.factor(df_predicted$ad_type)\n",
    "df_predicted$ad_type <- relevel(df_predicted$ad_type, ref = 'none')"
   ]
  },
  {
   "cell_type": "code",
   "execution_count": 50,
   "id": "ef23e506-158a-48c7-957f-8f03b581f7a8",
   "metadata": {},
   "outputs": [
    {
     "data": {
      "text/plain": [
       "\n",
       "Call:\n",
       "lm(formula = purchase ~ campaign_type, data = df_predicted %>% \n",
       "    group_by(user_id) %>% mutate(purchase = sum(purchase)) %>% \n",
       "    distinct(user_id, .keep_all = T))\n",
       "\n",
       "Residuals:\n",
       "    Min      1Q  Median      3Q     Max \n",
       "-0.1058 -0.0837 -0.0639 -0.0387  0.9614 \n",
       "\n",
       "Coefficients:\n",
       "                                    Estimate Std. Error t value Pr(>|t|)    \n",
       "(Intercept)                         0.038700   0.002524  15.336  < 2e-16 ***\n",
       "campaign_typebrandformance          0.025200   0.003569   7.061 1.67e-12 ***\n",
       "campaign_typebranding              -0.000100   0.003569  -0.028    0.978    \n",
       "campaign_typefull_funnel            0.067100   0.003569  18.802  < 2e-16 ***\n",
       "campaign_typefull_funnel_predicted  0.045000   0.003569  12.609  < 2e-16 ***\n",
       "campaign_typeperformance            0.044900   0.003569  12.581  < 2e-16 ***\n",
       "---\n",
       "Signif. codes:  0 ‘***’ 0.001 ‘**’ 0.01 ‘*’ 0.05 ‘.’ 0.1 ‘ ’ 1\n",
       "\n",
       "Residual standard error: 0.2523 on 59994 degrees of freedom\n",
       "Multiple R-squared:  0.009468,\tAdjusted R-squared:  0.009385 \n",
       "F-statistic: 114.7 on 5 and 59994 DF,  p-value: < 2.2e-16\n"
      ]
     },
     "metadata": {},
     "output_type": "display_data"
    }
   ],
   "source": [
    "# purchase probability as the outcome (all campaigns)\n",
    "# intercept shows average probability without any ad\n",
    "# data is aggregated from user-visit level to user level\n",
    "model = lm(purchase ~ campaign_type, \n",
    "           df_predicted %>% \n",
    "           group_by(user_id) %>% \n",
    "           mutate(purchase = sum(purchase)) %>% \n",
    "           distinct(user_id, .keep_all = T))\n",
    "summary(model)"
   ]
  },
  {
   "cell_type": "code",
   "execution_count": 51,
   "id": "6831c0ec-4099-4eac-a659-9ade60295df9",
   "metadata": {},
   "outputs": [
    {
     "data": {
      "text/plain": [
       "\n",
       "Call:\n",
       "lm(formula = sales ~ campaign_type, data = df_predicted %>% group_by(user_id) %>% \n",
       "    mutate(sales = sum(sales)) %>% distinct(user_id, .keep_all = T))\n",
       "\n",
       "Residuals:\n",
       "   Min     1Q Median     3Q    Max \n",
       "-10.58  -8.37  -6.39  -3.87  96.14 \n",
       "\n",
       "Coefficients:\n",
       "                                   Estimate Std. Error t value Pr(>|t|)    \n",
       "(Intercept)                          3.8700     0.2524  15.336  < 2e-16 ***\n",
       "campaign_typebrandformance           2.5200     0.3569   7.061 1.67e-12 ***\n",
       "campaign_typebranding               -0.0100     0.3569  -0.028    0.978    \n",
       "campaign_typefull_funnel             6.7100     0.3569  18.802  < 2e-16 ***\n",
       "campaign_typefull_funnel_predicted   4.5000     0.3569  12.609  < 2e-16 ***\n",
       "campaign_typeperformance             4.4900     0.3569  12.581  < 2e-16 ***\n",
       "---\n",
       "Signif. codes:  0 ‘***’ 0.001 ‘**’ 0.01 ‘*’ 0.05 ‘.’ 0.1 ‘ ’ 1\n",
       "\n",
       "Residual standard error: 25.23 on 59994 degrees of freedom\n",
       "Multiple R-squared:  0.009468,\tAdjusted R-squared:  0.009385 \n",
       "F-statistic: 114.7 on 5 and 59994 DF,  p-value: < 2.2e-16\n"
      ]
     },
     "metadata": {},
     "output_type": "display_data"
    }
   ],
   "source": [
    "# sales as the outcome (all campaigns)\n",
    "# intercept shows average sales without any ad\n",
    "# data is aggregated from user-visit level to user level\n",
    "model = lm(sales ~ campaign_type, \n",
    "           df_predicted %>% \n",
    "           group_by(user_id) %>% \n",
    "           mutate(sales = sum(sales)) %>% \n",
    "           distinct(user_id, .keep_all = T))\n",
    "summary(model)"
   ]
  },
  {
   "cell_type": "code",
   "execution_count": 52,
   "id": "1bb3055f-431e-4066-8715-c44f3d817612",
   "metadata": {},
   "outputs": [
    {
     "name": "stdout",
     "output_type": "stream",
     "text": [
      "[1] \"branding ad cost: 404.07\"\n",
      "[1] \"performance ad cost: 8370\"\n",
      "[1] \"total cost: 8774.07\"\n"
     ]
    }
   ],
   "source": [
    "# cost of predicted full-funnel campaign\n",
    "branding_ad_cost = cpm/1000 * df_predicted %>% filter(campaign_type == 'full_funnel_predicted', ad_type == 'branding') %>% nrow\n",
    "performance_ad_cost = cpa * df_predicted %>% filter(campaign_type == 'full_funnel_predicted') %>% pull(purchase) %>% sum\n",
    "cost_full_funnel_predicted = branding_ad_cost + performance_ad_cost\n",
    "\n",
    "print(paste(\"branding ad cost:\", branding_ad_cost))\n",
    "print(paste(\"performance ad cost:\", performance_ad_cost))\n",
    "print(paste(\"total cost:\", cost_full_funnel_predicted))"
   ]
  },
  {
   "cell_type": "code",
   "execution_count": 53,
   "id": "3a64f785-2eeb-4569-93a6-4082acb5b325",
   "metadata": {},
   "outputs": [
    {
     "name": "stdout",
     "output_type": "stream",
     "text": [
      "[1] \"predicted full-funnel campaign ROI: 4.12874868789513\"\n"
     ]
    }
   ],
   "source": [
    "# ROI of predicted full-funnel campaign\n",
    "roi_full_funnel_predicted = ((df_predicted %>% filter(campaign_type == 'full_funnel_predicted') %>% pull(sales) %>% sum - \n",
    "                    df %>% filter(campaign_type == 'control') %>% pull(sales) %>% sum) - cost_full_funnel_predicted) / cost_full_funnel_predicted\n",
    "print(paste(\"predicted full-funnel campaign ROI:\", roi_full_funnel_predicted))"
   ]
  }
 ],
 "metadata": {
  "kernelspec": {
   "display_name": "R",
   "language": "R",
   "name": "ir"
  },
  "language_info": {
   "codemirror_mode": "r",
   "file_extension": ".r",
   "mimetype": "text/x-r-source",
   "name": "R",
   "pygments_lexer": "r",
   "version": "4.3.2"
  }
 },
 "nbformat": 4,
 "nbformat_minor": 5
}
