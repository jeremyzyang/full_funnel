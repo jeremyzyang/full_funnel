{
 "cells": [
  {
   "cell_type": "markdown",
   "id": "5360732c-85e4-403f-958a-1bc1fb48b467",
   "metadata": {},
   "source": [
    "## Analysis Overview \n",
    "\n",
    "This notebook contains **R code** to analyze the simulated data generated in `simulation.ipynb`. The analysis focuses on evaluating the effectiveness of various advertising strategies across a marketing funnel.\n",
    "\n",
    "---\n",
    "\n",
    "### Key Questions\n",
    "\n",
    "1. What is the effect of **different ad campaigns** on purchase probability and total sales?\n",
    "2. How does **ad type** influence user progression through the funnel? \n",
    "3. What are the **Return on Investment (ROI)** for each ad campaign? \n",
    "4. How effective is the full-funnel strategy when **funnel stage classification is predicted with high, medium, or low accuracy**?\n",
    "\n",
    "---\n",
    "\n",
    "### Extensions\n",
    "\n",
    "For more advanced analysis, students can combine the simulation and analysis notebooks to explore how changes in simulation parameters influence campaign performance. For example:\n",
    "\n",
    "1. How do results differ between **new brands** (where most users start in the **Not Aware** stage) and **well-known brands** (where most users start in the **Aware** stage)?\n",
    "2. How do the relative performance of different campaigns change when **branding and performance ads** become **more or less effective**?"
   ]
  },
  {
   "cell_type": "code",
   "execution_count": 1,
   "id": "240c29a5-cbe4-41af-997f-99ce2269a124",
   "metadata": {},
   "outputs": [],
   "source": [
    "suppressMessages(library(tidyverse))"
   ]
  },
  {
   "cell_type": "code",
   "execution_count": 2,
   "id": "0c1432f1-a99b-4151-9efa-24a091ba5d12",
   "metadata": {},
   "outputs": [],
   "source": [
    "df = read.csv('data.csv')\n",
    "df = arrange(df, campaign_type, user_id, visit)"
   ]
  },
  {
   "cell_type": "code",
   "execution_count": 3,
   "id": "7274480e-13fb-48cc-af4a-760e5c836599",
   "metadata": {},
   "outputs": [],
   "source": [
    "# control group as the baseline\n",
    "df$campaign_type = as.factor(df$campaign_type)\n",
    "df$campaign_type <- relevel(df$campaign_type, ref = 'control')"
   ]
  },
  {
   "cell_type": "code",
   "execution_count": 4,
   "id": "79d8ecfe-b6e5-405a-82ef-e316b8711930",
   "metadata": {},
   "outputs": [],
   "source": [
    "# no ad as the baseline\n",
    "df$ad_type = as.factor(df$ad_type)\n",
    "df$ad_type <- relevel(df$ad_type, ref = 'none')"
   ]
  },
  {
   "cell_type": "code",
   "execution_count": 5,
   "id": "1a039b21-428d-4afa-a3c9-713da7a55e5e",
   "metadata": {},
   "outputs": [
    {
     "data": {
      "text/html": [
       "<table class=\"dataframe\">\n",
       "<caption>A data.frame: 6 × 9</caption>\n",
       "<thead>\n",
       "\t<tr><th></th><th scope=col>user_id</th><th scope=col>current_funnel_stage</th><th scope=col>next_funnel_stage</th><th scope=col>ad_type</th><th scope=col>purchase</th><th scope=col>sales</th><th scope=col>date</th><th scope=col>campaign_type</th><th scope=col>visit</th></tr>\n",
       "\t<tr><th></th><th scope=col>&lt;int&gt;</th><th scope=col>&lt;chr&gt;</th><th scope=col>&lt;chr&gt;</th><th scope=col>&lt;fct&gt;</th><th scope=col>&lt;int&gt;</th><th scope=col>&lt;int&gt;</th><th scope=col>&lt;chr&gt;</th><th scope=col>&lt;fct&gt;</th><th scope=col>&lt;int&gt;</th></tr>\n",
       "</thead>\n",
       "<tbody>\n",
       "\t<tr><th scope=row>1</th><td>30001</td><td>not aware</td><td>not aware</td><td>branding   </td><td>0</td><td>0</td><td>2025-05-13</td><td>brand_plus_performance</td><td>1</td></tr>\n",
       "\t<tr><th scope=row>2</th><td>30001</td><td>not aware</td><td>aware    </td><td>branding   </td><td>0</td><td>0</td><td>2025-05-18</td><td>brand_plus_performance</td><td>2</td></tr>\n",
       "\t<tr><th scope=row>3</th><td>30001</td><td>aware    </td><td>aware    </td><td>performance</td><td>0</td><td>0</td><td>2025-05-19</td><td>brand_plus_performance</td><td>3</td></tr>\n",
       "\t<tr><th scope=row>4</th><td>30001</td><td>aware    </td><td>aware    </td><td>performance</td><td>0</td><td>0</td><td>2025-05-20</td><td>brand_plus_performance</td><td>4</td></tr>\n",
       "\t<tr><th scope=row>5</th><td>30002</td><td>aware    </td><td>aware    </td><td>branding   </td><td>0</td><td>0</td><td>2025-05-07</td><td>brand_plus_performance</td><td>1</td></tr>\n",
       "\t<tr><th scope=row>6</th><td>30002</td><td>aware    </td><td>aware    </td><td>branding   </td><td>0</td><td>0</td><td>2025-05-10</td><td>brand_plus_performance</td><td>2</td></tr>\n",
       "</tbody>\n",
       "</table>\n"
      ],
      "text/latex": [
       "A data.frame: 6 × 9\n",
       "\\begin{tabular}{r|lllllllll}\n",
       "  & user\\_id & current\\_funnel\\_stage & next\\_funnel\\_stage & ad\\_type & purchase & sales & date & campaign\\_type & visit\\\\\n",
       "  & <int> & <chr> & <chr> & <fct> & <int> & <int> & <chr> & <fct> & <int>\\\\\n",
       "\\hline\n",
       "\t1 & 30001 & not aware & not aware & branding    & 0 & 0 & 2025-05-13 & brand\\_plus\\_performance & 1\\\\\n",
       "\t2 & 30001 & not aware & aware     & branding    & 0 & 0 & 2025-05-18 & brand\\_plus\\_performance & 2\\\\\n",
       "\t3 & 30001 & aware     & aware     & performance & 0 & 0 & 2025-05-19 & brand\\_plus\\_performance & 3\\\\\n",
       "\t4 & 30001 & aware     & aware     & performance & 0 & 0 & 2025-05-20 & brand\\_plus\\_performance & 4\\\\\n",
       "\t5 & 30002 & aware     & aware     & branding    & 0 & 0 & 2025-05-07 & brand\\_plus\\_performance & 1\\\\\n",
       "\t6 & 30002 & aware     & aware     & branding    & 0 & 0 & 2025-05-10 & brand\\_plus\\_performance & 2\\\\\n",
       "\\end{tabular}\n"
      ],
      "text/markdown": [
       "\n",
       "A data.frame: 6 × 9\n",
       "\n",
       "| <!--/--> | user_id &lt;int&gt; | current_funnel_stage &lt;chr&gt; | next_funnel_stage &lt;chr&gt; | ad_type &lt;fct&gt; | purchase &lt;int&gt; | sales &lt;int&gt; | date &lt;chr&gt; | campaign_type &lt;fct&gt; | visit &lt;int&gt; |\n",
       "|---|---|---|---|---|---|---|---|---|---|\n",
       "| 1 | 30001 | not aware | not aware | branding    | 0 | 0 | 2025-05-13 | brand_plus_performance | 1 |\n",
       "| 2 | 30001 | not aware | aware     | branding    | 0 | 0 | 2025-05-18 | brand_plus_performance | 2 |\n",
       "| 3 | 30001 | aware     | aware     | performance | 0 | 0 | 2025-05-19 | brand_plus_performance | 3 |\n",
       "| 4 | 30001 | aware     | aware     | performance | 0 | 0 | 2025-05-20 | brand_plus_performance | 4 |\n",
       "| 5 | 30002 | aware     | aware     | branding    | 0 | 0 | 2025-05-07 | brand_plus_performance | 1 |\n",
       "| 6 | 30002 | aware     | aware     | branding    | 0 | 0 | 2025-05-10 | brand_plus_performance | 2 |\n",
       "\n"
      ],
      "text/plain": [
       "  user_id current_funnel_stage next_funnel_stage ad_type     purchase sales\n",
       "1 30001   not aware            not aware         branding    0        0    \n",
       "2 30001   not aware            aware             branding    0        0    \n",
       "3 30001   aware                aware             performance 0        0    \n",
       "4 30001   aware                aware             performance 0        0    \n",
       "5 30002   aware                aware             branding    0        0    \n",
       "6 30002   aware                aware             branding    0        0    \n",
       "  date       campaign_type          visit\n",
       "1 2025-05-13 brand_plus_performance 1    \n",
       "2 2025-05-18 brand_plus_performance 2    \n",
       "3 2025-05-19 brand_plus_performance 3    \n",
       "4 2025-05-20 brand_plus_performance 4    \n",
       "5 2025-05-07 brand_plus_performance 1    \n",
       "6 2025-05-10 brand_plus_performance 2    "
      ]
     },
     "metadata": {},
     "output_type": "display_data"
    }
   ],
   "source": [
    "# inspect the data structure \n",
    "head(df)"
   ]
  },
  {
   "cell_type": "code",
   "execution_count": 6,
   "id": "5977bdd1-34e3-4ead-89ef-8d5a047403ac",
   "metadata": {},
   "outputs": [
    {
     "data": {
      "text/html": [
       "<style>\n",
       ".list-inline {list-style: none; margin:0; padding: 0}\n",
       ".list-inline>li {display: inline-block}\n",
       ".list-inline>li:not(:last-child)::after {content: \"\\00b7\"; padding: 0 .5ex}\n",
       "</style>\n",
       "<ol class=list-inline><li>'branding'</li><li>'performance'</li><li>'none'</li></ol>\n"
      ],
      "text/latex": [
       "\\begin{enumerate*}\n",
       "\\item 'branding'\n",
       "\\item 'performance'\n",
       "\\item 'none'\n",
       "\\end{enumerate*}\n"
      ],
      "text/markdown": [
       "1. 'branding'\n",
       "2. 'performance'\n",
       "3. 'none'\n",
       "\n",
       "\n"
      ],
      "text/plain": [
       "[1] \"branding\"    \"performance\" \"none\"       "
      ]
     },
     "metadata": {},
     "output_type": "display_data"
    }
   ],
   "source": [
    "# all ad types\n",
    "unique(as.character(df$ad_type))"
   ]
  },
  {
   "cell_type": "code",
   "execution_count": 7,
   "id": "2e08d343-3c89-431c-8b56-ce2e3e2fb1e4",
   "metadata": {},
   "outputs": [
    {
     "data": {
      "text/html": [
       "<style>\n",
       ".list-inline {list-style: none; margin:0; padding: 0}\n",
       ".list-inline>li {display: inline-block}\n",
       ".list-inline>li:not(:last-child)::after {content: \"\\00b7\"; padding: 0 .5ex}\n",
       "</style>\n",
       "<ol class=list-inline><li>'brand_plus_performance'</li><li>'branding'</li><li>'control'</li><li>'full_funnel'</li><li>'performance'</li></ol>\n"
      ],
      "text/latex": [
       "\\begin{enumerate*}\n",
       "\\item 'brand\\_plus\\_performance'\n",
       "\\item 'branding'\n",
       "\\item 'control'\n",
       "\\item 'full\\_funnel'\n",
       "\\item 'performance'\n",
       "\\end{enumerate*}\n"
      ],
      "text/markdown": [
       "1. 'brand_plus_performance'\n",
       "2. 'branding'\n",
       "3. 'control'\n",
       "4. 'full_funnel'\n",
       "5. 'performance'\n",
       "\n",
       "\n"
      ],
      "text/plain": [
       "[1] \"brand_plus_performance\" \"branding\"               \"control\"               \n",
       "[4] \"full_funnel\"            \"performance\"           "
      ]
     },
     "metadata": {},
     "output_type": "display_data"
    }
   ],
   "source": [
    "# all campaign types\n",
    "unique(as.character(df$campaign_type))"
   ]
  },
  {
   "cell_type": "markdown",
   "id": "f0e605f7-66eb-41ab-93fd-ae3e22c5308f",
   "metadata": {},
   "source": [
    "#### 1. overall effect of campaign on purchase probability and sales"
   ]
  },
  {
   "cell_type": "code",
   "execution_count": 8,
   "id": "d90c36bb-6f04-49b4-b6d4-50f310a5ee09",
   "metadata": {},
   "outputs": [
    {
     "data": {
      "text/plain": [
       "\n",
       "Call:\n",
       "lm(formula = purchase ~ campaign_type, data = df %>% group_by(user_id) %>% \n",
       "    mutate(purchase = sum(purchase)) %>% distinct(user_id, .keep_all = T))\n",
       "\n",
       "Residuals:\n",
       "    Min      1Q  Median      3Q     Max \n",
       "-0.1422 -0.1013 -0.0943 -0.0484  0.9516 \n",
       "\n",
       "Coefficients:\n",
       "                                    Estimate Std. Error t value Pr(>|t|)    \n",
       "(Intercept)                         0.048400   0.002809  17.230   <2e-16 ***\n",
       "campaign_typebrand_plus_performance 0.052900   0.003973  13.316   <2e-16 ***\n",
       "campaign_typebranding               0.004400   0.003973   1.108    0.268    \n",
       "campaign_typefull_funnel            0.093800   0.003973  23.612   <2e-16 ***\n",
       "campaign_typeperformance            0.045900   0.003973  11.554   <2e-16 ***\n",
       "---\n",
       "Signif. codes:  0 ‘***’ 0.001 ‘**’ 0.01 ‘*’ 0.05 ‘.’ 0.1 ‘ ’ 1\n",
       "\n",
       "Residual standard error: 0.2809 on 49995 degrees of freedom\n",
       "Multiple R-squared:  0.01489,\tAdjusted R-squared:  0.01481 \n",
       "F-statistic: 188.9 on 4 and 49995 DF,  p-value: < 2.2e-16\n"
      ]
     },
     "metadata": {},
     "output_type": "display_data"
    }
   ],
   "source": [
    "# purchase probability as the outcome (all campaigns)\n",
    "# intercept shows purchase probability without any ad\n",
    "# data is aggregated from user-visit level to user level\n",
    "model = lm(purchase ~ campaign_type, \n",
    "           df %>% \n",
    "           group_by(user_id) %>% \n",
    "           mutate(purchase = sum(purchase)) %>% \n",
    "           distinct(user_id, .keep_all = T))\n",
    "summary(model)"
   ]
  },
  {
   "cell_type": "code",
   "execution_count": 9,
   "id": "6865e69b-eea7-4505-a1da-085b8c2e8b40",
   "metadata": {},
   "outputs": [
    {
     "data": {
      "text/plain": [
       "\n",
       "Call:\n",
       "lm(formula = purchase ~ campaign_type, data = df %>% group_by(user_id) %>% \n",
       "    mutate(purchase = sum(purchase)) %>% distinct(user_id, .keep_all = T) %>% \n",
       "    filter(campaign_type %in% c(\"brand_plus_performance\", \"full_funnel\")))\n",
       "\n",
       "Residuals:\n",
       "    Min      1Q  Median      3Q     Max \n",
       "-0.1422 -0.1422 -0.1013 -0.1013  0.8987 \n",
       "\n",
       "Coefficients:\n",
       "                         Estimate Std. Error t value Pr(>|t|)    \n",
       "(Intercept)              0.101300   0.003264  31.038   <2e-16 ***\n",
       "campaign_typefull_funnel 0.040900   0.004616   8.861   <2e-16 ***\n",
       "---\n",
       "Signif. codes:  0 ‘***’ 0.001 ‘**’ 0.01 ‘*’ 0.05 ‘.’ 0.1 ‘ ’ 1\n",
       "\n",
       "Residual standard error: 0.3264 on 19998 degrees of freedom\n",
       "Multiple R-squared:  0.003911,\tAdjusted R-squared:  0.003861 \n",
       "F-statistic: 78.52 on 1 and 19998 DF,  p-value: < 2.2e-16\n"
      ]
     },
     "metadata": {},
     "output_type": "display_data"
    }
   ],
   "source": [
    "# purchase probability as the outcome (directly comparing any two campaigns)\n",
    "model = lm(purchase ~ campaign_type, \n",
    "           df %>% \n",
    "           group_by(user_id) %>% \n",
    "           mutate(purchase = sum(purchase)) %>% \n",
    "           distinct(user_id, .keep_all = T) %>%\n",
    "           filter(campaign_type %in% c('brand_plus_performance', 'full_funnel'))) \n",
    "summary(model)"
   ]
  },
  {
   "cell_type": "code",
   "execution_count": 10,
   "id": "66289169-665b-4c3c-ab68-76e5cc09b451",
   "metadata": {},
   "outputs": [
    {
     "data": {
      "text/plain": [
       "\n",
       "Call:\n",
       "lm(formula = purchase ~ campaign_type, data = df %>% group_by(user_id) %>% \n",
       "    mutate(purchase = sum(purchase)) %>% distinct(user_id, .keep_all = T) %>% \n",
       "    filter(campaign_type %in% c(\"performance\", \"full_funnel\")))\n",
       "\n",
       "Residuals:\n",
       "    Min      1Q  Median      3Q     Max \n",
       "-0.1422 -0.1422 -0.0943 -0.0943  0.9057 \n",
       "\n",
       "Coefficients:\n",
       "                          Estimate Std. Error t value Pr(>|t|)    \n",
       "(Intercept)               0.142200   0.003220   44.16   <2e-16 ***\n",
       "campaign_typeperformance -0.047900   0.004554  -10.52   <2e-16 ***\n",
       "---\n",
       "Signif. codes:  0 ‘***’ 0.001 ‘**’ 0.01 ‘*’ 0.05 ‘.’ 0.1 ‘ ’ 1\n",
       "\n",
       "Residual standard error: 0.322 on 19998 degrees of freedom\n",
       "Multiple R-squared:  0.005501,\tAdjusted R-squared:  0.005452 \n",
       "F-statistic: 110.6 on 1 and 19998 DF,  p-value: < 2.2e-16\n"
      ]
     },
     "metadata": {},
     "output_type": "display_data"
    }
   ],
   "source": [
    "# purchase probability as the outcome (directly comparing any two campaigns)\n",
    "model = lm(purchase ~ campaign_type, \n",
    "           df %>% \n",
    "           group_by(user_id) %>% \n",
    "           mutate(purchase = sum(purchase)) %>% \n",
    "           distinct(user_id, .keep_all = T) %>%\n",
    "           filter(campaign_type %in% c('performance', 'full_funnel')))\n",
    "summary(model)"
   ]
  },
  {
   "cell_type": "code",
   "execution_count": 11,
   "id": "0ff51a15-6245-491c-8a85-c60e32ddf8a6",
   "metadata": {},
   "outputs": [
    {
     "data": {
      "text/plain": [
       "\n",
       "Call:\n",
       "lm(formula = sales ~ campaign_type, data = df %>% group_by(user_id) %>% \n",
       "    mutate(sales = sum(sales)) %>% distinct(user_id, .keep_all = T))\n",
       "\n",
       "Residuals:\n",
       "   Min     1Q Median     3Q    Max \n",
       "-14.22 -10.13  -9.43  -4.84  95.16 \n",
       "\n",
       "Coefficients:\n",
       "                                    Estimate Std. Error t value Pr(>|t|)    \n",
       "(Intercept)                           4.8400     0.2809  17.230   <2e-16 ***\n",
       "campaign_typebrand_plus_performance   5.2900     0.3973  13.316   <2e-16 ***\n",
       "campaign_typebranding                 0.4400     0.3973   1.108    0.268    \n",
       "campaign_typefull_funnel              9.3800     0.3973  23.612   <2e-16 ***\n",
       "campaign_typeperformance              4.5900     0.3973  11.554   <2e-16 ***\n",
       "---\n",
       "Signif. codes:  0 ‘***’ 0.001 ‘**’ 0.01 ‘*’ 0.05 ‘.’ 0.1 ‘ ’ 1\n",
       "\n",
       "Residual standard error: 28.09 on 49995 degrees of freedom\n",
       "Multiple R-squared:  0.01489,\tAdjusted R-squared:  0.01481 \n",
       "F-statistic: 188.9 on 4 and 49995 DF,  p-value: < 2.2e-16\n"
      ]
     },
     "metadata": {},
     "output_type": "display_data"
    }
   ],
   "source": [
    "# sales as the outcome (all campaigns)\n",
    "# intercept shows average sales without any ad\n",
    "# data is aggregated from user-visit level to user level\n",
    "model = lm(sales ~ campaign_type, \n",
    "           df %>% \n",
    "           group_by(user_id) %>% \n",
    "           mutate(sales = sum(sales)) %>% \n",
    "           distinct(user_id, .keep_all = T))\n",
    "summary(model)"
   ]
  },
  {
   "cell_type": "code",
   "execution_count": 12,
   "id": "88914643-8e3c-4e2f-a457-abdfd4f0203d",
   "metadata": {},
   "outputs": [
    {
     "data": {
      "text/plain": [
       "\n",
       "Call:\n",
       "lm(formula = sales ~ campaign_type, data = df %>% group_by(user_id) %>% \n",
       "    mutate(sales = sum(sales)) %>% distinct(user_id, .keep_all = T) %>% \n",
       "    filter(campaign_type %in% c(\"brand_plus_performance\", \"full_funnel\")))\n",
       "\n",
       "Residuals:\n",
       "   Min     1Q Median     3Q    Max \n",
       "-14.22 -14.22 -10.13 -10.13  89.87 \n",
       "\n",
       "Coefficients:\n",
       "                         Estimate Std. Error t value Pr(>|t|)    \n",
       "(Intercept)               10.1300     0.3264  31.038   <2e-16 ***\n",
       "campaign_typefull_funnel   4.0900     0.4616   8.861   <2e-16 ***\n",
       "---\n",
       "Signif. codes:  0 ‘***’ 0.001 ‘**’ 0.01 ‘*’ 0.05 ‘.’ 0.1 ‘ ’ 1\n",
       "\n",
       "Residual standard error: 32.64 on 19998 degrees of freedom\n",
       "Multiple R-squared:  0.003911,\tAdjusted R-squared:  0.003861 \n",
       "F-statistic: 78.52 on 1 and 19998 DF,  p-value: < 2.2e-16\n"
      ]
     },
     "metadata": {},
     "output_type": "display_data"
    }
   ],
   "source": [
    "# sales as the outcome (directly comparing any two campaigns)\n",
    "model = lm(sales ~ campaign_type, \n",
    "           df %>% \n",
    "           group_by(user_id) %>% \n",
    "           mutate(sales = sum(sales)) %>% \n",
    "           distinct(user_id, .keep_all = T) %>%\n",
    "           filter(campaign_type %in% c('brand_plus_performance', 'full_funnel')))\n",
    "summary(model)"
   ]
  },
  {
   "cell_type": "code",
   "execution_count": 13,
   "id": "9227af15-dfdb-439a-8df5-e13735c8e42d",
   "metadata": {},
   "outputs": [
    {
     "data": {
      "text/plain": [
       "\n",
       "Call:\n",
       "lm(formula = sales ~ campaign_type, data = df %>% group_by(user_id) %>% \n",
       "    mutate(sales = sum(sales)) %>% distinct(user_id, .keep_all = T) %>% \n",
       "    filter(campaign_type %in% c(\"performance\", \"full_funnel\")))\n",
       "\n",
       "Residuals:\n",
       "   Min     1Q Median     3Q    Max \n",
       "-14.22 -14.22  -9.43  -9.43  90.57 \n",
       "\n",
       "Coefficients:\n",
       "                         Estimate Std. Error t value Pr(>|t|)    \n",
       "(Intercept)               14.2200     0.3220   44.16   <2e-16 ***\n",
       "campaign_typeperformance  -4.7900     0.4554  -10.52   <2e-16 ***\n",
       "---\n",
       "Signif. codes:  0 ‘***’ 0.001 ‘**’ 0.01 ‘*’ 0.05 ‘.’ 0.1 ‘ ’ 1\n",
       "\n",
       "Residual standard error: 32.2 on 19998 degrees of freedom\n",
       "Multiple R-squared:  0.005501,\tAdjusted R-squared:  0.005452 \n",
       "F-statistic: 110.6 on 1 and 19998 DF,  p-value: < 2.2e-16\n"
      ]
     },
     "metadata": {},
     "output_type": "display_data"
    }
   ],
   "source": [
    "# sales as the outcome (directly comparing any two campaigns)\n",
    "model = lm(sales ~ campaign_type, \n",
    "           df %>% \n",
    "           group_by(user_id) %>% \n",
    "           mutate(sales = sum(sales)) %>% \n",
    "           distinct(user_id, .keep_all = T) %>%\n",
    "           filter(campaign_type %in% c('performance', 'full_funnel')))\n",
    "summary(model)"
   ]
  },
  {
   "cell_type": "markdown",
   "id": "660cf322-bf0f-4da5-98d5-eb56cea90ffb",
   "metadata": {},
   "source": [
    "#### 2. effect of ad type on funnel progression"
   ]
  },
  {
   "cell_type": "code",
   "execution_count": 14,
   "id": "11a0cfc9-073f-46cc-9b14-10c01fdaaafb",
   "metadata": {},
   "outputs": [],
   "source": [
    "df$stage_progress = ifelse(df$current_funnel_stage == df$next_funnel_stage, 0, 1)"
   ]
  },
  {
   "cell_type": "code",
   "execution_count": 15,
   "id": "c82e03c6-002c-441b-bc40-983c199525b7",
   "metadata": {},
   "outputs": [
    {
     "data": {
      "text/plain": [
       "\n",
       "Call:\n",
       "lm(formula = stage_progress ~ ad_type, data = filter(df, current_funnel_stage == \n",
       "    \"not aware\"))\n",
       "\n",
       "Residuals:\n",
       "     Min       1Q   Median       3Q      Max \n",
       "-0.39759 -0.39759 -0.09927 -0.09653  0.90347 \n",
       "\n",
       "Coefficients:\n",
       "                   Estimate Std. Error t value Pr(>|t|)    \n",
       "(Intercept)        0.096528   0.002364  40.830   <2e-16 ***\n",
       "ad_typebranding    0.301058   0.002971 101.343   <2e-16 ***\n",
       "ad_typeperformance 0.002746   0.003195   0.859     0.39    \n",
       "---\n",
       "Signif. codes:  0 ‘***’ 0.001 ‘**’ 0.01 ‘*’ 0.05 ‘.’ 0.1 ‘ ’ 1\n",
       "\n",
       "Residual standard error: 0.3933 on 108977 degrees of freedom\n",
       "Multiple R-squared:  0.125,\tAdjusted R-squared:  0.125 \n",
       "F-statistic:  7783 on 2 and 108977 DF,  p-value: < 2.2e-16\n"
      ]
     },
     "metadata": {},
     "output_type": "display_data"
    }
   ],
   "source": [
    "model = lm(stage_progress ~ ad_type, \n",
    "          filter(df, current_funnel_stage == 'not aware'))\n",
    "summary(model)"
   ]
  },
  {
   "cell_type": "code",
   "execution_count": 16,
   "id": "1c4759c5-17aa-46ca-a494-19d1158fb357",
   "metadata": {
    "scrolled": true
   },
   "outputs": [
    {
     "data": {
      "text/plain": [
       "\n",
       "Call:\n",
       "lm(formula = stage_progress ~ ad_type, data = filter(df, current_funnel_stage == \n",
       "    \"aware\"))\n",
       "\n",
       "Residuals:\n",
       "    Min      1Q  Median      3Q     Max \n",
       "-0.3014 -0.3014 -0.0991 -0.0991  0.9009 \n",
       "\n",
       "Coefficients:\n",
       "                    Estimate Std. Error t value Pr(>|t|)    \n",
       "(Intercept)         0.103349   0.004541  22.760   <2e-16 ***\n",
       "ad_typebranding    -0.004251   0.005243  -0.811    0.417    \n",
       "ad_typeperformance  0.198060   0.005069  39.075   <2e-16 ***\n",
       "---\n",
       "Signif. codes:  0 ‘***’ 0.001 ‘**’ 0.01 ‘*’ 0.05 ‘.’ 0.1 ‘ ’ 1\n",
       "\n",
       "Residual standard error: 0.3884 on 58997 degrees of freedom\n",
       "Multiple R-squared:  0.06291,\tAdjusted R-squared:  0.06288 \n",
       "F-statistic:  1980 on 2 and 58997 DF,  p-value: < 2.2e-16\n"
      ]
     },
     "metadata": {},
     "output_type": "display_data"
    }
   ],
   "source": [
    "model = lm(stage_progress ~ ad_type, \n",
    "          filter(df, current_funnel_stage == 'aware'))\n",
    "summary(model)"
   ]
  },
  {
   "cell_type": "code",
   "execution_count": 17,
   "id": "9b99e65e-ef83-4c35-a148-568d1c3bfaa9",
   "metadata": {},
   "outputs": [
    {
     "data": {
      "text/plain": [
       "\n",
       "Call:\n",
       "lm(formula = stage_progress ~ ad_type, data = filter(df, current_funnel_stage == \n",
       "    \"consider\"))\n",
       "\n",
       "Residuals:\n",
       "    Min      1Q  Median      3Q     Max \n",
       "-0.1985 -0.1985 -0.1126 -0.1032  0.8968 \n",
       "\n",
       "Coefficients:\n",
       "                    Estimate Std. Error t value Pr(>|t|)    \n",
       "(Intercept)         0.112558   0.005558  20.252   <2e-16 ***\n",
       "ad_typebranding    -0.009318   0.007067  -1.319    0.187    \n",
       "ad_typeperformance  0.085971   0.006258  13.737   <2e-16 ***\n",
       "---\n",
       "Signif. codes:  0 ‘***’ 0.001 ‘**’ 0.01 ‘*’ 0.05 ‘.’ 0.1 ‘ ’ 1\n",
       "\n",
       "Residual standard error: 0.3645 on 27319 degrees of freedom\n",
       "Multiple R-squared:  0.01519,\tAdjusted R-squared:  0.01511 \n",
       "F-statistic: 210.6 on 2 and 27319 DF,  p-value: < 2.2e-16\n"
      ]
     },
     "metadata": {},
     "output_type": "display_data"
    }
   ],
   "source": [
    "model = lm(stage_progress ~ ad_type, \n",
    "          filter(df, current_funnel_stage == 'consider'))\n",
    "summary(model)"
   ]
  },
  {
   "cell_type": "markdown",
   "id": "9a440a2b-04d1-4ba8-9509-831dd1b89367",
   "metadata": {},
   "source": [
    "#### 3. ROI"
   ]
  },
  {
   "cell_type": "code",
   "execution_count": 18,
   "id": "bf620463-ddc0-4581-93c6-7a06c1648f1b",
   "metadata": {},
   "outputs": [],
   "source": [
    "# cpm (cost per thousand impressions) for branding ad, can be changed \n",
    "cpm = 30 \n",
    "# cpa (cost per action/purchase) for performance ad, can be changed\n",
    "cpa = 10"
   ]
  },
  {
   "cell_type": "code",
   "execution_count": 19,
   "id": "c0b39bb9-0738-48f3-a5b0-a1e785474dd6",
   "metadata": {},
   "outputs": [
    {
     "name": "stdout",
     "output_type": "stream",
     "text": [
      "[1] \"branding ad cost: 1180.05\"\n",
      "[1] \"performance ad cost: 0\"\n",
      "[1] \"total cost: 1180.05\"\n"
     ]
    }
   ],
   "source": [
    "# cost of branding campaign\n",
    "branding_ad_cost = cpm/1000 * df %>% filter(campaign_type == 'branding', ad_type == 'branding') %>% nrow\n",
    "performance_ad_cost = 0\n",
    "cost_branding = branding_ad_cost + performance_ad_cost\n",
    "\n",
    "print(paste(\"branding ad cost:\", branding_ad_cost))\n",
    "print(paste(\"performance ad cost:\", performance_ad_cost))\n",
    "print(paste(\"total cost:\", cost_branding))"
   ]
  },
  {
   "cell_type": "code",
   "execution_count": 20,
   "id": "f7348c75-2903-4480-8783-484572c9a198",
   "metadata": {},
   "outputs": [
    {
     "name": "stdout",
     "output_type": "stream",
     "text": [
      "[1] \"branding ad cost: 0\"\n",
      "[1] \"performance ad cost: 9430\"\n",
      "[1] \"total cost: 9430\"\n"
     ]
    }
   ],
   "source": [
    "# cost of performance campaign\n",
    "branding_ad_cost = 0\n",
    "performance_ad_cost = cpa * df %>% filter(campaign_type == 'performance', ad_type == 'performance') %>% pull(purchase) %>% sum\n",
    "cost_performance = branding_ad_cost + performance_ad_cost\n",
    "\n",
    "print(paste(\"branding ad cost:\", branding_ad_cost))\n",
    "print(paste(\"performance ad cost:\", performance_ad_cost))\n",
    "print(paste(\"total cost:\", cost_performance))"
   ]
  },
  {
   "cell_type": "code",
   "execution_count": 21,
   "id": "7adde533-dbc1-4bb3-8683-350114508aa7",
   "metadata": {},
   "outputs": [
    {
     "name": "stdout",
     "output_type": "stream",
     "text": [
      "[1] \"branding ad cost: 597.15\"\n",
      "[1] \"performance ad cost: 8210\"\n",
      "[1] \"total cost: 8807.15\"\n"
     ]
    }
   ],
   "source": [
    "# cost of brand-plus-performance campaign\n",
    "branding_ad_cost = cpm/1000 * df %>% filter(campaign_type == 'brand_plus_performance', ad_type == 'branding') %>% nrow\n",
    "performance_ad_cost = cpa * df %>% filter(campaign_type == 'brand_plus_performance', ad_type == 'performance') %>% pull(purchase) %>% sum\n",
    "cost_brand_plus_performance = branding_ad_cost + performance_ad_cost\n",
    "\n",
    "print(paste(\"branding ad cost:\", branding_ad_cost))\n",
    "print(paste(\"performance ad cost:\", performance_ad_cost))\n",
    "print(paste(\"total cost:\", cost_brand_plus_performance))"
   ]
  },
  {
   "cell_type": "code",
   "execution_count": 22,
   "id": "87b0c5cd-4e28-49d4-ad2e-b4bd3e752019",
   "metadata": {},
   "outputs": [
    {
     "name": "stdout",
     "output_type": "stream",
     "text": [
      "[1] \"branding ad cost: 524.94\"\n",
      "[1] \"performance ad cost: 14220\"\n",
      "[1] \"total cost: 14744.94\"\n"
     ]
    }
   ],
   "source": [
    "# cost of full-funnel campaign\n",
    "branding_ad_cost = cpm/1000 * df %>% filter(campaign_type == 'full_funnel', ad_type == 'branding') %>% nrow\n",
    "performance_ad_cost = cpa * df %>% filter(campaign_type == 'full_funnel', ad_type == 'performance') %>% pull(purchase) %>% sum\n",
    "cost_full_funnel = branding_ad_cost + performance_ad_cost\n",
    "\n",
    "print(paste(\"branding ad cost:\", branding_ad_cost))\n",
    "print(paste(\"performance ad cost:\", performance_ad_cost))\n",
    "print(paste(\"total cost:\", cost_full_funnel))"
   ]
  },
  {
   "cell_type": "code",
   "execution_count": 23,
   "id": "243933af-a41d-4116-8b00-e7752e300535",
   "metadata": {},
   "outputs": [
    {
     "name": "stdout",
     "output_type": "stream",
     "text": [
      "[1] \"branding campaign ROI: 2.72865556544214\"\n"
     ]
    }
   ],
   "source": [
    "# ROI of branding campaign\n",
    "roi_branding = ((df %>% filter(campaign_type == 'branding') %>% pull(sales) %>% sum - \n",
    "                 df %>% filter(campaign_type == 'control') %>% pull(sales) %>% sum) - cost_branding) / cost_branding\n",
    "print(paste(\"branding campaign ROI:\", roi_branding))"
   ]
  },
  {
   "cell_type": "code",
   "execution_count": 24,
   "id": "0bc37d59-4ad4-4507-a609-84ef7b538e65",
   "metadata": {},
   "outputs": [
    {
     "name": "stdout",
     "output_type": "stream",
     "text": [
      "[1] \"performance campaign ROI: 3.86744432661718\"\n"
     ]
    }
   ],
   "source": [
    "# ROI of performance campaign\n",
    "roi_performance = ((df %>% filter(campaign_type == 'performance') %>% pull(sales) %>% sum - \n",
    "                    df %>% filter(campaign_type == 'control') %>% pull(sales) %>% sum) - cost_performance) / cost_performance\n",
    "print(paste(\"performance campaign ROI:\", roi_performance))"
   ]
  },
  {
   "cell_type": "code",
   "execution_count": 25,
   "id": "29b3bcee-77c1-4585-8964-923cc3dd064b",
   "metadata": {},
   "outputs": [
    {
     "name": "stdout",
     "output_type": "stream",
     "text": [
      "[1] \"brand-plus-performance campaign ROI: 5.00648336862663\"\n"
     ]
    }
   ],
   "source": [
    "# ROI of brand-plus-performance campaign\n",
    "roi_brand_plus_performance = ((df %>% filter(campaign_type == 'brand_plus_performance') %>% pull(sales) %>% sum - \n",
    "                    df %>% filter(campaign_type == 'control') %>% pull(sales) %>% sum) - cost_brand_plus_performance) / cost_brand_plus_performance\n",
    "print(paste(\"brand-plus-performance campaign ROI:\", roi_brand_plus_performance))"
   ]
  },
  {
   "cell_type": "code",
   "execution_count": 26,
   "id": "c1340940-031e-419c-a757-4ab8f630fe08",
   "metadata": {},
   "outputs": [
    {
     "name": "stdout",
     "output_type": "stream",
     "text": [
      "[1] \"full-funnel campaign ROI: 5.36150435335783\"\n"
     ]
    }
   ],
   "source": [
    "# ROI of full-funnel campaign\n",
    "roi_full_funnel = ((df %>% filter(campaign_type == 'full_funnel') %>% pull(sales) %>% sum - \n",
    "                    df %>% filter(campaign_type == 'control') %>% pull(sales) %>% sum) - cost_full_funnel) / cost_full_funnel\n",
    "print(paste(\"full-funnel campaign ROI:\", roi_full_funnel))"
   ]
  },
  {
   "cell_type": "markdown",
   "id": "4c4d0626-781a-4c43-bb75-4a01116ebce1",
   "metadata": {},
   "source": [
    "#### 5. adding a full_funnel group where funnel stages are predicted instead of known"
   ]
  },
  {
   "cell_type": "markdown",
   "id": "9236fb76-7121-426d-9b80-e15d46b133e5",
   "metadata": {},
   "source": [
    "##### high prediction accuracy (90%)"
   ]
  },
  {
   "cell_type": "code",
   "execution_count": 27,
   "id": "36bc9bed-7a92-497c-9751-f6a49953b921",
   "metadata": {},
   "outputs": [],
   "source": [
    "df_predicted = read.csv('data_predicted_high.csv')"
   ]
  },
  {
   "cell_type": "code",
   "execution_count": 28,
   "id": "744da928-1b50-4d8d-8203-7735e5f0ea21",
   "metadata": {},
   "outputs": [],
   "source": [
    "df_predicted$stage_progress = ifelse(df_predicted$current_funnel_stage == df_predicted$next_funnel_stage, 0, 1)"
   ]
  },
  {
   "cell_type": "code",
   "execution_count": 29,
   "id": "af5a5199-dbdc-4702-bfc4-8f2ff27aed6c",
   "metadata": {},
   "outputs": [],
   "source": [
    "df_predicted = rbind(df_predicted, \n",
    "                     df %>% mutate(current_funnel_stage_predicted = current_funnel_stage, # add two predicted funnel stage columns in other conditions so we can stack them up \n",
    "                                  next_funnel_stage_predicted = next_funnel_stage))\n",
    "df_predicted = arrange(df_predicted, campaign_type, user_id, visit)"
   ]
  },
  {
   "cell_type": "code",
   "execution_count": 30,
   "id": "3a657f23-3991-472b-a9ae-18edfd6687a4",
   "metadata": {},
   "outputs": [],
   "source": [
    "# control group as the baseline\n",
    "df_predicted$campaign_type = as.factor(df_predicted$campaign_type)\n",
    "df_predicted$campaign_type <- relevel(df_predicted$campaign_type, ref = 'control')"
   ]
  },
  {
   "cell_type": "code",
   "execution_count": 31,
   "id": "6368462c-2657-4826-8ca6-9770b76d3411",
   "metadata": {},
   "outputs": [],
   "source": [
    "# no ad as the baseline\n",
    "df_predicted$ad_type = as.factor(df_predicted$ad_type)\n",
    "df_predicted$ad_type <- relevel(df_predicted$ad_type, ref = 'none')"
   ]
  },
  {
   "cell_type": "code",
   "execution_count": 32,
   "id": "aae3ef98-73d1-452d-9c47-dfe442f20961",
   "metadata": {},
   "outputs": [
    {
     "data": {
      "text/html": [
       "<table class=\"dataframe\">\n",
       "<caption>A data.frame: 6 × 12</caption>\n",
       "<thead>\n",
       "\t<tr><th></th><th scope=col>user_id</th><th scope=col>current_funnel_stage</th><th scope=col>current_funnel_stage_predicted</th><th scope=col>next_funnel_stage</th><th scope=col>next_funnel_stage_predicted</th><th scope=col>ad_type</th><th scope=col>purchase</th><th scope=col>sales</th><th scope=col>date</th><th scope=col>campaign_type</th><th scope=col>visit</th><th scope=col>stage_progress</th></tr>\n",
       "\t<tr><th></th><th scope=col>&lt;int&gt;</th><th scope=col>&lt;chr&gt;</th><th scope=col>&lt;chr&gt;</th><th scope=col>&lt;chr&gt;</th><th scope=col>&lt;chr&gt;</th><th scope=col>&lt;fct&gt;</th><th scope=col>&lt;int&gt;</th><th scope=col>&lt;int&gt;</th><th scope=col>&lt;chr&gt;</th><th scope=col>&lt;fct&gt;</th><th scope=col>&lt;int&gt;</th><th scope=col>&lt;dbl&gt;</th></tr>\n",
       "</thead>\n",
       "<tbody>\n",
       "\t<tr><th scope=row>1</th><td>30001</td><td>not aware</td><td>not aware</td><td>not aware</td><td>not aware</td><td>branding   </td><td>0</td><td>0</td><td>2025-05-13</td><td>brand_plus_performance</td><td>1</td><td>0</td></tr>\n",
       "\t<tr><th scope=row>2</th><td>30001</td><td>not aware</td><td>not aware</td><td>aware    </td><td>aware    </td><td>branding   </td><td>0</td><td>0</td><td>2025-05-18</td><td>brand_plus_performance</td><td>2</td><td>1</td></tr>\n",
       "\t<tr><th scope=row>3</th><td>30001</td><td>aware    </td><td>aware    </td><td>aware    </td><td>aware    </td><td>performance</td><td>0</td><td>0</td><td>2025-05-19</td><td>brand_plus_performance</td><td>3</td><td>0</td></tr>\n",
       "\t<tr><th scope=row>4</th><td>30001</td><td>aware    </td><td>aware    </td><td>aware    </td><td>aware    </td><td>performance</td><td>0</td><td>0</td><td>2025-05-20</td><td>brand_plus_performance</td><td>4</td><td>0</td></tr>\n",
       "\t<tr><th scope=row>5</th><td>30002</td><td>aware    </td><td>aware    </td><td>aware    </td><td>aware    </td><td>branding   </td><td>0</td><td>0</td><td>2025-05-07</td><td>brand_plus_performance</td><td>1</td><td>0</td></tr>\n",
       "\t<tr><th scope=row>6</th><td>30002</td><td>aware    </td><td>aware    </td><td>aware    </td><td>aware    </td><td>branding   </td><td>0</td><td>0</td><td>2025-05-10</td><td>brand_plus_performance</td><td>2</td><td>0</td></tr>\n",
       "</tbody>\n",
       "</table>\n"
      ],
      "text/latex": [
       "A data.frame: 6 × 12\n",
       "\\begin{tabular}{r|llllllllllll}\n",
       "  & user\\_id & current\\_funnel\\_stage & current\\_funnel\\_stage\\_predicted & next\\_funnel\\_stage & next\\_funnel\\_stage\\_predicted & ad\\_type & purchase & sales & date & campaign\\_type & visit & stage\\_progress\\\\\n",
       "  & <int> & <chr> & <chr> & <chr> & <chr> & <fct> & <int> & <int> & <chr> & <fct> & <int> & <dbl>\\\\\n",
       "\\hline\n",
       "\t1 & 30001 & not aware & not aware & not aware & not aware & branding    & 0 & 0 & 2025-05-13 & brand\\_plus\\_performance & 1 & 0\\\\\n",
       "\t2 & 30001 & not aware & not aware & aware     & aware     & branding    & 0 & 0 & 2025-05-18 & brand\\_plus\\_performance & 2 & 1\\\\\n",
       "\t3 & 30001 & aware     & aware     & aware     & aware     & performance & 0 & 0 & 2025-05-19 & brand\\_plus\\_performance & 3 & 0\\\\\n",
       "\t4 & 30001 & aware     & aware     & aware     & aware     & performance & 0 & 0 & 2025-05-20 & brand\\_plus\\_performance & 4 & 0\\\\\n",
       "\t5 & 30002 & aware     & aware     & aware     & aware     & branding    & 0 & 0 & 2025-05-07 & brand\\_plus\\_performance & 1 & 0\\\\\n",
       "\t6 & 30002 & aware     & aware     & aware     & aware     & branding    & 0 & 0 & 2025-05-10 & brand\\_plus\\_performance & 2 & 0\\\\\n",
       "\\end{tabular}\n"
      ],
      "text/markdown": [
       "\n",
       "A data.frame: 6 × 12\n",
       "\n",
       "| <!--/--> | user_id &lt;int&gt; | current_funnel_stage &lt;chr&gt; | current_funnel_stage_predicted &lt;chr&gt; | next_funnel_stage &lt;chr&gt; | next_funnel_stage_predicted &lt;chr&gt; | ad_type &lt;fct&gt; | purchase &lt;int&gt; | sales &lt;int&gt; | date &lt;chr&gt; | campaign_type &lt;fct&gt; | visit &lt;int&gt; | stage_progress &lt;dbl&gt; |\n",
       "|---|---|---|---|---|---|---|---|---|---|---|---|---|\n",
       "| 1 | 30001 | not aware | not aware | not aware | not aware | branding    | 0 | 0 | 2025-05-13 | brand_plus_performance | 1 | 0 |\n",
       "| 2 | 30001 | not aware | not aware | aware     | aware     | branding    | 0 | 0 | 2025-05-18 | brand_plus_performance | 2 | 1 |\n",
       "| 3 | 30001 | aware     | aware     | aware     | aware     | performance | 0 | 0 | 2025-05-19 | brand_plus_performance | 3 | 0 |\n",
       "| 4 | 30001 | aware     | aware     | aware     | aware     | performance | 0 | 0 | 2025-05-20 | brand_plus_performance | 4 | 0 |\n",
       "| 5 | 30002 | aware     | aware     | aware     | aware     | branding    | 0 | 0 | 2025-05-07 | brand_plus_performance | 1 | 0 |\n",
       "| 6 | 30002 | aware     | aware     | aware     | aware     | branding    | 0 | 0 | 2025-05-10 | brand_plus_performance | 2 | 0 |\n",
       "\n"
      ],
      "text/plain": [
       "  user_id current_funnel_stage current_funnel_stage_predicted next_funnel_stage\n",
       "1 30001   not aware            not aware                      not aware        \n",
       "2 30001   not aware            not aware                      aware            \n",
       "3 30001   aware                aware                          aware            \n",
       "4 30001   aware                aware                          aware            \n",
       "5 30002   aware                aware                          aware            \n",
       "6 30002   aware                aware                          aware            \n",
       "  next_funnel_stage_predicted ad_type     purchase sales date      \n",
       "1 not aware                   branding    0        0     2025-05-13\n",
       "2 aware                       branding    0        0     2025-05-18\n",
       "3 aware                       performance 0        0     2025-05-19\n",
       "4 aware                       performance 0        0     2025-05-20\n",
       "5 aware                       branding    0        0     2025-05-07\n",
       "6 aware                       branding    0        0     2025-05-10\n",
       "  campaign_type          visit stage_progress\n",
       "1 brand_plus_performance 1     0             \n",
       "2 brand_plus_performance 2     1             \n",
       "3 brand_plus_performance 3     0             \n",
       "4 brand_plus_performance 4     0             \n",
       "5 brand_plus_performance 1     0             \n",
       "6 brand_plus_performance 2     0             "
      ]
     },
     "metadata": {},
     "output_type": "display_data"
    }
   ],
   "source": [
    "head(df_predicted)"
   ]
  },
  {
   "cell_type": "code",
   "execution_count": 33,
   "id": "3f77acd7-1787-43e9-bcb6-89c3577ded5b",
   "metadata": {},
   "outputs": [
    {
     "data": {
      "text/plain": [
       "\n",
       "Call:\n",
       "lm(formula = purchase ~ campaign_type, data = df_predicted %>% \n",
       "    group_by(user_id) %>% mutate(purchase = sum(purchase)) %>% \n",
       "    distinct(user_id, .keep_all = T))\n",
       "\n",
       "Residuals:\n",
       "    Min      1Q  Median      3Q     Max \n",
       "-0.1422 -0.1378 -0.0943 -0.0484  0.9516 \n",
       "\n",
       "Coefficients:\n",
       "                                    Estimate Std. Error t value Pr(>|t|)    \n",
       "(Intercept)                         0.048400   0.002925  16.547   <2e-16 ***\n",
       "campaign_typebrand_plus_performance 0.052900   0.004137  12.788   <2e-16 ***\n",
       "campaign_typebranding               0.004400   0.004137   1.064    0.287    \n",
       "campaign_typefull_funnel            0.093800   0.004137  22.675   <2e-16 ***\n",
       "campaign_typefull_funnel_predicted  0.089400   0.004137  21.612   <2e-16 ***\n",
       "campaign_typeperformance            0.045900   0.004137  11.096   <2e-16 ***\n",
       "---\n",
       "Signif. codes:  0 ‘***’ 0.001 ‘**’ 0.01 ‘*’ 0.05 ‘.’ 0.1 ‘ ’ 1\n",
       "\n",
       "Residual standard error: 0.2925 on 59994 degrees of freedom\n",
       "Multiple R-squared:  0.01543,\tAdjusted R-squared:  0.01535 \n",
       "F-statistic:   188 on 5 and 59994 DF,  p-value: < 2.2e-16\n"
      ]
     },
     "metadata": {},
     "output_type": "display_data"
    }
   ],
   "source": [
    "# purchase probability as the outcome (all campaigns)\n",
    "# intercept shows average probability without any ad\n",
    "# data is aggregated from user-visit level to user level\n",
    "model = lm(purchase ~ campaign_type, \n",
    "           df_predicted %>% \n",
    "           group_by(user_id) %>% \n",
    "           mutate(purchase = sum(purchase)) %>% \n",
    "           distinct(user_id, .keep_all = T))\n",
    "summary(model)"
   ]
  },
  {
   "cell_type": "code",
   "execution_count": 34,
   "id": "35f4bf4d-7526-40e5-b517-325002fabcdb",
   "metadata": {},
   "outputs": [
    {
     "data": {
      "text/plain": [
       "\n",
       "Call:\n",
       "lm(formula = purchase ~ campaign_type, data = df_predicted %>% \n",
       "    group_by(user_id) %>% mutate(purchase = sum(purchase)) %>% \n",
       "    distinct(user_id, .keep_all = T) %>% filter(campaign_type %in% \n",
       "    c(\"full_funnel_predicted\", \"full_funnel\")))\n",
       "\n",
       "Residuals:\n",
       "    Min      1Q  Median      3Q     Max \n",
       "-0.1422 -0.1422 -0.1378 -0.1378  0.8622 \n",
       "\n",
       "Coefficients:\n",
       "                                    Estimate Std. Error t value Pr(>|t|)    \n",
       "(Intercept)                         0.142200   0.003470  40.980   <2e-16 ***\n",
       "campaign_typefull_funnel_predicted -0.004400   0.004907  -0.897     0.37    \n",
       "---\n",
       "Signif. codes:  0 ‘***’ 0.001 ‘**’ 0.01 ‘*’ 0.05 ‘.’ 0.1 ‘ ’ 1\n",
       "\n",
       "Residual standard error: 0.347 on 19998 degrees of freedom\n",
       "Multiple R-squared:  4.02e-05,\tAdjusted R-squared:  -9.804e-06 \n",
       "F-statistic: 0.8039 on 1 and 19998 DF,  p-value: 0.3699\n"
      ]
     },
     "metadata": {},
     "output_type": "display_data"
    }
   ],
   "source": [
    "# purchase probability as the outcome (directly comparing two campaigns)\n",
    "model = lm(purchase ~ campaign_type, \n",
    "           df_predicted %>% \n",
    "           group_by(user_id) %>% \n",
    "           mutate(purchase = sum(purchase)) %>% \n",
    "           distinct(user_id, .keep_all = T) %>%\n",
    "           filter(campaign_type %in% c('full_funnel_predicted', 'full_funnel')))\n",
    "summary(model)"
   ]
  },
  {
   "cell_type": "code",
   "execution_count": 35,
   "id": "5a47fffa-4ef5-414f-b98c-9213a3870a07",
   "metadata": {
    "scrolled": true
   },
   "outputs": [
    {
     "data": {
      "text/plain": [
       "\n",
       "Call:\n",
       "lm(formula = sales ~ campaign_type, data = df_predicted %>% group_by(user_id) %>% \n",
       "    mutate(sales = sum(sales)) %>% distinct(user_id, .keep_all = T))\n",
       "\n",
       "Residuals:\n",
       "   Min     1Q Median     3Q    Max \n",
       "-14.22 -13.78  -9.43  -4.84  95.16 \n",
       "\n",
       "Coefficients:\n",
       "                                    Estimate Std. Error t value Pr(>|t|)    \n",
       "(Intercept)                           4.8400     0.2925  16.547   <2e-16 ***\n",
       "campaign_typebrand_plus_performance   5.2900     0.4137  12.788   <2e-16 ***\n",
       "campaign_typebranding                 0.4400     0.4137   1.064    0.287    \n",
       "campaign_typefull_funnel              9.3800     0.4137  22.675   <2e-16 ***\n",
       "campaign_typefull_funnel_predicted    8.9400     0.4137  21.612   <2e-16 ***\n",
       "campaign_typeperformance              4.5900     0.4137  11.096   <2e-16 ***\n",
       "---\n",
       "Signif. codes:  0 ‘***’ 0.001 ‘**’ 0.01 ‘*’ 0.05 ‘.’ 0.1 ‘ ’ 1\n",
       "\n",
       "Residual standard error: 29.25 on 59994 degrees of freedom\n",
       "Multiple R-squared:  0.01543,\tAdjusted R-squared:  0.01535 \n",
       "F-statistic:   188 on 5 and 59994 DF,  p-value: < 2.2e-16\n"
      ]
     },
     "metadata": {},
     "output_type": "display_data"
    }
   ],
   "source": [
    "# sales as the outcome (all campaigns)\n",
    "# intercept shows average sales without any ad\n",
    "# data is aggregated from user-visit level to user level\n",
    "model = lm(sales ~ campaign_type, \n",
    "           df_predicted %>% \n",
    "           group_by(user_id) %>% \n",
    "           mutate(sales = sum(sales)) %>% \n",
    "           distinct(user_id, .keep_all = T))\n",
    "summary(model)"
   ]
  },
  {
   "cell_type": "code",
   "execution_count": 36,
   "id": "f7a8bb86-57f2-4aed-ba5b-81841e913c86",
   "metadata": {},
   "outputs": [
    {
     "data": {
      "text/plain": [
       "\n",
       "Call:\n",
       "lm(formula = sales ~ campaign_type, data = df_predicted %>% group_by(user_id) %>% \n",
       "    mutate(sales = sum(sales)) %>% distinct(user_id, .keep_all = T) %>% \n",
       "    filter(campaign_type %in% c(\"full_funnel_predicted\", \"full_funnel\")))\n",
       "\n",
       "Residuals:\n",
       "   Min     1Q Median     3Q    Max \n",
       "-14.22 -14.22 -13.78 -13.78  86.22 \n",
       "\n",
       "Coefficients:\n",
       "                                   Estimate Std. Error t value Pr(>|t|)    \n",
       "(Intercept)                         14.2200     0.3470  40.980   <2e-16 ***\n",
       "campaign_typefull_funnel_predicted  -0.4400     0.4907  -0.897     0.37    \n",
       "---\n",
       "Signif. codes:  0 ‘***’ 0.001 ‘**’ 0.01 ‘*’ 0.05 ‘.’ 0.1 ‘ ’ 1\n",
       "\n",
       "Residual standard error: 34.7 on 19998 degrees of freedom\n",
       "Multiple R-squared:  4.02e-05,\tAdjusted R-squared:  -9.804e-06 \n",
       "F-statistic: 0.8039 on 1 and 19998 DF,  p-value: 0.3699\n"
      ]
     },
     "metadata": {},
     "output_type": "display_data"
    }
   ],
   "source": [
    "# sales as the outcome (directly comparing two campaigns)\n",
    "model = lm(sales ~ campaign_type, \n",
    "           df_predicted %>% \n",
    "           group_by(user_id) %>% \n",
    "           mutate(sales = sum(sales)) %>% \n",
    "           distinct(user_id, .keep_all = T) %>%\n",
    "           filter(campaign_type %in% c('full_funnel_predicted', 'full_funnel')))\n",
    "summary(model)"
   ]
  },
  {
   "cell_type": "code",
   "execution_count": 37,
   "id": "5d0f571a-0b84-4203-a0c6-9633d41919f3",
   "metadata": {},
   "outputs": [
    {
     "name": "stdout",
     "output_type": "stream",
     "text": [
      "[1] \"branding ad cost: 524.34\"\n",
      "[1] \"performance ad cost: 13470\"\n",
      "[1] \"total cost: 13994.34\"\n"
     ]
    }
   ],
   "source": [
    "# cost of predicted full-funnel campaign\n",
    "branding_ad_cost = cpm/1000 * df_predicted %>% filter(campaign_type == 'full_funnel_predicted', ad_type == 'branding') %>% nrow\n",
    "performance_ad_cost = cpa * df_predicted %>% filter(campaign_type == 'full_funnel_predicted', ad_type == 'performance') %>% pull(purchase) %>% sum\n",
    "cost_full_funnel_predicted = branding_ad_cost + performance_ad_cost\n",
    "\n",
    "print(paste(\"branding ad cost:\", branding_ad_cost))\n",
    "print(paste(\"performance ad cost:\", performance_ad_cost))\n",
    "print(paste(\"total cost:\", cost_full_funnel_predicted))"
   ]
  },
  {
   "cell_type": "code",
   "execution_count": 38,
   "id": "88754d98-4567-4d86-ab29-63d447addf62",
   "metadata": {},
   "outputs": [
    {
     "name": "stdout",
     "output_type": "stream",
     "text": [
      "[1] \"predicted full-funnel campaign ROI: 5.3882969829231\"\n"
     ]
    }
   ],
   "source": [
    "# ROI of predicted full-funnel campaign\n",
    "roi_full_funnel_predicted = ((df_predicted %>% filter(campaign_type == 'full_funnel_predicted') %>% pull(sales) %>% sum - \n",
    "                    df %>% filter(campaign_type == 'control') %>% pull(sales) %>% sum) - cost_full_funnel_predicted) / cost_full_funnel_predicted\n",
    "print(paste(\"predicted full-funnel campaign ROI:\", roi_full_funnel_predicted))"
   ]
  },
  {
   "cell_type": "markdown",
   "id": "d25b8bf2-9103-4a4b-80ae-6bd0aed7f3bd",
   "metadata": {},
   "source": [
    "##### medium prediction accuracy (60%)"
   ]
  },
  {
   "cell_type": "code",
   "execution_count": 39,
   "id": "eea055f8-37be-499a-85cb-262ac97679a4",
   "metadata": {},
   "outputs": [],
   "source": [
    "df_predicted = read.csv('data_predicted_medium.csv')"
   ]
  },
  {
   "cell_type": "code",
   "execution_count": 40,
   "id": "807e98ab-8cc1-457f-bec0-00c9a43b10ab",
   "metadata": {},
   "outputs": [],
   "source": [
    "df_predicted$stage_progress = ifelse(df_predicted$current_funnel_stage == df_predicted$next_funnel_stage, 0, 1)"
   ]
  },
  {
   "cell_type": "code",
   "execution_count": 41,
   "id": "3cc60043-a94d-4a9b-91b2-5fca368c86a2",
   "metadata": {},
   "outputs": [],
   "source": [
    "df_predicted = rbind(df_predicted, \n",
    "                     df %>% mutate(current_funnel_stage_predicted = current_funnel_stage,\n",
    "                                  next_funnel_stage_predicted = next_funnel_stage))\n",
    "df_predicted = arrange(df_predicted, campaign_type, user_id, visit)"
   ]
  },
  {
   "cell_type": "code",
   "execution_count": 42,
   "id": "9cd9c333-35f1-4519-999e-27fcd3a47575",
   "metadata": {},
   "outputs": [],
   "source": [
    "# control group as the baseline\n",
    "df_predicted$campaign_type = as.factor(df_predicted$campaign_type)\n",
    "df_predicted$campaign_type <- relevel(df_predicted$campaign_type, ref = 'control')"
   ]
  },
  {
   "cell_type": "code",
   "execution_count": 43,
   "id": "34497ee6-5538-4e81-a8ee-df8b656e134c",
   "metadata": {},
   "outputs": [],
   "source": [
    "# no ad as the baseline\n",
    "df_predicted$ad_type = as.factor(df_predicted$ad_type)\n",
    "df_predicted$ad_type <- relevel(df_predicted$ad_type, ref = 'none')"
   ]
  },
  {
   "cell_type": "code",
   "execution_count": 44,
   "id": "baef8edf-a6fa-4467-b8c2-287ebb9ecc75",
   "metadata": {},
   "outputs": [
    {
     "data": {
      "text/plain": [
       "\n",
       "Call:\n",
       "lm(formula = purchase ~ campaign_type, data = df_predicted %>% \n",
       "    group_by(user_id) %>% mutate(purchase = sum(purchase)) %>% \n",
       "    distinct(user_id, .keep_all = T))\n",
       "\n",
       "Residuals:\n",
       "    Min      1Q  Median      3Q     Max \n",
       "-0.1422 -0.1097 -0.0943 -0.0484  0.9516 \n",
       "\n",
       "Coefficients:\n",
       "                                    Estimate Std. Error t value Pr(>|t|)    \n",
       "(Intercept)                         0.048400   0.002864  16.898   <2e-16 ***\n",
       "campaign_typebrand_plus_performance 0.052900   0.004051  13.060   <2e-16 ***\n",
       "campaign_typebranding               0.004400   0.004051   1.086    0.277    \n",
       "campaign_typefull_funnel            0.093800   0.004051  23.157   <2e-16 ***\n",
       "campaign_typefull_funnel_predicted  0.061300   0.004051  15.134   <2e-16 ***\n",
       "campaign_typeperformance            0.045900   0.004051  11.332   <2e-16 ***\n",
       "---\n",
       "Signif. codes:  0 ‘***’ 0.001 ‘**’ 0.01 ‘*’ 0.05 ‘.’ 0.1 ‘ ’ 1\n",
       "\n",
       "Residual standard error: 0.2864 on 59994 degrees of freedom\n",
       "Multiple R-squared:  0.01276,\tAdjusted R-squared:  0.01268 \n",
       "F-statistic: 155.1 on 5 and 59994 DF,  p-value: < 2.2e-16\n"
      ]
     },
     "metadata": {},
     "output_type": "display_data"
    }
   ],
   "source": [
    "# purchase probability as the outcome (all campaigns)\n",
    "# intercept shows average probability without any ad\n",
    "# data is aggregated from user-visit level to user level\n",
    "model = lm(purchase ~ campaign_type, \n",
    "           df_predicted %>% \n",
    "           group_by(user_id) %>% \n",
    "           mutate(purchase = sum(purchase)) %>% \n",
    "           distinct(user_id, .keep_all = T))\n",
    "summary(model)"
   ]
  },
  {
   "cell_type": "code",
   "execution_count": 45,
   "id": "ce8ff7ad-b37f-45cb-8626-2471e9c942c7",
   "metadata": {},
   "outputs": [
    {
     "data": {
      "text/plain": [
       "\n",
       "Call:\n",
       "lm(formula = purchase ~ campaign_type, data = df_predicted %>% \n",
       "    group_by(user_id) %>% mutate(purchase = sum(purchase)) %>% \n",
       "    distinct(user_id, .keep_all = T) %>% filter(campaign_type %in% \n",
       "    c(\"full_funnel_predicted\", \"full_funnel\")))\n",
       "\n",
       "Residuals:\n",
       "    Min      1Q  Median      3Q     Max \n",
       "-0.1422 -0.1422 -0.1097 -0.1097  0.8903 \n",
       "\n",
       "Coefficients:\n",
       "                                    Estimate Std. Error t value Pr(>|t|)    \n",
       "(Intercept)                         0.142200   0.003314  42.907  < 2e-16 ***\n",
       "campaign_typefull_funnel_predicted -0.032500   0.004687  -6.934 4.21e-12 ***\n",
       "---\n",
       "Signif. codes:  0 ‘***’ 0.001 ‘**’ 0.01 ‘*’ 0.05 ‘.’ 0.1 ‘ ’ 1\n",
       "\n",
       "Residual standard error: 0.3314 on 19998 degrees of freedom\n",
       "Multiple R-squared:  0.002399,\tAdjusted R-squared:  0.002349 \n",
       "F-statistic: 48.08 on 1 and 19998 DF,  p-value: 4.208e-12\n"
      ]
     },
     "metadata": {},
     "output_type": "display_data"
    }
   ],
   "source": [
    "# purchase probability as the outcome (directly comparing two campaigns)\n",
    "model = lm(purchase ~ campaign_type, \n",
    "           df_predicted %>% \n",
    "           group_by(user_id) %>% \n",
    "           mutate(purchase = sum(purchase)) %>% \n",
    "           distinct(user_id, .keep_all = T) %>%\n",
    "           filter(campaign_type %in% c('full_funnel_predicted', 'full_funnel')))\n",
    "summary(model)"
   ]
  },
  {
   "cell_type": "code",
   "execution_count": 46,
   "id": "fd52d75c-4712-4551-bdfc-fd1a5eb7a382",
   "metadata": {},
   "outputs": [
    {
     "data": {
      "text/plain": [
       "\n",
       "Call:\n",
       "lm(formula = sales ~ campaign_type, data = df_predicted %>% group_by(user_id) %>% \n",
       "    mutate(sales = sum(sales)) %>% distinct(user_id, .keep_all = T))\n",
       "\n",
       "Residuals:\n",
       "   Min     1Q Median     3Q    Max \n",
       "-14.22 -10.97  -9.43  -4.84  95.16 \n",
       "\n",
       "Coefficients:\n",
       "                                    Estimate Std. Error t value Pr(>|t|)    \n",
       "(Intercept)                           4.8400     0.2864  16.898   <2e-16 ***\n",
       "campaign_typebrand_plus_performance   5.2900     0.4051  13.060   <2e-16 ***\n",
       "campaign_typebranding                 0.4400     0.4051   1.086    0.277    \n",
       "campaign_typefull_funnel              9.3800     0.4051  23.157   <2e-16 ***\n",
       "campaign_typefull_funnel_predicted    6.1300     0.4051  15.134   <2e-16 ***\n",
       "campaign_typeperformance              4.5900     0.4051  11.332   <2e-16 ***\n",
       "---\n",
       "Signif. codes:  0 ‘***’ 0.001 ‘**’ 0.01 ‘*’ 0.05 ‘.’ 0.1 ‘ ’ 1\n",
       "\n",
       "Residual standard error: 28.64 on 59994 degrees of freedom\n",
       "Multiple R-squared:  0.01276,\tAdjusted R-squared:  0.01268 \n",
       "F-statistic: 155.1 on 5 and 59994 DF,  p-value: < 2.2e-16\n"
      ]
     },
     "metadata": {},
     "output_type": "display_data"
    }
   ],
   "source": [
    "# sales as the outcome (all campaigns)\n",
    "# intercept shows average sales without any ad\n",
    "# data is aggregated from user-visit level to user level\n",
    "model = lm(sales ~ campaign_type, \n",
    "           df_predicted %>% \n",
    "           group_by(user_id) %>% \n",
    "           mutate(sales = sum(sales)) %>% \n",
    "           distinct(user_id, .keep_all = T))\n",
    "summary(model)"
   ]
  },
  {
   "cell_type": "code",
   "execution_count": 47,
   "id": "b3754465-aae6-4bba-89a7-1381bf61df1c",
   "metadata": {},
   "outputs": [
    {
     "data": {
      "text/plain": [
       "\n",
       "Call:\n",
       "lm(formula = sales ~ campaign_type, data = df_predicted %>% group_by(user_id) %>% \n",
       "    mutate(sales = sum(sales)) %>% distinct(user_id, .keep_all = T) %>% \n",
       "    filter(campaign_type %in% c(\"full_funnel_predicted\", \"full_funnel\")))\n",
       "\n",
       "Residuals:\n",
       "   Min     1Q Median     3Q    Max \n",
       "-14.22 -14.22 -10.97 -10.97  89.03 \n",
       "\n",
       "Coefficients:\n",
       "                                   Estimate Std. Error t value Pr(>|t|)    \n",
       "(Intercept)                         14.2200     0.3314  42.907  < 2e-16 ***\n",
       "campaign_typefull_funnel_predicted  -3.2500     0.4687  -6.934 4.21e-12 ***\n",
       "---\n",
       "Signif. codes:  0 ‘***’ 0.001 ‘**’ 0.01 ‘*’ 0.05 ‘.’ 0.1 ‘ ’ 1\n",
       "\n",
       "Residual standard error: 33.14 on 19998 degrees of freedom\n",
       "Multiple R-squared:  0.002399,\tAdjusted R-squared:  0.002349 \n",
       "F-statistic: 48.08 on 1 and 19998 DF,  p-value: 4.208e-12\n"
      ]
     },
     "metadata": {},
     "output_type": "display_data"
    }
   ],
   "source": [
    "# sales as the outcome (directly comparing two campaigns)\n",
    "model = lm(sales ~ campaign_type, \n",
    "           df_predicted %>% \n",
    "           group_by(user_id) %>% \n",
    "           mutate(sales = sum(sales)) %>% \n",
    "           distinct(user_id, .keep_all = T) %>%\n",
    "           filter(campaign_type %in% c('full_funnel_predicted', 'full_funnel')))\n",
    "summary(model)"
   ]
  },
  {
   "cell_type": "code",
   "execution_count": 48,
   "id": "e7d7e2f9-5cb3-4fa3-bc0d-fc5337d04445",
   "metadata": {},
   "outputs": [
    {
     "name": "stdout",
     "output_type": "stream",
     "text": [
      "[1] \"branding ad cost: 484.59\"\n",
      "[1] \"performance ad cost: 9750\"\n",
      "[1] \"total cost: 10234.59\"\n"
     ]
    }
   ],
   "source": [
    "# cost of predicted full-funnel campaign\n",
    "branding_ad_cost = cpm/1000 * df_predicted %>% filter(campaign_type == 'full_funnel_predicted', ad_type == 'branding') %>% nrow\n",
    "performance_ad_cost = cpa * df_predicted %>% filter(campaign_type == 'full_funnel_predicted', ad_type == 'performance') %>% pull(purchase) %>% sum\n",
    "cost_full_funnel_predicted = branding_ad_cost + performance_ad_cost\n",
    "\n",
    "print(paste(\"branding ad cost:\", branding_ad_cost))\n",
    "print(paste(\"performance ad cost:\", performance_ad_cost))\n",
    "print(paste(\"total cost:\", cost_full_funnel_predicted))"
   ]
  },
  {
   "cell_type": "code",
   "execution_count": 49,
   "id": "ebcf8624-59bb-4fcd-b101-935b786f63ad",
   "metadata": {},
   "outputs": [
    {
     "name": "stdout",
     "output_type": "stream",
     "text": [
      "[1] \"predicted full-funnel campaign ROI: 4.98949249554696\"\n"
     ]
    }
   ],
   "source": [
    "# ROI of predicted full-funnel campaign\n",
    "roi_full_funnel_predicted = ((df_predicted %>% filter(campaign_type == 'full_funnel_predicted') %>% pull(sales) %>% sum - \n",
    "                    df %>% filter(campaign_type == 'control') %>% pull(sales) %>% sum) - cost_full_funnel_predicted) / cost_full_funnel_predicted\n",
    "print(paste(\"predicted full-funnel campaign ROI:\", roi_full_funnel_predicted))"
   ]
  },
  {
   "cell_type": "markdown",
   "id": "8694cb78-ebb9-4bc3-bfed-4dd2859e97f0",
   "metadata": {},
   "source": [
    "##### low prediction accuracy (30%)"
   ]
  },
  {
   "cell_type": "code",
   "execution_count": 50,
   "id": "be460e22-d059-4b10-a0a1-232b40ec45e4",
   "metadata": {},
   "outputs": [],
   "source": [
    "df_predicted = read.csv('data_predicted_low.csv')"
   ]
  },
  {
   "cell_type": "code",
   "execution_count": 51,
   "id": "c091d575-402d-4292-9e3c-d9c0f15558b2",
   "metadata": {},
   "outputs": [],
   "source": [
    "df_predicted$stage_progress = ifelse(df_predicted$current_funnel_stage == df_predicted$next_funnel_stage, 0, 1)"
   ]
  },
  {
   "cell_type": "code",
   "execution_count": 52,
   "id": "68c8c3c8-82c2-432d-82b8-ee8cdad80f98",
   "metadata": {},
   "outputs": [],
   "source": [
    "df_predicted = rbind(df_predicted, \n",
    "                     df %>% mutate(current_funnel_stage_predicted = current_funnel_stage,\n",
    "                                  next_funnel_stage_predicted = next_funnel_stage))\n",
    "df_predicted = arrange(df_predicted, campaign_type, user_id, visit)"
   ]
  },
  {
   "cell_type": "code",
   "execution_count": 53,
   "id": "9562847b-952c-4f16-8f65-57617d763074",
   "metadata": {},
   "outputs": [],
   "source": [
    "# control group as the baseline\n",
    "df_predicted$campaign_type = as.factor(df_predicted$campaign_type)\n",
    "df_predicted$campaign_type <- relevel(df_predicted$campaign_type, ref = 'control')"
   ]
  },
  {
   "cell_type": "code",
   "execution_count": 54,
   "id": "fc6d0030-4875-4ebe-badc-e0aff5d131cc",
   "metadata": {},
   "outputs": [],
   "source": [
    "# no ad as the baseline\n",
    "df_predicted$ad_type = as.factor(df_predicted$ad_type)\n",
    "df_predicted$ad_type <- relevel(df_predicted$ad_type, ref = 'none')"
   ]
  },
  {
   "cell_type": "code",
   "execution_count": 55,
   "id": "ef23e506-158a-48c7-957f-8f03b581f7a8",
   "metadata": {},
   "outputs": [
    {
     "data": {
      "text/plain": [
       "\n",
       "Call:\n",
       "lm(formula = purchase ~ campaign_type, data = df_predicted %>% \n",
       "    group_by(user_id) %>% mutate(purchase = sum(purchase)) %>% \n",
       "    distinct(user_id, .keep_all = T))\n",
       "\n",
       "Residuals:\n",
       "    Min      1Q  Median      3Q     Max \n",
       "-0.1422 -0.1013 -0.0859 -0.0528  0.9516 \n",
       "\n",
       "Coefficients:\n",
       "                                    Estimate Std. Error t value Pr(>|t|)    \n",
       "(Intercept)                         0.048400   0.002808  17.237   <2e-16 ***\n",
       "campaign_typebrand_plus_performance 0.052900   0.003971  13.322   <2e-16 ***\n",
       "campaign_typebranding               0.004400   0.003971   1.108    0.268    \n",
       "campaign_typefull_funnel            0.093800   0.003971  23.621   <2e-16 ***\n",
       "campaign_typefull_funnel_predicted  0.037500   0.003971   9.443   <2e-16 ***\n",
       "campaign_typeperformance            0.045900   0.003971  11.559   <2e-16 ***\n",
       "---\n",
       "Signif. codes:  0 ‘***’ 0.001 ‘**’ 0.01 ‘*’ 0.05 ‘.’ 0.1 ‘ ’ 1\n",
       "\n",
       "Residual standard error: 0.2808 on 59994 degrees of freedom\n",
       "Multiple R-squared:  0.01245,\tAdjusted R-squared:  0.01237 \n",
       "F-statistic: 151.3 on 5 and 59994 DF,  p-value: < 2.2e-16\n"
      ]
     },
     "metadata": {},
     "output_type": "display_data"
    }
   ],
   "source": [
    "# purchase probability as the outcome (all campaigns)\n",
    "# intercept shows average probability without any ad\n",
    "# data is aggregated from user-visit level to user level\n",
    "model = lm(purchase ~ campaign_type, \n",
    "           df_predicted %>% \n",
    "           group_by(user_id) %>% \n",
    "           mutate(purchase = sum(purchase)) %>% \n",
    "           distinct(user_id, .keep_all = T))\n",
    "summary(model)"
   ]
  },
  {
   "cell_type": "code",
   "execution_count": 56,
   "id": "94819bf5-3935-4a35-ae58-f784ceb18fba",
   "metadata": {},
   "outputs": [
    {
     "data": {
      "text/plain": [
       "\n",
       "Call:\n",
       "lm(formula = purchase ~ campaign_type, data = df_predicted %>% \n",
       "    group_by(user_id) %>% mutate(purchase = sum(purchase)) %>% \n",
       "    distinct(user_id, .keep_all = T) %>% filter(campaign_type %in% \n",
       "    c(\"full_funnel_predicted\", \"full_funnel\")))\n",
       "\n",
       "Residuals:\n",
       "    Min      1Q  Median      3Q     Max \n",
       "-0.1422 -0.1422 -0.0859 -0.0859  0.9141 \n",
       "\n",
       "Coefficients:\n",
       "                                    Estimate Std. Error t value Pr(>|t|)    \n",
       "(Intercept)                         0.142200   0.003166   44.91   <2e-16 ***\n",
       "campaign_typefull_funnel_predicted -0.056300   0.004478  -12.57   <2e-16 ***\n",
       "---\n",
       "Signif. codes:  0 ‘***’ 0.001 ‘**’ 0.01 ‘*’ 0.05 ‘.’ 0.1 ‘ ’ 1\n",
       "\n",
       "Residual standard error: 0.3166 on 19998 degrees of freedom\n",
       "Multiple R-squared:  0.007842,\tAdjusted R-squared:  0.007793 \n",
       "F-statistic: 158.1 on 1 and 19998 DF,  p-value: < 2.2e-16\n"
      ]
     },
     "metadata": {},
     "output_type": "display_data"
    }
   ],
   "source": [
    "# purchase probability as the outcome (directly comparing two campaigns)\n",
    "model = lm(purchase ~ campaign_type, \n",
    "           df_predicted %>% \n",
    "           group_by(user_id) %>% \n",
    "           mutate(purchase = sum(purchase)) %>% \n",
    "           distinct(user_id, .keep_all = T) %>%\n",
    "           filter(campaign_type %in% c('full_funnel_predicted', 'full_funnel')))\n",
    "summary(model)"
   ]
  },
  {
   "cell_type": "code",
   "execution_count": 57,
   "id": "6831c0ec-4099-4eac-a659-9ade60295df9",
   "metadata": {},
   "outputs": [
    {
     "data": {
      "text/plain": [
       "\n",
       "Call:\n",
       "lm(formula = sales ~ campaign_type, data = df_predicted %>% group_by(user_id) %>% \n",
       "    mutate(sales = sum(sales)) %>% distinct(user_id, .keep_all = T))\n",
       "\n",
       "Residuals:\n",
       "   Min     1Q Median     3Q    Max \n",
       "-14.22 -10.13  -8.59  -5.28  95.16 \n",
       "\n",
       "Coefficients:\n",
       "                                    Estimate Std. Error t value Pr(>|t|)    \n",
       "(Intercept)                           4.8400     0.2808  17.237   <2e-16 ***\n",
       "campaign_typebrand_plus_performance   5.2900     0.3971  13.322   <2e-16 ***\n",
       "campaign_typebranding                 0.4400     0.3971   1.108    0.268    \n",
       "campaign_typefull_funnel              9.3800     0.3971  23.621   <2e-16 ***\n",
       "campaign_typefull_funnel_predicted    3.7500     0.3971   9.443   <2e-16 ***\n",
       "campaign_typeperformance              4.5900     0.3971  11.559   <2e-16 ***\n",
       "---\n",
       "Signif. codes:  0 ‘***’ 0.001 ‘**’ 0.01 ‘*’ 0.05 ‘.’ 0.1 ‘ ’ 1\n",
       "\n",
       "Residual standard error: 28.08 on 59994 degrees of freedom\n",
       "Multiple R-squared:  0.01245,\tAdjusted R-squared:  0.01237 \n",
       "F-statistic: 151.3 on 5 and 59994 DF,  p-value: < 2.2e-16\n"
      ]
     },
     "metadata": {},
     "output_type": "display_data"
    }
   ],
   "source": [
    "# sales as the outcome (all campaigns)\n",
    "# intercept shows average sales without any ad\n",
    "# data is aggregated from user-visit level to user level\n",
    "model = lm(sales ~ campaign_type, \n",
    "           df_predicted %>% \n",
    "           group_by(user_id) %>% \n",
    "           mutate(sales = sum(sales)) %>% \n",
    "           distinct(user_id, .keep_all = T))\n",
    "summary(model)"
   ]
  },
  {
   "cell_type": "code",
   "execution_count": 58,
   "id": "3471d7bf-aa12-4698-8140-352ac4c8580c",
   "metadata": {},
   "outputs": [
    {
     "data": {
      "text/plain": [
       "\n",
       "Call:\n",
       "lm(formula = sales ~ campaign_type, data = df_predicted %>% group_by(user_id) %>% \n",
       "    mutate(sales = sum(sales)) %>% distinct(user_id, .keep_all = T) %>% \n",
       "    filter(campaign_type %in% c(\"full_funnel_predicted\", \"full_funnel\")))\n",
       "\n",
       "Residuals:\n",
       "   Min     1Q Median     3Q    Max \n",
       "-14.22 -14.22  -8.59  -8.59  91.41 \n",
       "\n",
       "Coefficients:\n",
       "                                   Estimate Std. Error t value Pr(>|t|)    \n",
       "(Intercept)                         14.2200     0.3166   44.91   <2e-16 ***\n",
       "campaign_typefull_funnel_predicted  -5.6300     0.4478  -12.57   <2e-16 ***\n",
       "---\n",
       "Signif. codes:  0 ‘***’ 0.001 ‘**’ 0.01 ‘*’ 0.05 ‘.’ 0.1 ‘ ’ 1\n",
       "\n",
       "Residual standard error: 31.66 on 19998 degrees of freedom\n",
       "Multiple R-squared:  0.007842,\tAdjusted R-squared:  0.007793 \n",
       "F-statistic: 158.1 on 1 and 19998 DF,  p-value: < 2.2e-16\n"
      ]
     },
     "metadata": {},
     "output_type": "display_data"
    }
   ],
   "source": [
    "# sales as the outcome (directly comparing two campaigns)\n",
    "model = lm(sales ~ campaign_type, \n",
    "           df_predicted %>% \n",
    "           group_by(user_id) %>% \n",
    "           mutate(sales = sum(sales)) %>% \n",
    "           distinct(user_id, .keep_all = T) %>%\n",
    "           filter(campaign_type %in% c('full_funnel_predicted', 'full_funnel')))\n",
    "summary(model)"
   ]
  },
  {
   "cell_type": "code",
   "execution_count": 59,
   "id": "1bb3055f-431e-4066-8715-c44f3d817612",
   "metadata": {},
   "outputs": [
    {
     "name": "stdout",
     "output_type": "stream",
     "text": [
      "[1] \"branding ad cost: 373.86\"\n",
      "[1] \"performance ad cost: 6740\"\n",
      "[1] \"total cost: 7113.86\"\n"
     ]
    }
   ],
   "source": [
    "# cost of predicted full-funnel campaign\n",
    "branding_ad_cost = cpm/1000 * df_predicted %>% filter(campaign_type == 'full_funnel_predicted', ad_type == 'branding') %>% nrow\n",
    "performance_ad_cost = cpa * df_predicted %>% filter(campaign_type == 'full_funnel_predicted', ad_type == 'performance') %>% pull(purchase) %>% sum\n",
    "cost_full_funnel_predicted = branding_ad_cost + performance_ad_cost\n",
    "\n",
    "print(paste(\"branding ad cost:\", branding_ad_cost))\n",
    "print(paste(\"performance ad cost:\", performance_ad_cost))\n",
    "print(paste(\"total cost:\", cost_full_funnel_predicted))"
   ]
  },
  {
   "cell_type": "code",
   "execution_count": 60,
   "id": "3a64f785-2eeb-4569-93a6-4082acb5b325",
   "metadata": {},
   "outputs": [
    {
     "name": "stdout",
     "output_type": "stream",
     "text": [
      "[1] \"predicted full-funnel campaign ROI: 4.27139977452466\"\n"
     ]
    }
   ],
   "source": [
    "# ROI of predicted full-funnel campaign\n",
    "roi_full_funnel_predicted = ((df_predicted %>% filter(campaign_type == 'full_funnel_predicted') %>% pull(sales) %>% sum - \n",
    "                    df %>% filter(campaign_type == 'control') %>% pull(sales) %>% sum) - cost_full_funnel_predicted) / cost_full_funnel_predicted\n",
    "print(paste(\"predicted full-funnel campaign ROI:\", roi_full_funnel_predicted))"
   ]
  }
 ],
 "metadata": {
  "kernelspec": {
   "display_name": "R",
   "language": "R",
   "name": "ir"
  },
  "language_info": {
   "codemirror_mode": "r",
   "file_extension": ".r",
   "mimetype": "text/x-r-source",
   "name": "R",
   "pygments_lexer": "r",
   "version": "4.3.2"
  }
 },
 "nbformat": 4,
 "nbformat_minor": 5
}
