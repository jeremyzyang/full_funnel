{
 "cells": [
  {
   "cell_type": "markdown",
   "id": "26e61dbd-9f86-4587-89b6-d9b61f2f3362",
   "metadata": {},
   "source": [
    "### this notebook (analysis.ipynb) contains R code that analyzes the data from the simulation \n",
    "### it answers the following questions\n",
    "### 1. what are the effect of different ad campaigns on purchase probability and sales?\n",
    "### 2. how does ad type affects funnel progression?\n",
    "### 3. how does ad type affects purchase probability and sales for users in the purchase stage?\n",
    "### 4. what are the ROIs of different ad campaigns \n",
    "### 5. how effective is the full-funnel campaign when funnel stage is predicted with high, medium, and low accuracy?\n",
    "### for more advanced treatment, students can combine the simulation and analysis notebooks to explore what simulation parameters affect campaign performance, for instance, how results change for new vs well-known brands (i.e., when most users start from not aware vs aware stage)"
   ]
  },
  {
   "cell_type": "code",
   "execution_count": 1,
   "id": "240c29a5-cbe4-41af-997f-99ce2269a124",
   "metadata": {},
   "outputs": [],
   "source": [
    "suppressMessages(library(tidyverse))"
   ]
  },
  {
   "cell_type": "code",
   "execution_count": 2,
   "id": "0c1432f1-a99b-4151-9efa-24a091ba5d12",
   "metadata": {},
   "outputs": [],
   "source": [
    "df = read.csv('data.csv')\n",
    "df = arrange(df, campaign_type, user_id, visit)"
   ]
  },
  {
   "cell_type": "code",
   "execution_count": 3,
   "id": "7274480e-13fb-48cc-af4a-760e5c836599",
   "metadata": {},
   "outputs": [],
   "source": [
    "# control group as the baseline\n",
    "df$campaign_type = as.factor(df$campaign_type)\n",
    "df$campaign_type <- relevel(df$campaign_type, ref = 'control')"
   ]
  },
  {
   "cell_type": "code",
   "execution_count": 4,
   "id": "79d8ecfe-b6e5-405a-82ef-e316b8711930",
   "metadata": {},
   "outputs": [],
   "source": [
    "# no ad as the baseline\n",
    "df$ad_type = as.factor(df$ad_type)\n",
    "df$ad_type <- relevel(df$ad_type, ref = 'none')"
   ]
  },
  {
   "cell_type": "code",
   "execution_count": 5,
   "id": "1a039b21-428d-4afa-a3c9-713da7a55e5e",
   "metadata": {},
   "outputs": [
    {
     "data": {
      "text/html": [
       "<table class=\"dataframe\">\n",
       "<caption>A data.frame: 6 × 9</caption>\n",
       "<thead>\n",
       "\t<tr><th></th><th scope=col>user_id</th><th scope=col>current_funnel_stage</th><th scope=col>next_funnel_stage</th><th scope=col>ad_type</th><th scope=col>purchase</th><th scope=col>sales</th><th scope=col>date</th><th scope=col>campaign_type</th><th scope=col>visit</th></tr>\n",
       "\t<tr><th></th><th scope=col>&lt;int&gt;</th><th scope=col>&lt;chr&gt;</th><th scope=col>&lt;chr&gt;</th><th scope=col>&lt;fct&gt;</th><th scope=col>&lt;int&gt;</th><th scope=col>&lt;int&gt;</th><th scope=col>&lt;chr&gt;</th><th scope=col>&lt;fct&gt;</th><th scope=col>&lt;int&gt;</th></tr>\n",
       "</thead>\n",
       "<tbody>\n",
       "\t<tr><th scope=row>1</th><td>30001</td><td>purchase </td><td>purchase </td><td>branding   </td><td>0</td><td>  0</td><td>2025-05-14</td><td>brand_plus_performance</td><td>1</td></tr>\n",
       "\t<tr><th scope=row>2</th><td>30001</td><td>purchase </td><td>purchase </td><td>branding   </td><td>0</td><td>  0</td><td>2025-05-18</td><td>brand_plus_performance</td><td>2</td></tr>\n",
       "\t<tr><th scope=row>3</th><td>30001</td><td>purchase </td><td>purchase </td><td>performance</td><td>0</td><td>  0</td><td>2025-05-25</td><td>brand_plus_performance</td><td>3</td></tr>\n",
       "\t<tr><th scope=row>4</th><td>30001</td><td>purchase </td><td>purchase </td><td>performance</td><td>1</td><td>100</td><td>2025-06-01</td><td>brand_plus_performance</td><td>4</td></tr>\n",
       "\t<tr><th scope=row>5</th><td>30002</td><td>not aware</td><td>not aware</td><td>branding   </td><td>0</td><td>  0</td><td>2025-04-29</td><td>brand_plus_performance</td><td>1</td></tr>\n",
       "\t<tr><th scope=row>6</th><td>30002</td><td>not aware</td><td>aware    </td><td>branding   </td><td>0</td><td>  0</td><td>2025-05-06</td><td>brand_plus_performance</td><td>2</td></tr>\n",
       "</tbody>\n",
       "</table>\n"
      ],
      "text/latex": [
       "A data.frame: 6 × 9\n",
       "\\begin{tabular}{r|lllllllll}\n",
       "  & user\\_id & current\\_funnel\\_stage & next\\_funnel\\_stage & ad\\_type & purchase & sales & date & campaign\\_type & visit\\\\\n",
       "  & <int> & <chr> & <chr> & <fct> & <int> & <int> & <chr> & <fct> & <int>\\\\\n",
       "\\hline\n",
       "\t1 & 30001 & purchase  & purchase  & branding    & 0 &   0 & 2025-05-14 & brand\\_plus\\_performance & 1\\\\\n",
       "\t2 & 30001 & purchase  & purchase  & branding    & 0 &   0 & 2025-05-18 & brand\\_plus\\_performance & 2\\\\\n",
       "\t3 & 30001 & purchase  & purchase  & performance & 0 &   0 & 2025-05-25 & brand\\_plus\\_performance & 3\\\\\n",
       "\t4 & 30001 & purchase  & purchase  & performance & 1 & 100 & 2025-06-01 & brand\\_plus\\_performance & 4\\\\\n",
       "\t5 & 30002 & not aware & not aware & branding    & 0 &   0 & 2025-04-29 & brand\\_plus\\_performance & 1\\\\\n",
       "\t6 & 30002 & not aware & aware     & branding    & 0 &   0 & 2025-05-06 & brand\\_plus\\_performance & 2\\\\\n",
       "\\end{tabular}\n"
      ],
      "text/markdown": [
       "\n",
       "A data.frame: 6 × 9\n",
       "\n",
       "| <!--/--> | user_id &lt;int&gt; | current_funnel_stage &lt;chr&gt; | next_funnel_stage &lt;chr&gt; | ad_type &lt;fct&gt; | purchase &lt;int&gt; | sales &lt;int&gt; | date &lt;chr&gt; | campaign_type &lt;fct&gt; | visit &lt;int&gt; |\n",
       "|---|---|---|---|---|---|---|---|---|---|\n",
       "| 1 | 30001 | purchase  | purchase  | branding    | 0 |   0 | 2025-05-14 | brand_plus_performance | 1 |\n",
       "| 2 | 30001 | purchase  | purchase  | branding    | 0 |   0 | 2025-05-18 | brand_plus_performance | 2 |\n",
       "| 3 | 30001 | purchase  | purchase  | performance | 0 |   0 | 2025-05-25 | brand_plus_performance | 3 |\n",
       "| 4 | 30001 | purchase  | purchase  | performance | 1 | 100 | 2025-06-01 | brand_plus_performance | 4 |\n",
       "| 5 | 30002 | not aware | not aware | branding    | 0 |   0 | 2025-04-29 | brand_plus_performance | 1 |\n",
       "| 6 | 30002 | not aware | aware     | branding    | 0 |   0 | 2025-05-06 | brand_plus_performance | 2 |\n",
       "\n"
      ],
      "text/plain": [
       "  user_id current_funnel_stage next_funnel_stage ad_type     purchase sales\n",
       "1 30001   purchase             purchase          branding    0          0  \n",
       "2 30001   purchase             purchase          branding    0          0  \n",
       "3 30001   purchase             purchase          performance 0          0  \n",
       "4 30001   purchase             purchase          performance 1        100  \n",
       "5 30002   not aware            not aware         branding    0          0  \n",
       "6 30002   not aware            aware             branding    0          0  \n",
       "  date       campaign_type          visit\n",
       "1 2025-05-14 brand_plus_performance 1    \n",
       "2 2025-05-18 brand_plus_performance 2    \n",
       "3 2025-05-25 brand_plus_performance 3    \n",
       "4 2025-06-01 brand_plus_performance 4    \n",
       "5 2025-04-29 brand_plus_performance 1    \n",
       "6 2025-05-06 brand_plus_performance 2    "
      ]
     },
     "metadata": {},
     "output_type": "display_data"
    }
   ],
   "source": [
    "# inspect the data structure \n",
    "head(df)"
   ]
  },
  {
   "cell_type": "code",
   "execution_count": 6,
   "id": "2a2523bf-44e1-4b3b-8b6c-70032fe88150",
   "metadata": {},
   "outputs": [
    {
     "data": {
      "text/html": [
       "<style>\n",
       ".list-inline {list-style: none; margin:0; padding: 0}\n",
       ".list-inline>li {display: inline-block}\n",
       ".list-inline>li:not(:last-child)::after {content: \"\\00b7\"; padding: 0 .5ex}\n",
       "</style>\n",
       "<ol class=list-inline><li>'purchase'</li><li>'not aware'</li><li>'aware'</li><li>'consider'</li></ol>\n"
      ],
      "text/latex": [
       "\\begin{enumerate*}\n",
       "\\item 'purchase'\n",
       "\\item 'not aware'\n",
       "\\item 'aware'\n",
       "\\item 'consider'\n",
       "\\end{enumerate*}\n"
      ],
      "text/markdown": [
       "1. 'purchase'\n",
       "2. 'not aware'\n",
       "3. 'aware'\n",
       "4. 'consider'\n",
       "\n",
       "\n"
      ],
      "text/plain": [
       "[1] \"purchase\"  \"not aware\" \"aware\"     \"consider\" "
      ]
     },
     "metadata": {},
     "output_type": "display_data"
    }
   ],
   "source": [
    "# all possible funnel stages\n",
    "unique(as.character(df$current_funnel_stage))"
   ]
  },
  {
   "cell_type": "code",
   "execution_count": 7,
   "id": "5977bdd1-34e3-4ead-89ef-8d5a047403ac",
   "metadata": {},
   "outputs": [
    {
     "data": {
      "text/html": [
       "<style>\n",
       ".list-inline {list-style: none; margin:0; padding: 0}\n",
       ".list-inline>li {display: inline-block}\n",
       ".list-inline>li:not(:last-child)::after {content: \"\\00b7\"; padding: 0 .5ex}\n",
       "</style>\n",
       "<ol class=list-inline><li>'branding'</li><li>'performance'</li><li>'none'</li></ol>\n"
      ],
      "text/latex": [
       "\\begin{enumerate*}\n",
       "\\item 'branding'\n",
       "\\item 'performance'\n",
       "\\item 'none'\n",
       "\\end{enumerate*}\n"
      ],
      "text/markdown": [
       "1. 'branding'\n",
       "2. 'performance'\n",
       "3. 'none'\n",
       "\n",
       "\n"
      ],
      "text/plain": [
       "[1] \"branding\"    \"performance\" \"none\"       "
      ]
     },
     "metadata": {},
     "output_type": "display_data"
    }
   ],
   "source": [
    "# all ad types\n",
    "unique(as.character(df$ad_type))"
   ]
  },
  {
   "cell_type": "code",
   "execution_count": 8,
   "id": "2e08d343-3c89-431c-8b56-ce2e3e2fb1e4",
   "metadata": {},
   "outputs": [
    {
     "data": {
      "text/html": [
       "<style>\n",
       ".list-inline {list-style: none; margin:0; padding: 0}\n",
       ".list-inline>li {display: inline-block}\n",
       ".list-inline>li:not(:last-child)::after {content: \"\\00b7\"; padding: 0 .5ex}\n",
       "</style>\n",
       "<ol class=list-inline><li>'brand_plus_performance'</li><li>'branding'</li><li>'control'</li><li>'full_funnel'</li><li>'performance'</li></ol>\n"
      ],
      "text/latex": [
       "\\begin{enumerate*}\n",
       "\\item 'brand\\_plus\\_performance'\n",
       "\\item 'branding'\n",
       "\\item 'control'\n",
       "\\item 'full\\_funnel'\n",
       "\\item 'performance'\n",
       "\\end{enumerate*}\n"
      ],
      "text/markdown": [
       "1. 'brand_plus_performance'\n",
       "2. 'branding'\n",
       "3. 'control'\n",
       "4. 'full_funnel'\n",
       "5. 'performance'\n",
       "\n",
       "\n"
      ],
      "text/plain": [
       "[1] \"brand_plus_performance\" \"branding\"               \"control\"               \n",
       "[4] \"full_funnel\"            \"performance\"           "
      ]
     },
     "metadata": {},
     "output_type": "display_data"
    }
   ],
   "source": [
    "# all campaign types\n",
    "unique(as.character(df$campaign_type))"
   ]
  },
  {
   "cell_type": "markdown",
   "id": "f0e605f7-66eb-41ab-93fd-ae3e22c5308f",
   "metadata": {},
   "source": [
    "#### 1. overall effect of campaign on purchase probability and sales"
   ]
  },
  {
   "cell_type": "code",
   "execution_count": 9,
   "id": "d90c36bb-6f04-49b4-b6d4-50f310a5ee09",
   "metadata": {},
   "outputs": [
    {
     "data": {
      "text/plain": [
       "\n",
       "Call:\n",
       "lm(formula = purchase ~ campaign_type, data = df %>% group_by(user_id) %>% \n",
       "    mutate(purchase = sum(purchase)) %>% distinct(user_id, .keep_all = T))\n",
       "\n",
       "Residuals:\n",
       "    Min      1Q  Median      3Q     Max \n",
       "-0.0953 -0.0834 -0.0638 -0.0423  0.9577 \n",
       "\n",
       "Coefficients:\n",
       "                                     Estimate Std. Error t value Pr(>|t|)    \n",
       "(Intercept)                          0.043000   0.002466  17.436  < 2e-16 ***\n",
       "campaign_typebrand_plus_performance  0.020800   0.003488   5.964 2.48e-09 ***\n",
       "campaign_typebranding               -0.000700   0.003488  -0.201    0.841    \n",
       "campaign_typefull_funnel             0.052300   0.003488  14.996  < 2e-16 ***\n",
       "campaign_typeperformance             0.040400   0.003488  11.584  < 2e-16 ***\n",
       "---\n",
       "Signif. codes:  0 ‘***’ 0.001 ‘**’ 0.01 ‘*’ 0.05 ‘.’ 0.1 ‘ ’ 1\n",
       "\n",
       "Residual standard error: 0.2466 on 49995 degrees of freedom\n",
       "Multiple R-squared:  0.007364,\tAdjusted R-squared:  0.007285 \n",
       "F-statistic: 92.73 on 4 and 49995 DF,  p-value: < 2.2e-16\n"
      ]
     },
     "metadata": {},
     "output_type": "display_data"
    }
   ],
   "source": [
    "# purchase probability as the outcome (all campaigns)\n",
    "# intercept shows purchase probability without any ad\n",
    "# data is aggregated from user-visit level to user level\n",
    "model = lm(purchase ~ campaign_type, \n",
    "           df %>% \n",
    "           group_by(user_id) %>% \n",
    "           mutate(purchase = sum(purchase)) %>% \n",
    "           distinct(user_id, .keep_all = T))\n",
    "summary(model)"
   ]
  },
  {
   "cell_type": "code",
   "execution_count": 10,
   "id": "6865e69b-eea7-4505-a1da-085b8c2e8b40",
   "metadata": {},
   "outputs": [
    {
     "data": {
      "text/plain": [
       "\n",
       "Call:\n",
       "lm(formula = purchase ~ campaign_type, data = df %>% group_by(user_id) %>% \n",
       "    mutate(purchase = sum(purchase)) %>% distinct(user_id, .keep_all = T) %>% \n",
       "    filter(campaign_type %in% c(\"brand_plus_performance\", \"full_funnel\")))\n",
       "\n",
       "Residuals:\n",
       "    Min      1Q  Median      3Q     Max \n",
       "-0.0953 -0.0953 -0.0638 -0.0638  0.9362 \n",
       "\n",
       "Coefficients:\n",
       "                         Estimate Std. Error t value Pr(>|t|)    \n",
       "(Intercept)              0.063800   0.002702  23.617   <2e-16 ***\n",
       "campaign_typefull_funnel 0.031500   0.003820   8.245   <2e-16 ***\n",
       "---\n",
       "Signif. codes:  0 ‘***’ 0.001 ‘**’ 0.01 ‘*’ 0.05 ‘.’ 0.1 ‘ ’ 1\n",
       "\n",
       "Residual standard error: 0.2702 on 19998 degrees of freedom\n",
       "Multiple R-squared:  0.003388,\tAdjusted R-squared:  0.003338 \n",
       "F-statistic: 67.98 on 1 and 19998 DF,  p-value: < 2.2e-16\n"
      ]
     },
     "metadata": {},
     "output_type": "display_data"
    }
   ],
   "source": [
    "# purchase probability as the outcome (directly comparing any two campaigns)\n",
    "model = lm(purchase ~ campaign_type, \n",
    "           df %>% \n",
    "           group_by(user_id) %>% \n",
    "           mutate(purchase = sum(purchase)) %>% \n",
    "           distinct(user_id, .keep_all = T) %>%\n",
    "           filter(campaign_type %in% c('brand_plus_performance', 'full_funnel'))) \n",
    "summary(model)"
   ]
  },
  {
   "cell_type": "code",
   "execution_count": 11,
   "id": "66289169-665b-4c3c-ab68-76e5cc09b451",
   "metadata": {},
   "outputs": [
    {
     "data": {
      "text/plain": [
       "\n",
       "Call:\n",
       "lm(formula = purchase ~ campaign_type, data = df %>% group_by(user_id) %>% \n",
       "    mutate(purchase = sum(purchase)) %>% distinct(user_id, .keep_all = T) %>% \n",
       "    filter(campaign_type %in% c(\"performance\", \"full_funnel\")))\n",
       "\n",
       "Residuals:\n",
       "    Min      1Q  Median      3Q     Max \n",
       "-0.0953 -0.0953 -0.0834 -0.0834  0.9166 \n",
       "\n",
       "Coefficients:\n",
       "                          Estimate Std. Error t value Pr(>|t|)    \n",
       "(Intercept)               0.095300   0.002852   33.41  < 2e-16 ***\n",
       "campaign_typeperformance -0.011900   0.004033   -2.95  0.00318 ** \n",
       "---\n",
       "Signif. codes:  0 ‘***’ 0.001 ‘**’ 0.01 ‘*’ 0.05 ‘.’ 0.1 ‘ ’ 1\n",
       "\n",
       "Residual standard error: 0.2852 on 19998 degrees of freedom\n",
       "Multiple R-squared:  0.0004351,\tAdjusted R-squared:  0.0003851 \n",
       "F-statistic: 8.705 on 1 and 19998 DF,  p-value: 0.003177\n"
      ]
     },
     "metadata": {},
     "output_type": "display_data"
    }
   ],
   "source": [
    "# purchase probability as the outcome (directly comparing any two campaigns)\n",
    "model = lm(purchase ~ campaign_type, \n",
    "           df %>% \n",
    "           group_by(user_id) %>% \n",
    "           mutate(purchase = sum(purchase)) %>% \n",
    "           distinct(user_id, .keep_all = T) %>%\n",
    "           filter(campaign_type %in% c('performance', 'full_funnel')))\n",
    "summary(model)"
   ]
  },
  {
   "cell_type": "code",
   "execution_count": 12,
   "id": "0ff51a15-6245-491c-8a85-c60e32ddf8a6",
   "metadata": {},
   "outputs": [
    {
     "data": {
      "text/plain": [
       "\n",
       "Call:\n",
       "lm(formula = sales ~ campaign_type, data = df %>% group_by(user_id) %>% \n",
       "    mutate(sales = sum(sales)) %>% distinct(user_id, .keep_all = T))\n",
       "\n",
       "Residuals:\n",
       "   Min     1Q Median     3Q    Max \n",
       " -9.53  -8.34  -6.38  -4.23  95.77 \n",
       "\n",
       "Coefficients:\n",
       "                                    Estimate Std. Error t value Pr(>|t|)    \n",
       "(Intercept)                           4.3000     0.2466  17.436  < 2e-16 ***\n",
       "campaign_typebrand_plus_performance   2.0800     0.3488   5.964 2.48e-09 ***\n",
       "campaign_typebranding                -0.0700     0.3488  -0.201    0.841    \n",
       "campaign_typefull_funnel              5.2300     0.3488  14.996  < 2e-16 ***\n",
       "campaign_typeperformance              4.0400     0.3488  11.584  < 2e-16 ***\n",
       "---\n",
       "Signif. codes:  0 ‘***’ 0.001 ‘**’ 0.01 ‘*’ 0.05 ‘.’ 0.1 ‘ ’ 1\n",
       "\n",
       "Residual standard error: 24.66 on 49995 degrees of freedom\n",
       "Multiple R-squared:  0.007364,\tAdjusted R-squared:  0.007285 \n",
       "F-statistic: 92.73 on 4 and 49995 DF,  p-value: < 2.2e-16\n"
      ]
     },
     "metadata": {},
     "output_type": "display_data"
    }
   ],
   "source": [
    "# sales as the outcome (all campaigns)\n",
    "# intercept shows average sales without any ad\n",
    "# data is aggregated from user-visit level to user level\n",
    "model = lm(sales ~ campaign_type, \n",
    "           df %>% \n",
    "           group_by(user_id) %>% \n",
    "           mutate(sales = sum(sales)) %>% \n",
    "           distinct(user_id, .keep_all = T))\n",
    "summary(model)"
   ]
  },
  {
   "cell_type": "code",
   "execution_count": 13,
   "id": "88914643-8e3c-4e2f-a457-abdfd4f0203d",
   "metadata": {},
   "outputs": [
    {
     "data": {
      "text/plain": [
       "\n",
       "Call:\n",
       "lm(formula = sales ~ campaign_type, data = df %>% group_by(user_id) %>% \n",
       "    mutate(sales = sum(sales)) %>% distinct(user_id, .keep_all = T) %>% \n",
       "    filter(campaign_type %in% c(\"brand_plus_performance\", \"full_funnel\")))\n",
       "\n",
       "Residuals:\n",
       "   Min     1Q Median     3Q    Max \n",
       " -9.53  -9.53  -6.38  -6.38  93.62 \n",
       "\n",
       "Coefficients:\n",
       "                         Estimate Std. Error t value Pr(>|t|)    \n",
       "(Intercept)                6.3800     0.2702  23.617   <2e-16 ***\n",
       "campaign_typefull_funnel   3.1500     0.3820   8.245   <2e-16 ***\n",
       "---\n",
       "Signif. codes:  0 ‘***’ 0.001 ‘**’ 0.01 ‘*’ 0.05 ‘.’ 0.1 ‘ ’ 1\n",
       "\n",
       "Residual standard error: 27.02 on 19998 degrees of freedom\n",
       "Multiple R-squared:  0.003388,\tAdjusted R-squared:  0.003338 \n",
       "F-statistic: 67.98 on 1 and 19998 DF,  p-value: < 2.2e-16\n"
      ]
     },
     "metadata": {},
     "output_type": "display_data"
    }
   ],
   "source": [
    "# sales as the outcome (directly comparing any two campaigns)\n",
    "model = lm(sales ~ campaign_type, \n",
    "           df %>% \n",
    "           group_by(user_id) %>% \n",
    "           mutate(sales = sum(sales)) %>% \n",
    "           distinct(user_id, .keep_all = T) %>%\n",
    "           filter(campaign_type %in% c('brand_plus_performance', 'full_funnel')))\n",
    "summary(model)"
   ]
  },
  {
   "cell_type": "code",
   "execution_count": 14,
   "id": "9227af15-dfdb-439a-8df5-e13735c8e42d",
   "metadata": {},
   "outputs": [
    {
     "data": {
      "text/plain": [
       "\n",
       "Call:\n",
       "lm(formula = sales ~ campaign_type, data = df %>% group_by(user_id) %>% \n",
       "    mutate(sales = sum(sales)) %>% distinct(user_id, .keep_all = T) %>% \n",
       "    filter(campaign_type %in% c(\"performance\", \"full_funnel\")))\n",
       "\n",
       "Residuals:\n",
       "   Min     1Q Median     3Q    Max \n",
       " -9.53  -9.53  -8.34  -8.34  91.66 \n",
       "\n",
       "Coefficients:\n",
       "                         Estimate Std. Error t value Pr(>|t|)    \n",
       "(Intercept)                9.5300     0.2852   33.41  < 2e-16 ***\n",
       "campaign_typeperformance  -1.1900     0.4033   -2.95  0.00318 ** \n",
       "---\n",
       "Signif. codes:  0 ‘***’ 0.001 ‘**’ 0.01 ‘*’ 0.05 ‘.’ 0.1 ‘ ’ 1\n",
       "\n",
       "Residual standard error: 28.52 on 19998 degrees of freedom\n",
       "Multiple R-squared:  0.0004351,\tAdjusted R-squared:  0.0003851 \n",
       "F-statistic: 8.705 on 1 and 19998 DF,  p-value: 0.003177\n"
      ]
     },
     "metadata": {},
     "output_type": "display_data"
    }
   ],
   "source": [
    "# sales as the outcome (directly comparing any two campaigns)\n",
    "model = lm(sales ~ campaign_type, \n",
    "           df %>% \n",
    "           group_by(user_id) %>% \n",
    "           mutate(sales = sum(sales)) %>% \n",
    "           distinct(user_id, .keep_all = T) %>%\n",
    "           filter(campaign_type %in% c('performance', 'full_funnel')))\n",
    "summary(model)"
   ]
  },
  {
   "cell_type": "markdown",
   "id": "660cf322-bf0f-4da5-98d5-eb56cea90ffb",
   "metadata": {},
   "source": [
    "#### 2. effect of ad type on funnel progression"
   ]
  },
  {
   "cell_type": "code",
   "execution_count": 15,
   "id": "11a0cfc9-073f-46cc-9b14-10c01fdaaafb",
   "metadata": {},
   "outputs": [],
   "source": [
    "df$stage_progress = ifelse(df$current_funnel_stage == df$next_funnel_stage, 0, 1)"
   ]
  },
  {
   "cell_type": "code",
   "execution_count": 16,
   "id": "c82e03c6-002c-441b-bc40-983c199525b7",
   "metadata": {},
   "outputs": [
    {
     "data": {
      "text/plain": [
       "\n",
       "Call:\n",
       "lm(formula = stage_progress ~ ad_type, data = filter(df, current_funnel_stage == \n",
       "    \"not aware\"))\n",
       "\n",
       "Residuals:\n",
       "     Min       1Q   Median       3Q      Max \n",
       "-0.39943 -0.39943 -0.09907 -0.09669  0.90331 \n",
       "\n",
       "Coefficients:\n",
       "                   Estimate Std. Error t value Pr(>|t|)    \n",
       "(Intercept)        0.096691   0.002519  38.391   <2e-16 ***\n",
       "ad_typebranding    0.302741   0.003168  95.570   <2e-16 ***\n",
       "ad_typeperformance 0.002376   0.003405   0.698    0.485    \n",
       "---\n",
       "Signif. codes:  0 ‘***’ 0.001 ‘**’ 0.01 ‘*’ 0.05 ‘.’ 0.1 ‘ ’ 1\n",
       "\n",
       "Residual standard error: 0.3933 on 95756 degrees of freedom\n",
       "Multiple R-squared:  0.1263,\tAdjusted R-squared:  0.1263 \n",
       "F-statistic:  6922 on 2 and 95756 DF,  p-value: < 2.2e-16\n"
      ]
     },
     "metadata": {},
     "output_type": "display_data"
    }
   ],
   "source": [
    "model = lm(stage_progress ~ ad_type, \n",
    "          filter(df, current_funnel_stage == 'not aware'))\n",
    "summary(model)"
   ]
  },
  {
   "cell_type": "code",
   "execution_count": 17,
   "id": "1c4759c5-17aa-46ca-a494-19d1158fb357",
   "metadata": {
    "scrolled": true
   },
   "outputs": [
    {
     "data": {
      "text/plain": [
       "\n",
       "Call:\n",
       "lm(formula = stage_progress ~ ad_type, data = filter(df, current_funnel_stage == \n",
       "    \"aware\"))\n",
       "\n",
       "Residuals:\n",
       "     Min       1Q   Median       3Q      Max \n",
       "-0.29872 -0.29872 -0.09811 -0.09811  0.90189 \n",
       "\n",
       "Coefficients:\n",
       "                    Estimate Std. Error t value Pr(>|t|)    \n",
       "(Intercept)         0.104838   0.004696  22.325   <2e-16 ***\n",
       "ad_typebranding    -0.006726   0.005439  -1.237    0.216    \n",
       "ad_typeperformance  0.193884   0.005255  36.897   <2e-16 ***\n",
       "---\n",
       "Signif. codes:  0 ‘***’ 0.001 ‘**’ 0.01 ‘*’ 0.05 ‘.’ 0.1 ‘ ’ 1\n",
       "\n",
       "Residual standard error: 0.3873 on 53679 degrees of freedom\n",
       "Multiple R-squared:  0.06189,\tAdjusted R-squared:  0.06186 \n",
       "F-statistic:  1771 on 2 and 53679 DF,  p-value: < 2.2e-16\n"
      ]
     },
     "metadata": {},
     "output_type": "display_data"
    }
   ],
   "source": [
    "model = lm(stage_progress ~ ad_type, \n",
    "          filter(df, current_funnel_stage == 'aware'))\n",
    "summary(model)"
   ]
  },
  {
   "cell_type": "code",
   "execution_count": 18,
   "id": "9b99e65e-ef83-4c35-a148-568d1c3bfaa9",
   "metadata": {},
   "outputs": [
    {
     "data": {
      "text/plain": [
       "\n",
       "Call:\n",
       "lm(formula = stage_progress ~ ad_type, data = filter(df, current_funnel_stage == \n",
       "    \"consider\"))\n",
       "\n",
       "Residuals:\n",
       "     Min       1Q   Median       3Q      Max \n",
       "-0.30193 -0.30193 -0.10162 -0.09758  0.90242 \n",
       "\n",
       "Coefficients:\n",
       "                    Estimate Std. Error t value Pr(>|t|)    \n",
       "(Intercept)         0.101624   0.006234  16.302   <2e-16 ***\n",
       "ad_typebranding    -0.004049   0.007869  -0.514    0.607    \n",
       "ad_typeperformance  0.200303   0.007072  28.325   <2e-16 ***\n",
       "---\n",
       "Signif. codes:  0 ‘***’ 0.001 ‘**’ 0.01 ‘*’ 0.05 ‘.’ 0.1 ‘ ’ 1\n",
       "\n",
       "Residual standard error: 0.3974 on 25076 degrees of freedom\n",
       "Multiple R-squared:  0.0602,\tAdjusted R-squared:  0.06012 \n",
       "F-statistic: 803.1 on 2 and 25076 DF,  p-value: < 2.2e-16\n"
      ]
     },
     "metadata": {},
     "output_type": "display_data"
    }
   ],
   "source": [
    "model = lm(stage_progress ~ ad_type, \n",
    "          filter(df, current_funnel_stage == 'consider'))\n",
    "summary(model)"
   ]
  },
  {
   "cell_type": "markdown",
   "id": "13974442-9361-40df-a794-ab6cbb022edb",
   "metadata": {},
   "source": [
    "#### 3. effect of ad type on purchase probability and sales"
   ]
  },
  {
   "cell_type": "code",
   "execution_count": 19,
   "id": "db200d71-5625-430b-904c-cc741e281da9",
   "metadata": {},
   "outputs": [
    {
     "data": {
      "text/plain": [
       "\n",
       "Call:\n",
       "lm(formula = purchase ~ ad_type, data = filter(df, current_funnel_stage == \n",
       "    \"purchase\"))\n",
       "\n",
       "Residuals:\n",
       "    Min      1Q  Median      3Q     Max \n",
       "-0.2031 -0.2031 -0.1061 -0.1035  0.8965 \n",
       "\n",
       "Coefficients:\n",
       "                    Estimate Std. Error t value Pr(>|t|)    \n",
       "(Intercept)         0.106068   0.005649  18.777   <2e-16 ***\n",
       "ad_typebranding    -0.002585   0.007327  -0.353    0.724    \n",
       "ad_typeperformance  0.097024   0.006609  14.681   <2e-16 ***\n",
       "---\n",
       "Signif. codes:  0 ‘***’ 0.001 ‘**’ 0.01 ‘*’ 0.05 ‘.’ 0.1 ‘ ’ 1\n",
       "\n",
       "Residual standard error: 0.3597 on 20989 degrees of freedom\n",
       "Multiple R-squared:  0.01839,\tAdjusted R-squared:  0.0183 \n",
       "F-statistic: 196.7 on 2 and 20989 DF,  p-value: < 2.2e-16\n"
      ]
     },
     "metadata": {},
     "output_type": "display_data"
    }
   ],
   "source": [
    "# purchase probability as the outcome \n",
    "model = lm(purchase ~ ad_type, \n",
    "          filter(df, current_funnel_stage == 'purchase'))\n",
    "summary(model)"
   ]
  },
  {
   "cell_type": "code",
   "execution_count": 20,
   "id": "eff737c0-1eda-4734-b85a-3a54b261c4f2",
   "metadata": {},
   "outputs": [
    {
     "data": {
      "text/plain": [
       "\n",
       "Call:\n",
       "lm(formula = sales ~ ad_type, data = filter(df, current_funnel_stage == \n",
       "    \"purchase\"))\n",
       "\n",
       "Residuals:\n",
       "   Min     1Q Median     3Q    Max \n",
       "-20.31 -20.31 -10.61 -10.35  89.65 \n",
       "\n",
       "Coefficients:\n",
       "                   Estimate Std. Error t value Pr(>|t|)    \n",
       "(Intercept)         10.6068     0.5649  18.777   <2e-16 ***\n",
       "ad_typebranding     -0.2585     0.7327  -0.353    0.724    \n",
       "ad_typeperformance   9.7024     0.6609  14.681   <2e-16 ***\n",
       "---\n",
       "Signif. codes:  0 ‘***’ 0.001 ‘**’ 0.01 ‘*’ 0.05 ‘.’ 0.1 ‘ ’ 1\n",
       "\n",
       "Residual standard error: 35.97 on 20989 degrees of freedom\n",
       "Multiple R-squared:  0.01839,\tAdjusted R-squared:  0.0183 \n",
       "F-statistic: 196.7 on 2 and 20989 DF,  p-value: < 2.2e-16\n"
      ]
     },
     "metadata": {},
     "output_type": "display_data"
    }
   ],
   "source": [
    "# sales as the outcome \n",
    "model = lm(sales ~ ad_type, \n",
    "          filter(df, current_funnel_stage == 'purchase'))\n",
    "summary(model)"
   ]
  },
  {
   "cell_type": "markdown",
   "id": "9a440a2b-04d1-4ba8-9509-831dd1b89367",
   "metadata": {},
   "source": [
    "#### 4. ROI"
   ]
  },
  {
   "cell_type": "code",
   "execution_count": 21,
   "id": "bf620463-ddc0-4581-93c6-7a06c1648f1b",
   "metadata": {},
   "outputs": [],
   "source": [
    "# cpm (cost per thousand impressions) for branding ad, can be changed \n",
    "cpm = 30 \n",
    "# cpa (cost per action/purchase) for performance ad, can be changed\n",
    "cpa = 10"
   ]
  },
  {
   "cell_type": "code",
   "execution_count": 22,
   "id": "c0b39bb9-0738-48f3-a5b0-a1e785474dd6",
   "metadata": {},
   "outputs": [
    {
     "name": "stdout",
     "output_type": "stream",
     "text": [
      "[1] \"branding ad cost: 1180.77\"\n",
      "[1] \"performance ad cost: 0\"\n",
      "[1] \"total cost: 1180.77\"\n"
     ]
    }
   ],
   "source": [
    "# cost of branding campaign\n",
    "branding_ad_cost = cpm/1000 * df %>% filter(campaign_type == 'branding', ad_type == 'branding') %>% nrow\n",
    "performance_ad_cost = 0\n",
    "cost_branding = branding_ad_cost + performance_ad_cost\n",
    "\n",
    "print(paste(\"branding ad cost:\", branding_ad_cost))\n",
    "print(paste(\"performance ad cost:\", performance_ad_cost))\n",
    "print(paste(\"total cost:\", cost_branding))"
   ]
  },
  {
   "cell_type": "code",
   "execution_count": 23,
   "id": "f7348c75-2903-4480-8783-484572c9a198",
   "metadata": {},
   "outputs": [
    {
     "name": "stdout",
     "output_type": "stream",
     "text": [
      "[1] \"branding ad cost: 0\"\n",
      "[1] \"performance ad cost: 8340\"\n",
      "[1] \"total cost: 8340\"\n"
     ]
    }
   ],
   "source": [
    "# cost of performance campaign\n",
    "branding_ad_cost = 0\n",
    "performance_ad_cost = cpa * df %>% filter(campaign_type == 'performance', ad_type == 'performance') %>% pull(purchase) %>% sum\n",
    "cost_performance = branding_ad_cost + performance_ad_cost\n",
    "\n",
    "print(paste(\"branding ad cost:\", branding_ad_cost))\n",
    "print(paste(\"performance ad cost:\", performance_ad_cost))\n",
    "print(paste(\"total cost:\", cost_performance))"
   ]
  },
  {
   "cell_type": "code",
   "execution_count": 24,
   "id": "7adde533-dbc1-4bb3-8683-350114508aa7",
   "metadata": {},
   "outputs": [
    {
     "name": "stdout",
     "output_type": "stream",
     "text": [
      "[1] \"branding ad cost: 597.15\"\n",
      "[1] \"performance ad cost: 4460\"\n",
      "[1] \"total cost: 5057.15\"\n"
     ]
    }
   ],
   "source": [
    "# cost of brand-plus-performance campaign\n",
    "branding_ad_cost = cpm/1000 * df %>% filter(campaign_type == 'brand_plus_performance', ad_type == 'branding') %>% nrow\n",
    "performance_ad_cost = cpa * df %>% filter(campaign_type == 'brand_plus_performance', ad_type == 'performance') %>% pull(purchase) %>% sum\n",
    "cost_brand_plus_performance = branding_ad_cost + performance_ad_cost\n",
    "\n",
    "print(paste(\"branding ad cost:\", branding_ad_cost))\n",
    "print(paste(\"performance ad cost:\", performance_ad_cost))\n",
    "print(paste(\"total cost:\", cost_brand_plus_performance))"
   ]
  },
  {
   "cell_type": "code",
   "execution_count": 25,
   "id": "87b0c5cd-4e28-49d4-ad2e-b4bd3e752019",
   "metadata": {},
   "outputs": [
    {
     "name": "stdout",
     "output_type": "stream",
     "text": [
      "[1] \"branding ad cost: 460.14\"\n",
      "[1] \"performance ad cost: 9530\"\n",
      "[1] \"total cost: 9990.14\"\n"
     ]
    }
   ],
   "source": [
    "# cost of full-funnel campaign\n",
    "branding_ad_cost = cpm/1000 * df %>% filter(campaign_type == 'full_funnel', ad_type == 'branding') %>% nrow\n",
    "performance_ad_cost = cpa * df %>% filter(campaign_type == 'full_funnel', ad_type == 'performance') %>% pull(purchase) %>% sum\n",
    "cost_full_funnel = branding_ad_cost + performance_ad_cost\n",
    "\n",
    "print(paste(\"branding ad cost:\", branding_ad_cost))\n",
    "print(paste(\"performance ad cost:\", performance_ad_cost))\n",
    "print(paste(\"total cost:\", cost_full_funnel))"
   ]
  },
  {
   "cell_type": "code",
   "execution_count": 26,
   "id": "243933af-a41d-4116-8b00-e7752e300535",
   "metadata": {},
   "outputs": [
    {
     "name": "stdout",
     "output_type": "stream",
     "text": [
      "[1] \"branding campaign ROI: -1.59283349001076\"\n"
     ]
    }
   ],
   "source": [
    "# ROI of branding campaign\n",
    "roi_branding = ((df %>% filter(campaign_type == 'branding') %>% pull(sales) %>% sum - \n",
    "                 df %>% filter(campaign_type == 'control') %>% pull(sales) %>% sum) - cost_branding) / cost_branding\n",
    "print(paste(\"branding campaign ROI:\", roi_branding))"
   ]
  },
  {
   "cell_type": "code",
   "execution_count": 27,
   "id": "0bc37d59-4ad4-4507-a609-84ef7b538e65",
   "metadata": {},
   "outputs": [
    {
     "name": "stdout",
     "output_type": "stream",
     "text": [
      "[1] \"performance campaign ROI: 3.84412470023981\"\n"
     ]
    }
   ],
   "source": [
    "# ROI of performance campaign\n",
    "roi_performance = ((df %>% filter(campaign_type == 'performance') %>% pull(sales) %>% sum - \n",
    "                    df %>% filter(campaign_type == 'control') %>% pull(sales) %>% sum) - cost_performance) / cost_performance\n",
    "print(paste(\"performance campaign ROI:\", roi_performance))"
   ]
  },
  {
   "cell_type": "code",
   "execution_count": 28,
   "id": "29b3bcee-77c1-4585-8964-923cc3dd064b",
   "metadata": {},
   "outputs": [
    {
     "name": "stdout",
     "output_type": "stream",
     "text": [
      "[1] \"brand-plus-performance campaign ROI: 3.11298854097664\"\n"
     ]
    }
   ],
   "source": [
    "# ROI of brand-plus-performance campaign\n",
    "roi_brand_plus_performance = ((df %>% filter(campaign_type == 'brand_plus_performance') %>% pull(sales) %>% sum - \n",
    "                    df %>% filter(campaign_type == 'control') %>% pull(sales) %>% sum) - cost_brand_plus_performance) / cost_brand_plus_performance\n",
    "print(paste(\"brand-plus-performance campaign ROI:\", roi_brand_plus_performance))"
   ]
  },
  {
   "cell_type": "code",
   "execution_count": 29,
   "id": "c1340940-031e-419c-a757-4ab8f630fe08",
   "metadata": {},
   "outputs": [
    {
     "name": "stdout",
     "output_type": "stream",
     "text": [
      "[1] \"full-funnel campaign ROI: 4.23516186960343\"\n"
     ]
    }
   ],
   "source": [
    "# ROI of full-funnel campaign\n",
    "roi_full_funnel = ((df %>% filter(campaign_type == 'full_funnel') %>% pull(sales) %>% sum - \n",
    "                    df %>% filter(campaign_type == 'control') %>% pull(sales) %>% sum) - cost_full_funnel) / cost_full_funnel\n",
    "print(paste(\"full-funnel campaign ROI:\", roi_full_funnel))"
   ]
  },
  {
   "cell_type": "markdown",
   "id": "4c4d0626-781a-4c43-bb75-4a01116ebce1",
   "metadata": {},
   "source": [
    "#### 5. adding a full_funnel group where funnel stages are predicted instead of known"
   ]
  },
  {
   "cell_type": "markdown",
   "id": "9236fb76-7121-426d-9b80-e15d46b133e5",
   "metadata": {},
   "source": [
    "##### high prediction accuracy (90%)"
   ]
  },
  {
   "cell_type": "code",
   "execution_count": 30,
   "id": "36bc9bed-7a92-497c-9751-f6a49953b921",
   "metadata": {},
   "outputs": [],
   "source": [
    "df_predicted = read.csv('data_predicted_high.csv')"
   ]
  },
  {
   "cell_type": "code",
   "execution_count": 31,
   "id": "744da928-1b50-4d8d-8203-7735e5f0ea21",
   "metadata": {},
   "outputs": [],
   "source": [
    "df_predicted$stage_progress = ifelse(df_predicted$current_funnel_stage == df_predicted$next_funnel_stage, 0, 1)"
   ]
  },
  {
   "cell_type": "code",
   "execution_count": 32,
   "id": "af5a5199-dbdc-4702-bfc4-8f2ff27aed6c",
   "metadata": {},
   "outputs": [],
   "source": [
    "df_predicted = rbind(df_predicted, \n",
    "                     df %>% mutate(current_funnel_stage_predicted = current_funnel_stage, # add two predicted funnel stage columns in other conditions so we can stack them up \n",
    "                                  next_funnel_stage_predicted = next_funnel_stage))\n",
    "df_predicted = arrange(df_predicted, campaign_type, user_id, visit)"
   ]
  },
  {
   "cell_type": "code",
   "execution_count": 33,
   "id": "3a657f23-3991-472b-a9ae-18edfd6687a4",
   "metadata": {},
   "outputs": [],
   "source": [
    "# control group as the baseline\n",
    "df_predicted$campaign_type = as.factor(df_predicted$campaign_type)\n",
    "df_predicted$campaign_type <- relevel(df_predicted$campaign_type, ref = 'control')"
   ]
  },
  {
   "cell_type": "code",
   "execution_count": 34,
   "id": "6368462c-2657-4826-8ca6-9770b76d3411",
   "metadata": {},
   "outputs": [],
   "source": [
    "# no ad as the baseline\n",
    "df_predicted$ad_type = as.factor(df_predicted$ad_type)\n",
    "df_predicted$ad_type <- relevel(df_predicted$ad_type, ref = 'none')"
   ]
  },
  {
   "cell_type": "code",
   "execution_count": 35,
   "id": "aae3ef98-73d1-452d-9c47-dfe442f20961",
   "metadata": {},
   "outputs": [
    {
     "data": {
      "text/html": [
       "<table class=\"dataframe\">\n",
       "<caption>A data.frame: 6 × 12</caption>\n",
       "<thead>\n",
       "\t<tr><th></th><th scope=col>user_id</th><th scope=col>current_funnel_stage</th><th scope=col>current_funnel_stage_predicted</th><th scope=col>next_funnel_stage</th><th scope=col>next_funnel_stage_predicted</th><th scope=col>ad_type</th><th scope=col>purchase</th><th scope=col>sales</th><th scope=col>date</th><th scope=col>campaign_type</th><th scope=col>visit</th><th scope=col>stage_progress</th></tr>\n",
       "\t<tr><th></th><th scope=col>&lt;int&gt;</th><th scope=col>&lt;chr&gt;</th><th scope=col>&lt;chr&gt;</th><th scope=col>&lt;chr&gt;</th><th scope=col>&lt;chr&gt;</th><th scope=col>&lt;fct&gt;</th><th scope=col>&lt;int&gt;</th><th scope=col>&lt;int&gt;</th><th scope=col>&lt;chr&gt;</th><th scope=col>&lt;fct&gt;</th><th scope=col>&lt;int&gt;</th><th scope=col>&lt;dbl&gt;</th></tr>\n",
       "</thead>\n",
       "<tbody>\n",
       "\t<tr><th scope=row>1</th><td>30001</td><td>purchase </td><td>purchase </td><td>purchase </td><td>purchase </td><td>branding   </td><td>0</td><td>  0</td><td>2025-05-14</td><td>brand_plus_performance</td><td>1</td><td>0</td></tr>\n",
       "\t<tr><th scope=row>2</th><td>30001</td><td>purchase </td><td>purchase </td><td>purchase </td><td>purchase </td><td>branding   </td><td>0</td><td>  0</td><td>2025-05-18</td><td>brand_plus_performance</td><td>2</td><td>0</td></tr>\n",
       "\t<tr><th scope=row>3</th><td>30001</td><td>purchase </td><td>purchase </td><td>purchase </td><td>purchase </td><td>performance</td><td>0</td><td>  0</td><td>2025-05-25</td><td>brand_plus_performance</td><td>3</td><td>0</td></tr>\n",
       "\t<tr><th scope=row>4</th><td>30001</td><td>purchase </td><td>purchase </td><td>purchase </td><td>purchase </td><td>performance</td><td>1</td><td>100</td><td>2025-06-01</td><td>brand_plus_performance</td><td>4</td><td>0</td></tr>\n",
       "\t<tr><th scope=row>5</th><td>30002</td><td>not aware</td><td>not aware</td><td>not aware</td><td>not aware</td><td>branding   </td><td>0</td><td>  0</td><td>2025-04-29</td><td>brand_plus_performance</td><td>1</td><td>0</td></tr>\n",
       "\t<tr><th scope=row>6</th><td>30002</td><td>not aware</td><td>not aware</td><td>aware    </td><td>aware    </td><td>branding   </td><td>0</td><td>  0</td><td>2025-05-06</td><td>brand_plus_performance</td><td>2</td><td>1</td></tr>\n",
       "</tbody>\n",
       "</table>\n"
      ],
      "text/latex": [
       "A data.frame: 6 × 12\n",
       "\\begin{tabular}{r|llllllllllll}\n",
       "  & user\\_id & current\\_funnel\\_stage & current\\_funnel\\_stage\\_predicted & next\\_funnel\\_stage & next\\_funnel\\_stage\\_predicted & ad\\_type & purchase & sales & date & campaign\\_type & visit & stage\\_progress\\\\\n",
       "  & <int> & <chr> & <chr> & <chr> & <chr> & <fct> & <int> & <int> & <chr> & <fct> & <int> & <dbl>\\\\\n",
       "\\hline\n",
       "\t1 & 30001 & purchase  & purchase  & purchase  & purchase  & branding    & 0 &   0 & 2025-05-14 & brand\\_plus\\_performance & 1 & 0\\\\\n",
       "\t2 & 30001 & purchase  & purchase  & purchase  & purchase  & branding    & 0 &   0 & 2025-05-18 & brand\\_plus\\_performance & 2 & 0\\\\\n",
       "\t3 & 30001 & purchase  & purchase  & purchase  & purchase  & performance & 0 &   0 & 2025-05-25 & brand\\_plus\\_performance & 3 & 0\\\\\n",
       "\t4 & 30001 & purchase  & purchase  & purchase  & purchase  & performance & 1 & 100 & 2025-06-01 & brand\\_plus\\_performance & 4 & 0\\\\\n",
       "\t5 & 30002 & not aware & not aware & not aware & not aware & branding    & 0 &   0 & 2025-04-29 & brand\\_plus\\_performance & 1 & 0\\\\\n",
       "\t6 & 30002 & not aware & not aware & aware     & aware     & branding    & 0 &   0 & 2025-05-06 & brand\\_plus\\_performance & 2 & 1\\\\\n",
       "\\end{tabular}\n"
      ],
      "text/markdown": [
       "\n",
       "A data.frame: 6 × 12\n",
       "\n",
       "| <!--/--> | user_id &lt;int&gt; | current_funnel_stage &lt;chr&gt; | current_funnel_stage_predicted &lt;chr&gt; | next_funnel_stage &lt;chr&gt; | next_funnel_stage_predicted &lt;chr&gt; | ad_type &lt;fct&gt; | purchase &lt;int&gt; | sales &lt;int&gt; | date &lt;chr&gt; | campaign_type &lt;fct&gt; | visit &lt;int&gt; | stage_progress &lt;dbl&gt; |\n",
       "|---|---|---|---|---|---|---|---|---|---|---|---|---|\n",
       "| 1 | 30001 | purchase  | purchase  | purchase  | purchase  | branding    | 0 |   0 | 2025-05-14 | brand_plus_performance | 1 | 0 |\n",
       "| 2 | 30001 | purchase  | purchase  | purchase  | purchase  | branding    | 0 |   0 | 2025-05-18 | brand_plus_performance | 2 | 0 |\n",
       "| 3 | 30001 | purchase  | purchase  | purchase  | purchase  | performance | 0 |   0 | 2025-05-25 | brand_plus_performance | 3 | 0 |\n",
       "| 4 | 30001 | purchase  | purchase  | purchase  | purchase  | performance | 1 | 100 | 2025-06-01 | brand_plus_performance | 4 | 0 |\n",
       "| 5 | 30002 | not aware | not aware | not aware | not aware | branding    | 0 |   0 | 2025-04-29 | brand_plus_performance | 1 | 0 |\n",
       "| 6 | 30002 | not aware | not aware | aware     | aware     | branding    | 0 |   0 | 2025-05-06 | brand_plus_performance | 2 | 1 |\n",
       "\n"
      ],
      "text/plain": [
       "  user_id current_funnel_stage current_funnel_stage_predicted next_funnel_stage\n",
       "1 30001   purchase             purchase                       purchase         \n",
       "2 30001   purchase             purchase                       purchase         \n",
       "3 30001   purchase             purchase                       purchase         \n",
       "4 30001   purchase             purchase                       purchase         \n",
       "5 30002   not aware            not aware                      not aware        \n",
       "6 30002   not aware            not aware                      aware            \n",
       "  next_funnel_stage_predicted ad_type     purchase sales date      \n",
       "1 purchase                    branding    0          0   2025-05-14\n",
       "2 purchase                    branding    0          0   2025-05-18\n",
       "3 purchase                    performance 0          0   2025-05-25\n",
       "4 purchase                    performance 1        100   2025-06-01\n",
       "5 not aware                   branding    0          0   2025-04-29\n",
       "6 aware                       branding    0          0   2025-05-06\n",
       "  campaign_type          visit stage_progress\n",
       "1 brand_plus_performance 1     0             \n",
       "2 brand_plus_performance 2     0             \n",
       "3 brand_plus_performance 3     0             \n",
       "4 brand_plus_performance 4     0             \n",
       "5 brand_plus_performance 1     0             \n",
       "6 brand_plus_performance 2     1             "
      ]
     },
     "metadata": {},
     "output_type": "display_data"
    }
   ],
   "source": [
    "head(df_predicted)"
   ]
  },
  {
   "cell_type": "code",
   "execution_count": 36,
   "id": "3f77acd7-1787-43e9-bcb6-89c3577ded5b",
   "metadata": {},
   "outputs": [
    {
     "data": {
      "text/plain": [
       "\n",
       "Call:\n",
       "lm(formula = purchase ~ campaign_type, data = df_predicted %>% \n",
       "    group_by(user_id) %>% mutate(purchase = sum(purchase)) %>% \n",
       "    distinct(user_id, .keep_all = T))\n",
       "\n",
       "Residuals:\n",
       "    Min      1Q  Median      3Q     Max \n",
       "-0.0953 -0.0909 -0.0638 -0.0430  0.9577 \n",
       "\n",
       "Coefficients:\n",
       "                                     Estimate Std. Error t value Pr(>|t|)    \n",
       "(Intercept)                          0.043000   0.002539  16.937  < 2e-16 ***\n",
       "campaign_typebrand_plus_performance  0.020800   0.003590   5.793 6.94e-09 ***\n",
       "campaign_typebranding               -0.000700   0.003590  -0.195    0.845    \n",
       "campaign_typefull_funnel             0.052300   0.003590  14.567  < 2e-16 ***\n",
       "campaign_typefull_funnel_predicted   0.047900   0.003590  13.341  < 2e-16 ***\n",
       "campaign_typeperformance             0.040400   0.003590  11.252  < 2e-16 ***\n",
       "---\n",
       "Signif. codes:  0 ‘***’ 0.001 ‘**’ 0.01 ‘*’ 0.05 ‘.’ 0.1 ‘ ’ 1\n",
       "\n",
       "Residual standard error: 0.2539 on 59994 degrees of freedom\n",
       "Multiple R-squared:  0.007166,\tAdjusted R-squared:  0.007083 \n",
       "F-statistic:  86.6 on 5 and 59994 DF,  p-value: < 2.2e-16\n"
      ]
     },
     "metadata": {},
     "output_type": "display_data"
    }
   ],
   "source": [
    "# purchase probability as the outcome (all campaigns)\n",
    "# intercept shows average probability without any ad\n",
    "# data is aggregated from user-visit level to user level\n",
    "model = lm(purchase ~ campaign_type, \n",
    "           df_predicted %>% \n",
    "           group_by(user_id) %>% \n",
    "           mutate(purchase = sum(purchase)) %>% \n",
    "           distinct(user_id, .keep_all = T))\n",
    "summary(model)"
   ]
  },
  {
   "cell_type": "code",
   "execution_count": 37,
   "id": "35f4bf4d-7526-40e5-b517-325002fabcdb",
   "metadata": {},
   "outputs": [
    {
     "data": {
      "text/plain": [
       "\n",
       "Call:\n",
       "lm(formula = purchase ~ campaign_type, data = df_predicted %>% \n",
       "    group_by(user_id) %>% mutate(purchase = sum(purchase)) %>% \n",
       "    distinct(user_id, .keep_all = T) %>% filter(campaign_type %in% \n",
       "    c(\"full_funnel_predicted\", \"full_funnel\")))\n",
       "\n",
       "Residuals:\n",
       "    Min      1Q  Median      3Q     Max \n",
       "-0.0953 -0.0953 -0.0909 -0.0909  0.9091 \n",
       "\n",
       "Coefficients:\n",
       "                                    Estimate Std. Error t value Pr(>|t|)    \n",
       "(Intercept)                         0.095300   0.002906  32.797   <2e-16 ***\n",
       "campaign_typefull_funnel_predicted -0.004400   0.004109  -1.071    0.284    \n",
       "---\n",
       "Signif. codes:  0 ‘***’ 0.001 ‘**’ 0.01 ‘*’ 0.05 ‘.’ 0.1 ‘ ’ 1\n",
       "\n",
       "Residual standard error: 0.2906 on 19998 degrees of freedom\n",
       "Multiple R-squared:  5.732e-05,\tAdjusted R-squared:  7.322e-06 \n",
       "F-statistic: 1.146 on 1 and 19998 DF,  p-value: 0.2843\n"
      ]
     },
     "metadata": {},
     "output_type": "display_data"
    }
   ],
   "source": [
    "# purchase probability as the outcome (directly comparing two campaigns)\n",
    "\n",
    "model = lm(purchase ~ campaign_type, \n",
    "           df_predicted %>% \n",
    "           group_by(user_id) %>% \n",
    "           mutate(purchase = sum(purchase)) %>% \n",
    "           distinct(user_id, .keep_all = T) %>%\n",
    "           filter(campaign_type %in% c('full_funnel_predicted', 'full_funnel')))\n",
    "summary(model)"
   ]
  },
  {
   "cell_type": "code",
   "execution_count": 38,
   "id": "5a47fffa-4ef5-414f-b98c-9213a3870a07",
   "metadata": {
    "scrolled": true
   },
   "outputs": [
    {
     "data": {
      "text/plain": [
       "\n",
       "Call:\n",
       "lm(formula = sales ~ campaign_type, data = df_predicted %>% group_by(user_id) %>% \n",
       "    mutate(sales = sum(sales)) %>% distinct(user_id, .keep_all = T))\n",
       "\n",
       "Residuals:\n",
       "   Min     1Q Median     3Q    Max \n",
       " -9.53  -9.09  -6.38  -4.30  95.77 \n",
       "\n",
       "Coefficients:\n",
       "                                    Estimate Std. Error t value Pr(>|t|)    \n",
       "(Intercept)                           4.3000     0.2539  16.937  < 2e-16 ***\n",
       "campaign_typebrand_plus_performance   2.0800     0.3590   5.793 6.94e-09 ***\n",
       "campaign_typebranding                -0.0700     0.3590  -0.195    0.845    \n",
       "campaign_typefull_funnel              5.2300     0.3590  14.567  < 2e-16 ***\n",
       "campaign_typefull_funnel_predicted    4.7900     0.3590  13.341  < 2e-16 ***\n",
       "campaign_typeperformance              4.0400     0.3590  11.252  < 2e-16 ***\n",
       "---\n",
       "Signif. codes:  0 ‘***’ 0.001 ‘**’ 0.01 ‘*’ 0.05 ‘.’ 0.1 ‘ ’ 1\n",
       "\n",
       "Residual standard error: 25.39 on 59994 degrees of freedom\n",
       "Multiple R-squared:  0.007166,\tAdjusted R-squared:  0.007083 \n",
       "F-statistic:  86.6 on 5 and 59994 DF,  p-value: < 2.2e-16\n"
      ]
     },
     "metadata": {},
     "output_type": "display_data"
    }
   ],
   "source": [
    "# sales as the outcome (all campaigns)\n",
    "# intercept shows average sales without any ad\n",
    "# data is aggregated from user-visit level to user level\n",
    "model = lm(sales ~ campaign_type, \n",
    "           df_predicted %>% \n",
    "           group_by(user_id) %>% \n",
    "           mutate(sales = sum(sales)) %>% \n",
    "           distinct(user_id, .keep_all = T))\n",
    "summary(model)"
   ]
  },
  {
   "cell_type": "code",
   "execution_count": 39,
   "id": "f7a8bb86-57f2-4aed-ba5b-81841e913c86",
   "metadata": {},
   "outputs": [
    {
     "data": {
      "text/plain": [
       "\n",
       "Call:\n",
       "lm(formula = sales ~ campaign_type, data = df_predicted %>% group_by(user_id) %>% \n",
       "    mutate(sales = sum(sales)) %>% distinct(user_id, .keep_all = T) %>% \n",
       "    filter(campaign_type %in% c(\"full_funnel_predicted\", \"full_funnel\")))\n",
       "\n",
       "Residuals:\n",
       "   Min     1Q Median     3Q    Max \n",
       " -9.53  -9.53  -9.09  -9.09  90.91 \n",
       "\n",
       "Coefficients:\n",
       "                                   Estimate Std. Error t value Pr(>|t|)    \n",
       "(Intercept)                          9.5300     0.2906  32.797   <2e-16 ***\n",
       "campaign_typefull_funnel_predicted  -0.4400     0.4109  -1.071    0.284    \n",
       "---\n",
       "Signif. codes:  0 ‘***’ 0.001 ‘**’ 0.01 ‘*’ 0.05 ‘.’ 0.1 ‘ ’ 1\n",
       "\n",
       "Residual standard error: 29.06 on 19998 degrees of freedom\n",
       "Multiple R-squared:  5.732e-05,\tAdjusted R-squared:  7.322e-06 \n",
       "F-statistic: 1.146 on 1 and 19998 DF,  p-value: 0.2843\n"
      ]
     },
     "metadata": {},
     "output_type": "display_data"
    }
   ],
   "source": [
    "# sales as the outcome (directly comparing two campaigns)\n",
    "\n",
    "model = lm(sales ~ campaign_type, \n",
    "           df_predicted %>% \n",
    "           group_by(user_id) %>% \n",
    "           mutate(sales = sum(sales)) %>% \n",
    "           distinct(user_id, .keep_all = T) %>%\n",
    "           filter(campaign_type %in% c('full_funnel_predicted', 'full_funnel')))\n",
    "summary(model)"
   ]
  },
  {
   "cell_type": "code",
   "execution_count": 40,
   "id": "5d0f571a-0b84-4203-a0c6-9633d41919f3",
   "metadata": {},
   "outputs": [
    {
     "name": "stdout",
     "output_type": "stream",
     "text": [
      "[1] \"branding ad cost: 458.73\"\n",
      "[1] \"performance ad cost: 8950\"\n",
      "[1] \"total cost: 9408.73\"\n"
     ]
    }
   ],
   "source": [
    "# cost of predicted full-funnel campaign\n",
    "branding_ad_cost = cpm/1000 * df_predicted %>% filter(campaign_type == 'full_funnel_predicted', ad_type == 'branding') %>% nrow\n",
    "performance_ad_cost = cpa * df_predicted %>% filter(campaign_type == 'full_funnel_predicted', ad_type == 'performance') %>% pull(purchase) %>% sum\n",
    "cost_full_funnel_predicted = branding_ad_cost + performance_ad_cost\n",
    "\n",
    "print(paste(\"branding ad cost:\", branding_ad_cost))\n",
    "print(paste(\"performance ad cost:\", performance_ad_cost))\n",
    "print(paste(\"total cost:\", cost_full_funnel_predicted))"
   ]
  },
  {
   "cell_type": "code",
   "execution_count": 41,
   "id": "88754d98-4567-4d86-ab29-63d447addf62",
   "metadata": {},
   "outputs": [
    {
     "name": "stdout",
     "output_type": "stream",
     "text": [
      "[1] \"predicted full-funnel campaign ROI: 4.09101653464389\"\n"
     ]
    }
   ],
   "source": [
    "# ROI of predicted full-funnel campaign\n",
    "roi_full_funnel_predicted = ((df_predicted %>% filter(campaign_type == 'full_funnel_predicted') %>% pull(sales) %>% sum - \n",
    "                    df %>% filter(campaign_type == 'control') %>% pull(sales) %>% sum) - cost_full_funnel_predicted) / cost_full_funnel_predicted\n",
    "print(paste(\"predicted full-funnel campaign ROI:\", roi_full_funnel_predicted))"
   ]
  },
  {
   "cell_type": "markdown",
   "id": "d25b8bf2-9103-4a4b-80ae-6bd0aed7f3bd",
   "metadata": {},
   "source": [
    "##### medium prediction accuracy (60%)"
   ]
  },
  {
   "cell_type": "code",
   "execution_count": 42,
   "id": "eea055f8-37be-499a-85cb-262ac97679a4",
   "metadata": {},
   "outputs": [],
   "source": [
    "df_predicted = read.csv('data_predicted_medium.csv')"
   ]
  },
  {
   "cell_type": "code",
   "execution_count": 43,
   "id": "807e98ab-8cc1-457f-bec0-00c9a43b10ab",
   "metadata": {},
   "outputs": [],
   "source": [
    "df_predicted$stage_progress = ifelse(df_predicted$current_funnel_stage == df_predicted$next_funnel_stage, 0, 1)"
   ]
  },
  {
   "cell_type": "code",
   "execution_count": 44,
   "id": "3cc60043-a94d-4a9b-91b2-5fca368c86a2",
   "metadata": {},
   "outputs": [],
   "source": [
    "df_predicted = rbind(df_predicted, \n",
    "                     df %>% mutate(current_funnel_stage_predicted = current_funnel_stage,\n",
    "                                  next_funnel_stage_predicted = next_funnel_stage))\n",
    "df_predicted = arrange(df_predicted, campaign_type, user_id, visit)"
   ]
  },
  {
   "cell_type": "code",
   "execution_count": 45,
   "id": "9cd9c333-35f1-4519-999e-27fcd3a47575",
   "metadata": {},
   "outputs": [],
   "source": [
    "# control group as the baseline\n",
    "df_predicted$campaign_type = as.factor(df_predicted$campaign_type)\n",
    "df_predicted$campaign_type <- relevel(df_predicted$campaign_type, ref = 'control')"
   ]
  },
  {
   "cell_type": "code",
   "execution_count": 46,
   "id": "34497ee6-5538-4e81-a8ee-df8b656e134c",
   "metadata": {},
   "outputs": [],
   "source": [
    "# no ad as the baseline\n",
    "df_predicted$ad_type = as.factor(df_predicted$ad_type)\n",
    "df_predicted$ad_type <- relevel(df_predicted$ad_type, ref = 'none')"
   ]
  },
  {
   "cell_type": "code",
   "execution_count": 47,
   "id": "baef8edf-a6fa-4467-b8c2-287ebb9ecc75",
   "metadata": {},
   "outputs": [
    {
     "data": {
      "text/plain": [
       "\n",
       "Call:\n",
       "lm(formula = purchase ~ campaign_type, data = df_predicted %>% \n",
       "    group_by(user_id) %>% mutate(purchase = sum(purchase)) %>% \n",
       "    distinct(user_id, .keep_all = T))\n",
       "\n",
       "Residuals:\n",
       "    Min      1Q  Median      3Q     Max \n",
       "-0.0953 -0.0839 -0.0638 -0.0430  0.9577 \n",
       "\n",
       "Coefficients:\n",
       "                                     Estimate Std. Error t value Pr(>|t|)    \n",
       "(Intercept)                          0.043000   0.002520  17.065  < 2e-16 ***\n",
       "campaign_typebrand_plus_performance  0.020800   0.003563   5.837 5.34e-09 ***\n",
       "campaign_typebranding               -0.000700   0.003563  -0.196    0.844    \n",
       "campaign_typefull_funnel             0.052300   0.003563  14.677  < 2e-16 ***\n",
       "campaign_typefull_funnel_predicted   0.040900   0.003563  11.478  < 2e-16 ***\n",
       "campaign_typeperformance             0.040400   0.003563  11.337  < 2e-16 ***\n",
       "---\n",
       "Signif. codes:  0 ‘***’ 0.001 ‘**’ 0.01 ‘*’ 0.05 ‘.’ 0.1 ‘ ’ 1\n",
       "\n",
       "Residual standard error: 0.252 on 59994 degrees of freedom\n",
       "Multiple R-squared:  0.006614,\tAdjusted R-squared:  0.006531 \n",
       "F-statistic: 79.89 on 5 and 59994 DF,  p-value: < 2.2e-16\n"
      ]
     },
     "metadata": {},
     "output_type": "display_data"
    }
   ],
   "source": [
    "# purchase probability as the outcome (all campaigns)\n",
    "# intercept shows average probability without any ad\n",
    "# data is aggregated from user-visit level to user level\n",
    "model = lm(purchase ~ campaign_type, \n",
    "           df_predicted %>% \n",
    "           group_by(user_id) %>% \n",
    "           mutate(purchase = sum(purchase)) %>% \n",
    "           distinct(user_id, .keep_all = T))\n",
    "summary(model)"
   ]
  },
  {
   "cell_type": "code",
   "execution_count": 48,
   "id": "ce8ff7ad-b37f-45cb-8626-2471e9c942c7",
   "metadata": {},
   "outputs": [
    {
     "data": {
      "text/plain": [
       "\n",
       "Call:\n",
       "lm(formula = purchase ~ campaign_type, data = df_predicted %>% \n",
       "    group_by(user_id) %>% mutate(purchase = sum(purchase)) %>% \n",
       "    distinct(user_id, .keep_all = T) %>% filter(campaign_type %in% \n",
       "    c(\"full_funnel_predicted\", \"full_funnel\")))\n",
       "\n",
       "Residuals:\n",
       "    Min      1Q  Median      3Q     Max \n",
       "-0.0953 -0.0953 -0.0839 -0.0839  0.9161 \n",
       "\n",
       "Coefficients:\n",
       "                                    Estimate Std. Error t value Pr(>|t|)    \n",
       "(Intercept)                         0.095300   0.002856  33.372  < 2e-16 ***\n",
       "campaign_typefull_funnel_predicted -0.011400   0.004039  -2.823  0.00476 ** \n",
       "---\n",
       "Signif. codes:  0 ‘***’ 0.001 ‘**’ 0.01 ‘*’ 0.05 ‘.’ 0.1 ‘ ’ 1\n",
       "\n",
       "Residual standard error: 0.2856 on 19998 degrees of freedom\n",
       "Multiple R-squared:  0.0003983,\tAdjusted R-squared:  0.0003483 \n",
       "F-statistic: 7.968 on 1 and 19998 DF,  p-value: 0.004765\n"
      ]
     },
     "metadata": {},
     "output_type": "display_data"
    }
   ],
   "source": [
    "# purchase probability as the outcome (directly comparing two campaigns)\n",
    "model = lm(purchase ~ campaign_type, \n",
    "           df_predicted %>% \n",
    "           group_by(user_id) %>% \n",
    "           mutate(purchase = sum(purchase)) %>% \n",
    "           distinct(user_id, .keep_all = T) %>%\n",
    "           filter(campaign_type %in% c('full_funnel_predicted', 'full_funnel')))\n",
    "summary(model)"
   ]
  },
  {
   "cell_type": "code",
   "execution_count": 49,
   "id": "fd52d75c-4712-4551-bdfc-fd1a5eb7a382",
   "metadata": {},
   "outputs": [
    {
     "data": {
      "text/plain": [
       "\n",
       "Call:\n",
       "lm(formula = sales ~ campaign_type, data = df_predicted %>% group_by(user_id) %>% \n",
       "    mutate(sales = sum(sales)) %>% distinct(user_id, .keep_all = T))\n",
       "\n",
       "Residuals:\n",
       "   Min     1Q Median     3Q    Max \n",
       " -9.53  -8.39  -6.38  -4.30  95.77 \n",
       "\n",
       "Coefficients:\n",
       "                                    Estimate Std. Error t value Pr(>|t|)    \n",
       "(Intercept)                           4.3000     0.2520  17.065  < 2e-16 ***\n",
       "campaign_typebrand_plus_performance   2.0800     0.3564   5.837 5.34e-09 ***\n",
       "campaign_typebranding                -0.0700     0.3564  -0.196    0.844    \n",
       "campaign_typefull_funnel              5.2300     0.3564  14.677  < 2e-16 ***\n",
       "campaign_typefull_funnel_predicted    4.0900     0.3564  11.478  < 2e-16 ***\n",
       "campaign_typeperformance              4.0400     0.3564  11.337  < 2e-16 ***\n",
       "---\n",
       "Signif. codes:  0 ‘***’ 0.001 ‘**’ 0.01 ‘*’ 0.05 ‘.’ 0.1 ‘ ’ 1\n",
       "\n",
       "Residual standard error: 25.2 on 59994 degrees of freedom\n",
       "Multiple R-squared:  0.006614,\tAdjusted R-squared:  0.006531 \n",
       "F-statistic: 79.89 on 5 and 59994 DF,  p-value: < 2.2e-16\n"
      ]
     },
     "metadata": {},
     "output_type": "display_data"
    }
   ],
   "source": [
    "# sales as the outcome (all campaigns)\n",
    "# intercept shows average sales without any ad\n",
    "# data is aggregated from user-visit level to user level\n",
    "model = lm(sales ~ campaign_type, \n",
    "           df_predicted %>% \n",
    "           group_by(user_id) %>% \n",
    "           mutate(sales = sum(sales)) %>% \n",
    "           distinct(user_id, .keep_all = T))\n",
    "summary(model)"
   ]
  },
  {
   "cell_type": "code",
   "execution_count": 50,
   "id": "b3754465-aae6-4bba-89a7-1381bf61df1c",
   "metadata": {},
   "outputs": [
    {
     "data": {
      "text/plain": [
       "\n",
       "Call:\n",
       "lm(formula = sales ~ campaign_type, data = df_predicted %>% group_by(user_id) %>% \n",
       "    mutate(sales = sum(sales)) %>% distinct(user_id, .keep_all = T) %>% \n",
       "    filter(campaign_type %in% c(\"full_funnel_predicted\", \"full_funnel\")))\n",
       "\n",
       "Residuals:\n",
       "   Min     1Q Median     3Q    Max \n",
       " -9.53  -9.53  -8.39  -8.39  91.61 \n",
       "\n",
       "Coefficients:\n",
       "                                   Estimate Std. Error t value Pr(>|t|)    \n",
       "(Intercept)                          9.5300     0.2856  33.372  < 2e-16 ***\n",
       "campaign_typefull_funnel_predicted  -1.1400     0.4039  -2.823  0.00476 ** \n",
       "---\n",
       "Signif. codes:  0 ‘***’ 0.001 ‘**’ 0.01 ‘*’ 0.05 ‘.’ 0.1 ‘ ’ 1\n",
       "\n",
       "Residual standard error: 28.56 on 19998 degrees of freedom\n",
       "Multiple R-squared:  0.0003983,\tAdjusted R-squared:  0.0003483 \n",
       "F-statistic: 7.968 on 1 and 19998 DF,  p-value: 0.004765\n"
      ]
     },
     "metadata": {},
     "output_type": "display_data"
    }
   ],
   "source": [
    "# sales as the outcome (directly comparing two campaigns)\n",
    "model = lm(sales ~ campaign_type, \n",
    "           df_predicted %>% \n",
    "           group_by(user_id) %>% \n",
    "           mutate(sales = sum(sales)) %>% \n",
    "           distinct(user_id, .keep_all = T) %>%\n",
    "           filter(campaign_type %in% c('full_funnel_predicted', 'full_funnel')))\n",
    "summary(model)"
   ]
  },
  {
   "cell_type": "code",
   "execution_count": 51,
   "id": "e7d7e2f9-5cb3-4fa3-bc0d-fc5337d04445",
   "metadata": {},
   "outputs": [
    {
     "name": "stdout",
     "output_type": "stream",
     "text": [
      "[1] \"branding ad cost: 417.12\"\n",
      "[1] \"performance ad cost: 7770\"\n",
      "[1] \"total cost: 8187.12\"\n"
     ]
    }
   ],
   "source": [
    "# cost of predicted full-funnel campaign\n",
    "branding_ad_cost = cpm/1000 * df_predicted %>% filter(campaign_type == 'full_funnel_predicted', ad_type == 'branding') %>% nrow\n",
    "performance_ad_cost = cpa * df_predicted %>% filter(campaign_type == 'full_funnel_predicted', ad_type == 'performance') %>% pull(purchase) %>% sum\n",
    "cost_full_funnel_predicted = branding_ad_cost + performance_ad_cost\n",
    "\n",
    "print(paste(\"branding ad cost:\", branding_ad_cost))\n",
    "print(paste(\"performance ad cost:\", performance_ad_cost))\n",
    "print(paste(\"total cost:\", cost_full_funnel_predicted))"
   ]
  },
  {
   "cell_type": "code",
   "execution_count": 52,
   "id": "ebcf8624-59bb-4fcd-b101-935b786f63ad",
   "metadata": {},
   "outputs": [
    {
     "name": "stdout",
     "output_type": "stream",
     "text": [
      "[1] \"predicted full-funnel campaign ROI: 3.99565170658302\"\n"
     ]
    }
   ],
   "source": [
    "# ROI of predicted full-funnel campaign\n",
    "roi_full_funnel_predicted = ((df_predicted %>% filter(campaign_type == 'full_funnel_predicted') %>% pull(sales) %>% sum - \n",
    "                    df %>% filter(campaign_type == 'control') %>% pull(sales) %>% sum) - cost_full_funnel_predicted) / cost_full_funnel_predicted\n",
    "print(paste(\"predicted full-funnel campaign ROI:\", roi_full_funnel_predicted))"
   ]
  },
  {
   "cell_type": "markdown",
   "id": "8694cb78-ebb9-4bc3-bfed-4dd2859e97f0",
   "metadata": {},
   "source": [
    "##### low prediction accuracy (30%)"
   ]
  },
  {
   "cell_type": "code",
   "execution_count": 53,
   "id": "be460e22-d059-4b10-a0a1-232b40ec45e4",
   "metadata": {},
   "outputs": [],
   "source": [
    "df_predicted = read.csv('data_predicted_low.csv')"
   ]
  },
  {
   "cell_type": "code",
   "execution_count": 54,
   "id": "c091d575-402d-4292-9e3c-d9c0f15558b2",
   "metadata": {},
   "outputs": [],
   "source": [
    "df_predicted$stage_progress = ifelse(df_predicted$current_funnel_stage == df_predicted$next_funnel_stage, 0, 1)"
   ]
  },
  {
   "cell_type": "code",
   "execution_count": 55,
   "id": "68c8c3c8-82c2-432d-82b8-ee8cdad80f98",
   "metadata": {},
   "outputs": [],
   "source": [
    "df_predicted = rbind(df_predicted, \n",
    "                     df %>% mutate(current_funnel_stage_predicted = current_funnel_stage,\n",
    "                                  next_funnel_stage_predicted = next_funnel_stage))\n",
    "df_predicted = arrange(df_predicted, campaign_type, user_id, visit)"
   ]
  },
  {
   "cell_type": "code",
   "execution_count": 56,
   "id": "9562847b-952c-4f16-8f65-57617d763074",
   "metadata": {},
   "outputs": [],
   "source": [
    "# control group as the baseline\n",
    "df_predicted$campaign_type = as.factor(df_predicted$campaign_type)\n",
    "df_predicted$campaign_type <- relevel(df_predicted$campaign_type, ref = 'control')"
   ]
  },
  {
   "cell_type": "code",
   "execution_count": 57,
   "id": "fc6d0030-4875-4ebe-badc-e0aff5d131cc",
   "metadata": {},
   "outputs": [],
   "source": [
    "# no ad as the baseline\n",
    "df_predicted$ad_type = as.factor(df_predicted$ad_type)\n",
    "df_predicted$ad_type <- relevel(df_predicted$ad_type, ref = 'none')"
   ]
  },
  {
   "cell_type": "code",
   "execution_count": 58,
   "id": "ef23e506-158a-48c7-957f-8f03b581f7a8",
   "metadata": {},
   "outputs": [
    {
     "data": {
      "text/plain": [
       "\n",
       "Call:\n",
       "lm(formula = purchase ~ campaign_type, data = df_predicted %>% \n",
       "    group_by(user_id) %>% mutate(purchase = sum(purchase)) %>% \n",
       "    distinct(user_id, .keep_all = T))\n",
       "\n",
       "Residuals:\n",
       "    Min      1Q  Median      3Q     Max \n",
       "-0.0953 -0.0834 -0.0638 -0.0430  0.9577 \n",
       "\n",
       "Coefficients:\n",
       "                                     Estimate Std. Error t value Pr(>|t|)    \n",
       "(Intercept)                          0.043000   0.002506  17.162  < 2e-16 ***\n",
       "campaign_typebrand_plus_performance  0.020800   0.003544   5.870 4.38e-09 ***\n",
       "campaign_typebranding               -0.000700   0.003544  -0.198    0.843    \n",
       "campaign_typefull_funnel             0.052300   0.003544  14.760  < 2e-16 ***\n",
       "campaign_typefull_funnel_predicted   0.035800   0.003544  10.103  < 2e-16 ***\n",
       "campaign_typeperformance             0.040400   0.003544  11.401  < 2e-16 ***\n",
       "---\n",
       "Signif. codes:  0 ‘***’ 0.001 ‘**’ 0.01 ‘*’ 0.05 ‘.’ 0.1 ‘ ’ 1\n",
       "\n",
       "Residual standard error: 0.2506 on 59994 degrees of freedom\n",
       "Multiple R-squared:  0.006337,\tAdjusted R-squared:  0.006254 \n",
       "F-statistic: 76.52 on 5 and 59994 DF,  p-value: < 2.2e-16\n"
      ]
     },
     "metadata": {},
     "output_type": "display_data"
    }
   ],
   "source": [
    "# purchase probability as the outcome (all campaigns)\n",
    "# intercept shows average probability without any ad\n",
    "# data is aggregated from user-visit level to user level\n",
    "model = lm(purchase ~ campaign_type, \n",
    "           df_predicted %>% \n",
    "           group_by(user_id) %>% \n",
    "           mutate(purchase = sum(purchase)) %>% \n",
    "           distinct(user_id, .keep_all = T))\n",
    "summary(model)"
   ]
  },
  {
   "cell_type": "code",
   "execution_count": 59,
   "id": "94819bf5-3935-4a35-ae58-f784ceb18fba",
   "metadata": {},
   "outputs": [
    {
     "data": {
      "text/plain": [
       "\n",
       "Call:\n",
       "lm(formula = purchase ~ campaign_type, data = df_predicted %>% \n",
       "    group_by(user_id) %>% mutate(purchase = sum(purchase)) %>% \n",
       "    distinct(user_id, .keep_all = T) %>% filter(campaign_type %in% \n",
       "    c(\"full_funnel_predicted\", \"full_funnel\")))\n",
       "\n",
       "Residuals:\n",
       "    Min      1Q  Median      3Q     Max \n",
       "-0.0953 -0.0953 -0.0788 -0.0788  0.9212 \n",
       "\n",
       "Coefficients:\n",
       "                                    Estimate Std. Error t value Pr(>|t|)    \n",
       "(Intercept)                         0.095300   0.002818   33.82  < 2e-16 ***\n",
       "campaign_typefull_funnel_predicted -0.016500   0.003985   -4.14 3.48e-05 ***\n",
       "---\n",
       "Signif. codes:  0 ‘***’ 0.001 ‘**’ 0.01 ‘*’ 0.05 ‘.’ 0.1 ‘ ’ 1\n",
       "\n",
       "Residual standard error: 0.2818 on 19998 degrees of freedom\n",
       "Multiple R-squared:  0.0008564,\tAdjusted R-squared:  0.0008065 \n",
       "F-statistic: 17.14 on 1 and 19998 DF,  p-value: 3.484e-05\n"
      ]
     },
     "metadata": {},
     "output_type": "display_data"
    }
   ],
   "source": [
    "# purchase probability as the outcome (directly comparing two campaigns)\n",
    "model = lm(purchase ~ campaign_type, \n",
    "           df_predicted %>% \n",
    "           group_by(user_id) %>% \n",
    "           mutate(purchase = sum(purchase)) %>% \n",
    "           distinct(user_id, .keep_all = T) %>%\n",
    "           filter(campaign_type %in% c('full_funnel_predicted', 'full_funnel')))\n",
    "summary(model)"
   ]
  },
  {
   "cell_type": "code",
   "execution_count": 60,
   "id": "6831c0ec-4099-4eac-a659-9ade60295df9",
   "metadata": {},
   "outputs": [
    {
     "data": {
      "text/plain": [
       "\n",
       "Call:\n",
       "lm(formula = sales ~ campaign_type, data = df_predicted %>% group_by(user_id) %>% \n",
       "    mutate(sales = sum(sales)) %>% distinct(user_id, .keep_all = T))\n",
       "\n",
       "Residuals:\n",
       "   Min     1Q Median     3Q    Max \n",
       " -9.53  -8.34  -6.38  -4.30  95.77 \n",
       "\n",
       "Coefficients:\n",
       "                                    Estimate Std. Error t value Pr(>|t|)    \n",
       "(Intercept)                           4.3000     0.2506  17.162  < 2e-16 ***\n",
       "campaign_typebrand_plus_performance   2.0800     0.3543   5.870 4.38e-09 ***\n",
       "campaign_typebranding                -0.0700     0.3543  -0.198    0.843    \n",
       "campaign_typefull_funnel              5.2300     0.3543  14.760  < 2e-16 ***\n",
       "campaign_typefull_funnel_predicted    3.5800     0.3543  10.103  < 2e-16 ***\n",
       "campaign_typeperformance              4.0400     0.3543  11.401  < 2e-16 ***\n",
       "---\n",
       "Signif. codes:  0 ‘***’ 0.001 ‘**’ 0.01 ‘*’ 0.05 ‘.’ 0.1 ‘ ’ 1\n",
       "\n",
       "Residual standard error: 25.06 on 59994 degrees of freedom\n",
       "Multiple R-squared:  0.006337,\tAdjusted R-squared:  0.006254 \n",
       "F-statistic: 76.52 on 5 and 59994 DF,  p-value: < 2.2e-16\n"
      ]
     },
     "metadata": {},
     "output_type": "display_data"
    }
   ],
   "source": [
    "# sales as the outcome (all campaigns)\n",
    "# intercept shows average sales without any ad\n",
    "# data is aggregated from user-visit level to user level\n",
    "model = lm(sales ~ campaign_type, \n",
    "           df_predicted %>% \n",
    "           group_by(user_id) %>% \n",
    "           mutate(sales = sum(sales)) %>% \n",
    "           distinct(user_id, .keep_all = T))\n",
    "summary(model)"
   ]
  },
  {
   "cell_type": "code",
   "execution_count": 61,
   "id": "3471d7bf-aa12-4698-8140-352ac4c8580c",
   "metadata": {},
   "outputs": [
    {
     "data": {
      "text/plain": [
       "\n",
       "Call:\n",
       "lm(formula = sales ~ campaign_type, data = df_predicted %>% group_by(user_id) %>% \n",
       "    mutate(sales = sum(sales)) %>% distinct(user_id, .keep_all = T) %>% \n",
       "    filter(campaign_type %in% c(\"full_funnel_predicted\", \"full_funnel\")))\n",
       "\n",
       "Residuals:\n",
       "   Min     1Q Median     3Q    Max \n",
       " -9.53  -9.53  -7.88  -7.88  92.12 \n",
       "\n",
       "Coefficients:\n",
       "                                   Estimate Std. Error t value Pr(>|t|)    \n",
       "(Intercept)                          9.5300     0.2818   33.82  < 2e-16 ***\n",
       "campaign_typefull_funnel_predicted  -1.6500     0.3985   -4.14 3.48e-05 ***\n",
       "---\n",
       "Signif. codes:  0 ‘***’ 0.001 ‘**’ 0.01 ‘*’ 0.05 ‘.’ 0.1 ‘ ’ 1\n",
       "\n",
       "Residual standard error: 28.18 on 19998 degrees of freedom\n",
       "Multiple R-squared:  0.0008564,\tAdjusted R-squared:  0.0008065 \n",
       "F-statistic: 17.14 on 1 and 19998 DF,  p-value: 3.484e-05\n"
      ]
     },
     "metadata": {},
     "output_type": "display_data"
    }
   ],
   "source": [
    "# sales as the outcome (directly comparing two campaigns)\n",
    "model = lm(sales ~ campaign_type, \n",
    "           df_predicted %>% \n",
    "           group_by(user_id) %>% \n",
    "           mutate(sales = sum(sales)) %>% \n",
    "           distinct(user_id, .keep_all = T) %>%\n",
    "           filter(campaign_type %in% c('full_funnel_predicted', 'full_funnel')))\n",
    "summary(model)"
   ]
  },
  {
   "cell_type": "code",
   "execution_count": 62,
   "id": "1bb3055f-431e-4066-8715-c44f3d817612",
   "metadata": {},
   "outputs": [
    {
     "name": "stdout",
     "output_type": "stream",
     "text": [
      "[1] \"branding ad cost: 314.28\"\n",
      "[1] \"performance ad cost: 6920\"\n",
      "[1] \"total cost: 7234.28\"\n"
     ]
    }
   ],
   "source": [
    "# cost of predicted full-funnel campaign\n",
    "branding_ad_cost = cpm/1000 * df_predicted %>% filter(campaign_type == 'full_funnel_predicted', ad_type == 'branding') %>% nrow\n",
    "performance_ad_cost = cpa * df_predicted %>% filter(campaign_type == 'full_funnel_predicted', ad_type == 'performance') %>% pull(purchase) %>% sum\n",
    "cost_full_funnel_predicted = branding_ad_cost + performance_ad_cost\n",
    "\n",
    "print(paste(\"branding ad cost:\", branding_ad_cost))\n",
    "print(paste(\"performance ad cost:\", performance_ad_cost))\n",
    "print(paste(\"total cost:\", cost_full_funnel_predicted))"
   ]
  },
  {
   "cell_type": "code",
   "execution_count": 63,
   "id": "3a64f785-2eeb-4569-93a6-4082acb5b325",
   "metadata": {},
   "outputs": [
    {
     "name": "stdout",
     "output_type": "stream",
     "text": [
      "[1] \"predicted full-funnel campaign ROI: 3.9486610968887\"\n"
     ]
    }
   ],
   "source": [
    "# ROI of predicted full-funnel campaign\n",
    "roi_full_funnel_predicted = ((df_predicted %>% filter(campaign_type == 'full_funnel_predicted') %>% pull(sales) %>% sum - \n",
    "                    df %>% filter(campaign_type == 'control') %>% pull(sales) %>% sum) - cost_full_funnel_predicted) / cost_full_funnel_predicted\n",
    "print(paste(\"predicted full-funnel campaign ROI:\", roi_full_funnel_predicted))"
   ]
  }
 ],
 "metadata": {
  "kernelspec": {
   "display_name": "R",
   "language": "R",
   "name": "ir"
  },
  "language_info": {
   "codemirror_mode": "r",
   "file_extension": ".r",
   "mimetype": "text/x-r-source",
   "name": "R",
   "pygments_lexer": "r",
   "version": "4.3.2"
  }
 },
 "nbformat": 4,
 "nbformat_minor": 5
}
